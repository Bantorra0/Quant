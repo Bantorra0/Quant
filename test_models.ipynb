{
 "cells": [
  {
   "cell_type": "code",
   "execution_count": null,
   "metadata": {},
   "outputs": [],
   "source": [
    "import numpy as np\n",
    "import pandas as pd\n",
    "import db_operations as dbop\n",
    "from data_prepare import prepare_data,gen_y, drop_null, feature_select,label\n",
    "\n",
    "import xgboost.sklearn as xgb\n",
    "import lightgbm.sklearn as lgbm\n",
    "import sklearn.metrics as metrics\n",
    "import time\n",
    "import sklearn.preprocessing as preproc\n",
    "\n",
    "import matplotlib.pyplot as plt\n",
    "\n",
    "\n",
    "def gen_data(pred_period=20,\n",
    "             lower_bound=\"2011-01-01\",\n",
    "             start=\"2014-01-01\"):\n",
    "    db_type = \"sqlite3\"\n",
    "    conn = dbop.connect_db(db_type)\n",
    "    cursor = conn.cursor()\n",
    "\n",
    "    df_all, cols_future = prepare_data(cursor, pred_period=pred_period,\n",
    "                                       start=lower_bound)\n",
    "\n",
    "    data_period = (df_all.index >= start)\n",
    "    df_all = df_all[data_period]\n",
    "\n",
    "    df_all = df_all[df_all[\"amt\"] != 0]\n",
    "    return df_all, cols_future\n",
    "\n",
    "\n",
    "def gen_X(df_all:pd.DataFrame,cols_future, scaler=None, selector=None):\n",
    "    features = df_all.columns.difference(cols_future + [\"code\"])\n",
    "    X = df_all[features]\n",
    "    if scaler:\n",
    "        X = X.transform(X)\n",
    "    if selector:\n",
    "        X = X.transform(X)\n",
    "    return X\n",
    "\n",
    "\n",
    "def gen_dataset(pred_period=20,\n",
    "             lower_bound=\"2011-01-01\",\n",
    "             start=\"2014-01-01\", \n",
    "             test_start=\"2018-01-01\",\n",
    "             label_type=None,\n",
    "             is_drop_null=False, \n",
    "             is_normalized=False,\n",
    "             is_feature_selected=False):\n",
    "    \"\"\"\n",
    "    Generate training and testing data to be passed to train().\n",
    "    :param pred_period:\n",
    "    :param is_drop_null:\n",
    "    :param is_normalized:\n",
    "    :param is_feature_selected:\n",
    "    :return:\n",
    "    \"\"\"\n",
    "    df_all,cols_future = gen_data(pred_period,lower_bound,start)\n",
    "\n",
    "    y = gen_y(df_all, threshold=0.15, pred_period=pred_period,label_type=label_type)\n",
    "    print(\"null:\", sum(y.isnull()))\n",
    "\n",
    "    features = df_all.columns.difference(cols_future + [\"code\"])\n",
    "\n",
    "    X_full = df_all[y.notnull()]\n",
    "    X = X_full[features]\n",
    "    y = y.dropna()\n",
    "    if is_drop_null:\n",
    "        X, y = drop_null(X, y)\n",
    "\n",
    "    print(\"X_full,X,y:\", X_full.shape, X.shape, y.shape)\n",
    "    print(\"total positive\", sum(y))\n",
    "\n",
    "    test_period = (X.index >= test_start)\n",
    "    X_train, y_train = X[~test_period], y[~test_period]\n",
    "    X_test, y_test = X[test_period], y[test_period]\n",
    "    print(X_test.shape, y_test.shape)\n",
    "    print(\"test positive:\", sum(y_test))\n",
    "\n",
    "    X_train_full = X_full[~test_period]\n",
    "    X_test_full = X_full[test_period]\n",
    "    print(X_test_full.shape, X_test.shape)\n",
    "\n",
    "    scaler = None\n",
    "    if is_normalized:\n",
    "        scaler = preproc.StandardScaler()\n",
    "        X_train = scaler.fit_transform(X_train)\n",
    "        X_test = scaler.transform(X_test)\n",
    "\n",
    "    selector=None\n",
    "    if is_feature_selected:\n",
    "        X_train, selector = feature_select(X_train, y_train)\n",
    "        X_test = selector.transform(X_test)\n",
    "\n",
    "    return (X_train, y_train), (X_test, y_test), (X_train_full, \n",
    "                                                  X_test_full),(scaler,selector)\n"
   ]
  },
  {
   "cell_type": "code",
   "execution_count": 15,
   "metadata": {},
   "outputs": [
    {
     "name": "stdout",
     "output_type": "stream",
     "text": [
      "                 code      open      high       low     close        vol  \\\ndate                                                                       \n2018-01-02  002217.SZ  56.11754  56.45492  55.55524  56.00508  191532.71   \n\n                   amt  adj_factor  \ndate                                \n2018-01-02  190581.978       5.623  \n                 code      open      high       low     close        vol  \\\n2018-01-02  002217.SZ  56.11754  56.45492  55.55524  56.00508  191532.71   \n\n                   amt  adj_factor  change_rate_p1mv_open  \\\n2018-01-02  190581.978       5.623               0.007014   \n\n            change_rate_p1mv_high        ...          \\\n2018-01-02                0.00996        ...           \n\n            change_rate_p250mean_amt  f1mv_open  f1mv_high  f1mv_low  \\\n2018-01-02                  0.063479   55.83639   58.14182  55.78016   \n\n            f1mv_close  f19max_f2mv_high  f20min_f1mv_low  f6mean_f2mv_open  \\\n2018-01-02    57.80444          58.31051         47.28943         56.745442   \n\n            f6mean_f8mv_open  f7mean_f14mv_open  \n2018-01-02         52.097095          52.454557  \n\n[1 rows x 132 columns]\n"
     ]
    },
    {
     "name": "stdout",
     "output_type": "stream",
     "text": [
      "['000001.SZ'] (2370, 132)\n['000001.SZ'] (182, 132)\n['000002.SZ'] (2370, 132)\n['000002.SZ'] (182, 132)\n['000063.SZ'] (2370, 132)\n['000063.SZ'] (182, 132)\n['000070.SZ'] (2370, 132)\n['000070.SZ'] (182, 132)\n['000333.SZ'] (1227, 132)\n['000333.SZ'] (182, 132)\n['000636.SZ'] (2370, 132)\n['000636.SZ'] (182, 132)\n['000651.SZ'] (2370, 132)\n['000651.SZ'] (182, 132)\n['000725.SZ'] (2370, 132)\n['000725.SZ'] (182, 132)\n['000858.SZ'] (2370, 132)\n['000858.SZ'] (182, 132)\n['002027.SZ'] (2370, 132)\n['002027.SZ'] (182, 132)\n['002217.SZ'] (2370, 132)\n['002217.SZ'] (182, 132)\n['002236.SZ'] (2370, 132)\n['002236.SZ'] (182, 132)\n['002335.SZ'] (2119, 132)\n['002335.SZ'] (182, 132)\n['002359.SZ'] (2099, 132)\n['002359.SZ'] (182, 132)\n['002402.SZ'] (2042, 132)\n['002402.SZ'] (182, 132)\n['002415.SZ'] (2029, 132)\n['002415.SZ'] (182, 132)\n['002446.SZ'] (2000, 132)\n['002446.SZ'] (182, 132)\n['002913.SZ'] (203, 132)\n['002913.SZ'] (182, 132)\n['300038.SZ'] (2122, 132)\n['300038.SZ'] (182, 132)\n['300059.SZ'] (2077, 132)\n['300059.SZ'] (182, 132)\n['300068.SZ'] (2055, 132)\n['300068.SZ'] (182, 132)\n['300113.SZ'] (1967, 132)\n['300113.SZ'] (182, 132)\n['300292.SZ'] (1605, 132)\n['300292.SZ'] (182, 132)\n['300679.SZ'] (287, 132)\n['300679.SZ'] (182, 132)\n['600050.SH'] (2370, 132)\n['600050.SH'] (182, 132)\n['600276.SH'] (2370, 132)\n['600276.SH'] (182, 132)\n['600345.SH'] (2370, 132)\n['600345.SH'] (182, 132)\n['600487.SH'] (2370, 132)\n['600487.SH'] (182, 132)\n['600519.SH'] (2370, 132)\n['600519.SH'] (182, 132)\n['600522.SH'] (2370, 132)\n['600522.SH'] (182, 132)\n['600536.SH'] (2370, 132)\n['600536.SH'] (182, 132)\n['600703.SH'] (2370, 132)\n['600703.SH'] (182, 132)\n['600779.SH'] (2370, 132)\n['600779.SH'] (182, 132)\n['600887.SH'] (2370, 132)\n['600887.SH'] (182, 132)\n['601138.SH'] (78, 132)\n['601138.SH'] (78, 132)\n['601318.SH'] (2370, 132)\n['601318.SH'] (182, 132)\n['601336.SH'] (1651, 132)\n['601336.SH'] (182, 132)\n['603799.SH'] (896, 132)\n['603799.SH'] (182, 132)\ncount stck 38\n(76597, 132)\n(76597, 132)\n"
     ]
    },
    {
     "name": "stdout",
     "output_type": "stream",
     "text": [
      "(2126, 395) 2126\n"
     ]
    },
    {
     "name": "stdout",
     "output_type": "stream",
     "text": [
      "(76597, 527)\n"
     ]
    },
    {
     "name": "stdout",
     "output_type": "stream",
     "text": [
      "before 2376\ny<-0.5: 0\n-0.50<=y<-0.40: 0\n-0.40<=y<-0.30: 0\n-0.30<=y<-0.20: 0\n-0.20<=y<-0.10: 27\n-0.10<=y<0.00: 2349\n0.00<=y<0.10: 19043\n0.10<=y<0.20: 9880\n0.20<=y<0.30: 3506\n0.30<=y<0.40: 1373\n0.40<=y<0.50: 545\ny>0.5 637\nafter 2376\n--------------\n2018-09-04   NaN\n2018-09-05   NaN\n2018-09-06   NaN\n2018-09-07   NaN\n2018-09-07   NaN\n2018-09-07   NaN\n2018-09-10   NaN\n2018-09-11   NaN\ndtype: float64\n过滤涨停项： 244\nnull: 734\n"
     ]
    },
    {
     "name": "stdout",
     "output_type": "stream",
     "text": [
      "X_full,X,y: (37361, 527) (37361, 517) (37361,)\ntotal positive 4200.323652274143\n(5795, 517) (5795,)\ntest positive: 476.40301496894057\n"
     ]
    },
    {
     "name": "stdout",
     "output_type": "stream",
     "text": [
      "(5795, 527) (5795, 517)\n"
     ]
    },
    {
     "data": {
      "image/png": "[encoded data removed]",
      "text/plain": [
       "<Figure size 432x288 with 1 Axes>"
      ]
     },
     "metadata": {},
     "output_type": "display_data"
    }
   ],
   "source": [
    "data = gen_dataset(label_type=None)"
   ]
  },
  {
   "cell_type": "code",
   "execution_count": 16,
   "metadata": {},
   "outputs": [
    {
     "name": "stdout",
     "output_type": "stream",
     "text": [
      "Empty DataFrame\nColumns: [code, open, close, f19max_f2mv_high]\nIndex: []\nSeries([], dtype: float64)\n"
     ]
    }
   ],
   "source": [
    "(X_train, y_train), (X_test, y_test), (X_train_full, X_test_full),_ = data\n",
    "print(X_test_full[X_test_full[\"f19max_f2mv_high\"].isna()].loc[:,[\"code\",\n",
    "                                                                 \"open\",\n",
    "                                                                 \"close\",\n",
    "                                                                 \"f19max_f2mv_high\"]])\n",
    "print(y_test[y_test.isna()])"
   ]
  },
  {
   "cell_type": "code",
   "execution_count": 19,
   "metadata": {},
   "outputs": [],
   "source": [
    "def train(data, models, is_reg=True):\n",
    "    (X_train, y_train), (X_test, y_test),_,_ = data\n",
    "    if not is_reg:\n",
    "        scale_pos_weight = sum(y_train == 0) / sum(y_train == 1)\n",
    "\n",
    "    y_pred_list = []\n",
    "    colors = [\"r\", \"b\"]\n",
    "\n",
    "    for model, c in zip(models, colors):\n",
    "        t1 = time.time()\n",
    "        model.fit(X_train, y_train)\n",
    "        t2 = time.time()\n",
    "        if is_reg:\n",
    "            y_pred_list.append([model, t2 - t1, model.predict(X_test), c])\n",
    "        else:\n",
    "            y_pred_list.append([model, t2 - t1, model.predict_proba(X_test), c])\n",
    "\n",
    "    return y_pred_list\n"
   ]
  },
  {
   "cell_type": "code",
   "execution_count": 20,
   "metadata": {},
   "outputs": [],
   "source": [
    "regs = [\n",
    "    lgbm.LGBMRegressor(n_estimators=300, num_leaves=100, max_depth=8,\n",
    "                       random_state=0),\n",
    "    xgb.XGBRegressor(n_estimators=300, max_depth=5, random_state=0)\n",
    "]\n",
    "# _,(_,y_test),_ = data\n",
    "# plt.hist(y_test,bins=np.arange(-10,11)*0.1)\n",
    "y_pred_list_reg = train(data,regs,is_reg=True)"
   ]
  },
  {
   "cell_type": "code",
   "execution_count": 15,
   "metadata": {},
   "outputs": [],
   "source": [
    "clfs = [lgbm.LGBMClassifier(n_estimators=300, scale_pos_weight=0.1,\n",
    "                            num_leaves=100, max_depth=8,\n",
    "                            random_state=0),\n",
    "        xgb.XGBClassifier(n_estimators=300, scale_pos_weight=0.1,\n",
    "                          max_depth=5, random_state=0, )\n",
    "        ]\n",
    "(X_train, y_train), (X_test, y_test), (X_train_full, X_test_full) = data\n",
    "y_train = label(y_train,0.15,label_type=\"inc\")\n",
    "y_test = label(y_test,0.15,label_type=\"inc\")\n",
    "data = (X_train, y_train), (X_test, y_test), (X_train_full, X_test_full)\n",
    "y_pred_list_clf = train(data,clfs,is_reg=False)"
   ]
  },
  {
   "cell_type": "code",
   "execution_count": 16,
   "metadata": {},
   "outputs": [
    {
     "name": "stdout",
     "output_type": "stream",
     "text": [
      "0.08248621903957754\n"
     ]
    }
   ],
   "source": [
    "_,_, (_, X_test_full) = data\n",
    "inc = X_test_full[[\"code\",\"f1mv_open\",\n",
    "                   \"f19max_f2mv_high\"]].copy()\n",
    "inc[\"pct\"] = inc[\"f19max_f2mv_high\"]/inc[\"f1mv_open\"]-1\n",
    "y0 = inc[\"pct\"].mean()\n",
    "print(y0)\n",
    "x0 = np.arange(11)*0.1\n",
    "y0 = np.ones(x0.shape)*y0"
   ]
  },
  {
   "cell_type": "code",
   "execution_count": 17,
   "metadata": {},
   "outputs": [
    {
     "name": "stdout",
     "output_type": "stream",
     "text": [
      "                 code  f1mv_open  f19max_f2mv_high       pct    y_pred\n2018-06-25  000063.SZ  203.65230         277.21972  0.361240  0.951405\n2018-06-26  000063.SZ  206.96757         277.21972  0.339436  0.950841\n2018-06-27  000063.SZ  202.07360         277.21972  0.371875  0.967484\n2018-06-28  000063.SZ  206.33609         277.21972  0.343535  0.967498\n2018-06-29  000063.SZ  205.70461         277.21972  0.347659  0.968806\n2018-07-02  000063.SZ  191.81205         277.21972  0.445267  0.957633\n2018-07-03  000063.SZ  212.33515         277.21972  0.305576  0.945221\n2018-07-04  000063.SZ  213.12450         277.21972  0.300741  0.981344\n2018-07-05  000063.SZ  207.75692         277.21972  0.334347  0.990305\n2018-07-06  000063.SZ  207.59905         277.21972  0.335361  0.982108\n2018-07-09  000063.SZ  205.54674         277.21972  0.348694  0.983463\n2018-07-10  000063.SZ  193.23288         277.21972  0.434641  0.972529\n2018-07-11  000063.SZ  210.12497         277.21972  0.319309  0.956016\n2018-07-12  000063.SZ  228.59576         277.21972  0.212707  0.896327\n2018-07-13  000063.SZ  231.75316         277.21972  0.196185  0.966489\n2018-07-16  000063.SZ  258.59106         277.21972  0.072039  0.816875\n2018-07-26  000063.SZ  240.59388         278.32481  0.156824  0.860790\n2018-07-27  000063.SZ  242.33045         278.32481  0.148534  0.826499\n2018-07-30  000063.SZ  236.33139         294.26968  0.245157  0.867232\n2018-07-31  000063.SZ  231.27955         308.47798  0.333788  0.912702\n2018-08-01  000063.SZ  228.91150         308.47798  0.347586  0.860131\n2018-08-02  000063.SZ  219.59717         310.05668  0.411934  0.955961\n2018-08-03  000063.SZ  206.80970         310.05668  0.499237  0.942564\n2018-08-06  000063.SZ  209.96710         310.05668  0.476692  0.933942\n2018-08-07  000063.SZ  214.70320         310.05668  0.444118  0.887918\n2018-08-08  000063.SZ  207.12544         310.05668  0.496951  0.972046\n2018-08-09  000063.SZ  230.64807         310.05668  0.344285  0.862337\n2018-08-10  000063.SZ  225.59623         310.05668  0.374388  0.886471\n                 code  f1mv_open  f19max_f2mv_high       pct    y_pred\n2018-07-18  000636.SZ   387.8802          388.7271  0.002183  0.824725\n                 code  f1mv_open  f19max_f2mv_high       pct    y_pred\n2018-08-08  002236.SZ  645.49820          721.1918  0.117264  0.820643\n2018-08-22  002236.SZ  627.83636          721.1918  0.148694  0.864815\n                 code  f1mv_open  f19max_f2mv_high       pct    y_pred\n2018-08-14  600536.SH  161.95751         172.22205  0.063378  0.824233\n2018-08-15  600536.SH  154.49720         172.22205  0.114726  0.928919\n2018-08-16  600536.SH  155.55540         172.22205  0.107143  0.913634\n2018-08-17  600536.SH  146.03160         172.22205  0.179348  0.935356\n                 code  f1mv_open  f19max_f2mv_high       pct    y_pred\n2018-08-08  603799.SH   71.81356          76.73055  0.068469  0.924167\n2018-08-14  603799.SH   74.36416          76.73055  0.031822  0.839186\n2018-08-15  603799.SH   69.57470          76.73055  0.102851  0.826452\n2018-08-16  603799.SH   69.82976          76.73055  0.098823  0.852650\n"
     ]
    }
   ],
   "source": [
    "y_pred_clf = y_pred_list_clf[1][2][:,1]\n",
    "threshold = 0.8\n",
    "clf_pred_inc = X_test_full[y_pred_clf>threshold][[\"code\",\"f1mv_open\",\n",
    "                                       \"f19max_f2mv_high\"]]\n",
    "clf_pred_inc[\"pct\"] = clf_pred_inc[\"f19max_f2mv_high\"]/clf_pred_inc[\"f1mv_open\"]-1\n",
    "clf_pred_inc[\"y_pred\"]=y_pred_clf[y_pred_clf>threshold]\n",
    "for code, group in clf_pred_inc.groupby(\"code\"):\n",
    "    print(group)"
   ]
  },
  {
   "cell_type": "code",
   "execution_count": 34,
   "metadata": {},
   "outputs": [
    {
     "name": "stdout",
     "output_type": "stream",
     "text": [
      "4641 0.0785086220949643\n560 0.08800376241865039\n210 0.0931380575818061\n119 0.10089156164892521\n92 0.10834246785983025\n58 0.09692934134967832\n41 0.06314148653385965\n43 0.11621104490610476\n16 0.18191581349232494\n23 0.32487623359709983\n15.379881319573\n"
     ]
    },
    {
     "data": {
      "image/png": "[encoded data removed]",
      "text/plain": [
       "<Figure size 432x288 with 1 Axes>"
      ]
     },
     "metadata": {},
     "output_type": "display_data"
    }
   ],
   "source": [
    "y1 = []\n",
    "cnt1 = []\n",
    "for i in range(10):\n",
    "    p0 = i*0.1\n",
    "    p1 = (i+1)*0.1\n",
    "    cond=(p0<y_pred_clf) & (y_pred_clf<p1)\n",
    "    cnt1.append(sum(cond))\n",
    "    y1.append(inc[\"pct\"][cond].mean())\n",
    "for c,p in zip(cnt1,y1):\n",
    "    print(c,p)\n",
    "print(sum([c*p for i,(c,p) in enumerate(zip(cnt1,y1)) if i >6]))\n",
    "\n",
    "plt.bar(np.arange(len(y1))*0.1+0.05,y1,width=0.08)\n",
    "plt.plot(x0,y0,color='r')\n",
    "# plt.plot(x,y1,color='r')\n",
    "plt.xlim(0,1)\n",
    "plt.ylim(0,0.5)\n",
    "plt.show()"
   ]
  },
  {
   "cell_type": "code",
   "execution_count": 39,
   "metadata": {},
   "outputs": [
    {
     "name": "stdout",
     "output_type": "stream",
     "text": [
      "                 code  f1mv_open  f19max_f2mv_high       pct    y_pred\n2018-03-13  000002.SZ   4454.012          4732.731  0.062577  0.304577\n2018-03-15  000002.SZ   4473.234          4732.731  0.058011  0.304083\n2018-03-16  000002.SZ   4471.861          4732.731  0.058336  0.305664\n2018-03-19  000002.SZ   4311.220          4732.731  0.097771  0.302383\n2018-03-20  000002.SZ   4320.831          4732.731  0.095329  0.317230\n2018-03-21  000002.SZ   4366.140          4732.731  0.083962  0.320625\n2018-03-22  000002.SZ   4121.746          4732.731  0.148235  0.312895\n2018-04-26  000002.SZ   3935.018          3962.478  0.006978  0.332661\n2018-04-27  000002.SZ   3899.320          3962.478  0.016197  0.308034\n2018-05-25  000002.SZ   3623.347          3913.050  0.079955  0.304426\n                 code  f1mv_open  f19max_f2mv_high       pct    y_pred\n2018-06-21  000063.SZ  236.48926         277.21972  0.172230  0.358224\n2018-06-22  000063.SZ  212.80876         277.21972  0.302671  0.357050\n2018-06-25  000063.SZ  203.65230         277.21972  0.361240  0.630404\n2018-06-26  000063.SZ  206.96757         277.21972  0.339436  0.521223\n2018-06-27  000063.SZ  202.07360         277.21972  0.371875  0.494574\n2018-06-28  000063.SZ  206.33609         277.21972  0.343535  0.468245\n2018-06-29  000063.SZ  205.70461         277.21972  0.347659  0.422086\n2018-07-02  000063.SZ  191.81205         277.21972  0.445267  0.514930\n2018-07-03  000063.SZ  212.33515         277.21972  0.305576  0.438812\n2018-07-04  000063.SZ  213.12450         277.21972  0.300741  0.589307\n2018-07-05  000063.SZ  207.75692         277.21972  0.334347  0.555091\n2018-07-06  000063.SZ  207.59905         277.21972  0.335361  0.515275\n2018-07-09  000063.SZ  205.54674         277.21972  0.348694  0.419381\n2018-07-10  000063.SZ  193.23288         277.21972  0.434641  0.493490\n2018-07-11  000063.SZ  210.12497         277.21972  0.319309  0.494645\n2018-07-13  000063.SZ  231.75316         277.21972  0.196185  0.435410\n2018-07-16  000063.SZ  258.59106         277.21972  0.072039  0.386118\n2018-07-17  000063.SZ  277.21972         268.06326 -0.033030  0.436976\n2018-07-18  000063.SZ  261.11698         268.06326  0.026602  0.432147\n2018-07-19  000063.SZ  265.53734         268.06326  0.009512  0.372525\n2018-07-20  000063.SZ  258.90680         265.69521  0.026220  0.462614\n2018-07-23  000063.SZ  262.53781         265.69521  0.012026  0.389002\n2018-07-24  000063.SZ  263.48503         265.22160  0.006591  0.386740\n2018-07-25  000063.SZ  255.90727         265.22160  0.036397  0.404951\n2018-07-26  000063.SZ  240.59388         278.32481  0.156824  0.434735\n2018-07-27  000063.SZ  242.33045         278.32481  0.148534  0.421180\n2018-07-30  000063.SZ  236.33139         294.26968  0.245157  0.357558\n2018-07-31  000063.SZ  231.27955         308.47798  0.333788  0.395368\n2018-08-01  000063.SZ  228.91150         308.47798  0.347586  0.389531\n2018-08-02  000063.SZ  219.59717         310.05668  0.411934  0.343412\n2018-08-03  000063.SZ  206.80970         310.05668  0.499237  0.302026\n2018-08-06  000063.SZ  209.96710         310.05668  0.476692  0.301019\n2018-08-07  000063.SZ  214.70320         310.05668  0.444118  0.319256\n2018-08-08  000063.SZ  207.12544         310.05668  0.496951  0.377547\n2018-08-09  000063.SZ  230.64807         310.05668  0.344285  0.340174\n2018-08-10  000063.SZ  225.59623         310.05668  0.374388  0.375731\n2018-08-13  000063.SZ  244.38276         310.05668  0.268734  0.363860\n2018-08-14  000063.SZ  257.32810         310.05668  0.204908  0.369395\n2018-08-15  000063.SZ  240.90962         310.05668  0.287025  0.360526\n2018-08-16  000063.SZ  254.96005         310.05668  0.216099  0.355059\n2018-08-17  000063.SZ  250.06608         310.05668  0.239899  0.361073\n2018-08-20  000063.SZ  254.96005         310.05668  0.216099  0.336436\n2018-08-21  000063.SZ  254.64431         310.05668  0.217607  0.330571\n2018-08-22  000063.SZ  254.17070         310.05668  0.219876  0.304845\n2018-08-23  000063.SZ  271.53640         310.05668  0.141860  0.379684\n2018-08-24  000063.SZ  272.32575         310.05668  0.138551  0.394413\n2018-08-27  000063.SZ  287.79701         310.05668  0.077345  0.384664\n2018-08-28  000063.SZ  301.53170         310.05668  0.028272  0.331497\n                 code  f1mv_open  f19max_f2mv_high       pct    y_pred\n2018-07-02  000725.SZ   16.67028          18.64566  0.118497  0.320630\n2018-07-03  000725.SZ   16.67028          18.64566  0.118497  0.301405\n2018-07-04  000725.SZ   16.28484          18.64566  0.144970  0.328396\n2018-07-05  000725.SZ   15.99576          18.64566  0.165663  0.317085\n2018-07-11  000725.SZ   16.09212          18.64566  0.158683  0.303280\n                 code  f1mv_open  f19max_f2mv_high  pct    y_pred\n2018-09-07  002217.SZ   31.70772               NaN  NaN  0.306957\n                 code  f1mv_open  f19max_f2mv_high  pct    y_pred\n2018-09-11  002359.SZ   45.34967               NaN  NaN  0.377679\n                 code  f1mv_open  f19max_f2mv_high       pct    y_pred\n2018-06-19  300038.SZ    41.7942           53.7292  0.285566  0.331217\n2018-06-21  300038.SZ    41.0130           53.7292  0.310053  0.318998\n                 code  f1mv_open  f19max_f2mv_high       pct    y_pred\n2018-08-03  300679.SZ    51.9376          55.93280  0.076923  0.338923\n2018-08-28  300679.SZ    52.3008          51.99208 -0.005903  0.318951\n                 code  f1mv_open  f19max_f2mv_high       pct    y_pred\n2018-06-21  603799.SH   88.52800         111.82964  0.263212  0.333856\n2018-07-04  603799.SH   92.85380         111.82964  0.204363  0.337344\n2018-07-05  603799.SH   90.84180         111.82964  0.231037  0.349368\n2018-07-06  603799.SH   92.03894         111.82964  0.215025  0.304575\n2018-08-06  603799.SH   78.85605          76.73055 -0.026954  0.318552\n2018-08-07  603799.SH   75.10100          76.73055  0.021698  0.313285\n2018-08-08  603799.SH   71.81356          76.73055  0.068469  0.361808\n2018-08-10  603799.SH   72.39453          76.73055  0.059894  0.328681\n2018-08-13  603799.SH   75.80950          76.73055  0.012150  0.328407\n2018-08-14  603799.SH   74.36416          76.73055  0.031822  0.324699\n2018-08-15  603799.SH   69.57470          76.73055  0.102851  0.347492\n2018-08-17  603799.SH   69.43300          76.73055  0.105102  0.322704\n2018-08-23  603799.SH   72.84797          76.73055  0.053297  0.306744\n2018-08-27  603799.SH   74.10910          78.17589  0.054876  0.305796\n2018-08-29  603799.SH   72.84797          78.17589  0.073138  0.338057\n"
     ]
    }
   ],
   "source": [
    "y_pred_reg = y_pred_list_reg[1][2]\n",
    "threshold = 0.3\n",
    "reg_pred_inc = X_test_full[y_pred_reg>threshold][[\"code\",\"f1mv_open\",\n",
    "                                       \"f19max_f2mv_high\"]]\n",
    "reg_pred_inc[\"pct\"] = reg_pred_inc[\"f19max_f2mv_high\"]/reg_pred_inc[\"f1mv_open\"]-1\n",
    "reg_pred_inc[\"y_pred\"]=y_pred_reg[y_pred_reg>threshold]\n",
    "for code, group in reg_pred_inc.groupby(\"code\"):\n",
    "    print(group)"
   ]
  },
  {
   "cell_type": "code",
   "execution_count": 38,
   "metadata": {},
   "outputs": [
    {
     "name": "stdout",
     "output_type": "stream",
     "text": [
      "2172 0.07820798360655978\n3023 0.08227272489728145\n524 0.08479389526489958\n64 0.1670283513920771\n14 0.2163587067826629\n5 0.351030299425437\n1 0.3612403100775192\n0 nan\n0 nan\n0 nan\n15.83522819125492\n"
     ]
    },
    {
     "data": {
      "image/png": "[encoded data removed]",
      "text/plain": [
       "<Figure size 432x288 with 1 Axes>"
      ]
     },
     "metadata": {},
     "output_type": "display_data"
    }
   ],
   "source": [
    "y2 = []\n",
    "cnt2  = []\n",
    "for i in range(10):\n",
    "    p0 = i*0.1\n",
    "    p1 = (i+1)*0.1\n",
    "    cond=(p0<y_pred_reg) & (y_pred_reg<p1)\n",
    "    cnt2.append(sum(cond))\n",
    "    y2.append(inc[\"pct\"][cond].mean())\n",
    "for c,p in zip(cnt2,y2):\n",
    "    print(c,p)\n",
    "print(sum([c*p for i,(c,p) in enumerate(zip(cnt2,y2)) if i >2 and not np.isnan(p)]))\n",
    "\n",
    "plt.bar(np.arange(len(y2))*0.1+0.05,y2,width=0.08)\n",
    "plt.plot(x0,y0,color='r')\n",
    "# plt.plot(x,y2,color='r')\n",
    "plt.xlim(0,1)\n",
    "plt.ylim(0,0.5)\n",
    "plt.show()"
   ]
  },
  {
   "cell_type": "code",
   "execution_count": 24,
   "metadata": {},
   "outputs": [
    {
     "data": {
      "text/plain": [
       "(array([0.000e+00, 0.000e+00, 0.000e+00, 0.000e+00, 0.000e+00, 0.000e+00,\n        0.000e+00, 0.000e+00, 0.000e+00, 0.000e+00, 2.172e+03, 3.023e+03,\n        5.240e+02, 6.400e+01, 1.400e+01, 5.000e+00, 1.000e+00, 0.000e+00,\n        0.000e+00, 0.000e+00]),\n array([-1. , -0.9, -0.8, -0.7, -0.6, -0.5, -0.4, -0.3, -0.2, -0.1,  0. ,\n         0.1,  0.2,  0.3,  0.4,  0.5,  0.6,  0.7,  0.8,  0.9,  1. ]),\n <a list of 20 Patch objects>)"
      ]
     },
     "execution_count": 24,
     "metadata": {},
     "output_type": "execute_result"
    },
    {
     "data": {
      "image/png": "[encoded data removed]",
      "text/plain": [
       "<Figure size 432x288 with 1 Axes>"
      ]
     },
     "metadata": {},
     "output_type": "display_data"
    }
   ],
   "source": [
    "plt.hist(y_pred_reg,bins=np.arange(-10,11)*0.1)"
   ]
  },
  {
   "cell_type": "code",
   "execution_count": 1,
   "metadata": {},
   "outputs": [
    {
     "ename": "NameError",
     "evalue": "name 'X_test_full' is not defined",
     "traceback": [
      "\u001b[1;31m---------------------------------------------------------------------------\u001b[0m",
      "\u001b[1;31mNameError\u001b[0m                                 Traceback (most recent call last)",
      "\u001b[1;32m<ipython-input-1-2d52948c9d99>\u001b[0m in \u001b[0;36m<module>\u001b[1;34m()\u001b[0m\n\u001b[1;32m----> 1\u001b[1;33m \u001b[0mprint\u001b[0m\u001b[1;33m(\u001b[0m\u001b[0mX_test_full\u001b[0m\u001b[1;33m[\u001b[0m\u001b[0mX_test_full\u001b[0m\u001b[1;33m[\u001b[0m\u001b[1;34m\"f19max_f2mv_high\"\u001b[0m\u001b[1;33m]\u001b[0m\u001b[1;33m.\u001b[0m\u001b[0misna\u001b[0m\u001b[1;33m(\u001b[0m\u001b[1;33m)\u001b[0m\u001b[1;33m]\u001b[0m\u001b[1;33m)\u001b[0m\u001b[1;33m\u001b[0m\u001b[0m\n\u001b[0m",
      "\u001b[1;31mNameError\u001b[0m: name 'X_test_full' is not defined"
     ],
     "output_type": "error"
    }
   ],
   "source": [
    "print(X_test_full[X_test_full[\"f19max_f2mv_high\"].isna()])"
   ]
  },
  {
   "cell_type": "code",
   "execution_count": 41,
   "metadata": {},
   "outputs": [
    {
     "name": "stdout",
     "output_type": "stream",
     "text": [
      "LGBMRegressor\n"
     ]
    },
    {
     "name": "stdout",
     "output_type": "stream",
     "text": [
      "XGBRegressor\n"
     ]
    }
   ],
   "source": [
    "# save model\n",
    "import pickle\n",
    "import re\n",
    "import os\n",
    "for model in regs:\n",
    "    fname = re.search(\"\\.([^.]*)'\",str(type(model))).group(1)\n",
    "    print(fname)\n",
    "    with open(os.path.join(r\"C:\\Users\\dell-pc\\Quant\\Quant\",fname),\\\n",
    "            \"wb\") as f:\n",
    "        pickle.dump(model,f)"
   ]
  },
  {
   "cell_type": "code",
   "execution_count": null,
   "metadata": {},
   "outputs": [],
   "source": []
  }
 ],
 "metadata": {
  "kernelspec": {
   "display_name": "Python 2",
   "language": "python",
   "name": "python2"
  },
  "language_info": {
   "codemirror_mode": {
    "name": "ipython",
    "version": 2
   },
   "file_extension": ".py",
   "mimetype": "text/x-python",
   "name": "python",
   "nbconvert_exporter": "python",
   "pygments_lexer": "ipython2",
   "version": "2.7.6"
  }
 },
 "nbformat": 4,
 "nbformat_minor": 0
}
