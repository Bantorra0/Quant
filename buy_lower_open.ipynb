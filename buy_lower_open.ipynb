{
 "cells": [
  {
   "cell_type": "code",
   "execution_count": 1,
   "metadata": {},
   "outputs": [],
   "source": [
    "import pandas as pd\n",
    "import numpy as np\n",
    "from script import *\n",
    "import itertools\n",
    "import lightgbm as lgbm\n",
    "import matplotlib.pyplot as plt\n",
    "\n",
    "import time"
   ]
  },
  {
   "cell_type": "code",
   "execution_count": 2,
   "metadata": {},
   "outputs": [],
   "source": [
    "pd.set_option('display.max_rows',200)\n",
    "idx = pd.IndexSlice\n",
    "agg_operations =['mean','median','max','min','size']"
   ]
  },
  {
   "cell_type": "code",
   "execution_count": 3,
   "metadata": {},
   "outputs": [
    {
     "name": "stdout",
     "output_type": "stream",
     "text": [
      "select * from stock_day where date>=20130101\n",
      "Index(['open', 'high', 'low', 'close', 'vol', 'amt', 'adj_factor', 'avg',\n",
      "       'close0', 'avg0', 'pct'],\n",
      "      dtype='object')\n",
      "(2304627, 11)\n"
     ]
    }
   ],
   "source": [
    "start = 20130101\n",
    "cursor = dbop.connect_db(\"sqlite3\").cursor()\n",
    "\n",
    "df_d = dbop.create_df(cursor, STOCK_DAY[TABLE], start=start)\n",
    "df_d = dp.proc_stock_d(dp.prepare_stock_d(df_d))\n",
    "df_d.drop(columns=['open0','high0','low0','vol0'],inplace=True)\n",
    "df_d['pct'] = df_d.sort_index().groupby('code')['close'].pct_change()*100\n",
    "print(df_d.columns)\n",
    "print(df_d.shape)"
   ]
  },
  {
   "cell_type": "code",
   "execution_count": 5,
   "metadata": {},
   "outputs": [
    {
     "name": "stdout",
     "output_type": "stream",
     "text": [
      "2013-01-01\n"
     ]
    }
   ],
   "source": [
    "start = 20130101\n",
    "start_date = '-'.join([str(start)[:4],str(start)[4:6],str(start)[6:8]])\n",
    "print(start_date)\n",
    "df_rs_sp1 = pd.read_parquet(r\"database\\return_5%_10%_20_8_15%\").loc[idx[:,\n",
    "                                                                    start_date:],:].sort_index()"
   ]
  },
  {
   "cell_type": "code",
   "execution_count": 6,
   "metadata": {},
   "outputs": [],
   "source": [
    "df_d['next_low'] = df_d.groupby('code')['low'].shift(-1)"
   ]
  },
  {
   "cell_type": "code",
   "execution_count": null,
   "metadata": {},
   "outputs": [],
   "source": [
    "df_rs_sp1.join(df_d[['close','']])"
   ]
  }
 ],
 "metadata": {
  "kernelspec": {
   "display_name": "Python 3",
   "language": "python",
   "name": "python3"
  },
  "language_info": {
   "codemirror_mode": {
    "name": "ipython",
    "version": 3
   },
   "file_extension": ".py",
   "mimetype": "text/x-python",
   "name": "python",
   "nbconvert_exporter": "python",
   "pygments_lexer": "ipython3",
   "version": "3.6.4"
  }
 },
 "nbformat": 4,
 "nbformat_minor": 2
}
