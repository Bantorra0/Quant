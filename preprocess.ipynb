{
 "cells": [
  {
   "cell_type": "code",
   "execution_count": 65,
   "metadata": {
    "collapsed": true
   },
   "outputs": [
    {
     "name": "stdout",
     "output_type": "stream",
     "text": [
      "(123701, 9) (17614, 7)\n"
     ]
    }
   ],
   "source": [
    "import db_operations as dbop\n",
    "from constants import TOKEN, STOCK_DAY, INDEX_DAY,TABLE,COLUMNS\n",
    "import pandas as pd\n",
    "db_type = \"sqlite3\"\n",
    "conn = dbop.connect_db(db_type)\n",
    "cursor = conn.cursor()\n",
    "\n",
    "# Get all trading dates from stock index table.\n",
    "cursor.execute(\"select * from {0}\".format(\n",
    "                    INDEX_DAY[TABLE]))\n",
    "df_idx_day = pd.DataFrame(cursor.fetchall())\n",
    "df_idx_day.columns = dbop.cols_from_cur(cursor)\n",
    "\n",
    "# Get day data of all stocks from stocks table.\n",
    "cursor.execute(\"select * from {0}\".format(STOCK_DAY[TABLE]))\n",
    "df_stocks_day = pd.DataFrame(cursor.fetchall())\n",
    "df_stocks_day.columns = dbop.cols_from_cur(cursor)\n",
    "print(df_stocks_day.shape, df_idx_day.shape)\n"
   ]
  },
  {
   "cell_type": "code",
   "execution_count": 66,
   "metadata": {
    "collapsed": true
   },
   "outputs": [
    {
     "name": "stdout",
     "output_type": "stream",
     "text": [
      "indexes:\t Empty DataFrame\nColumns: [code, date, open, high, low, close, vol]\nIndex: []\n\nstocks:\t (15314, 9)\n"
     ]
    }
   ],
   "source": [
    "df_stck_na = df_stocks_day[df_stocks_day.isna().any(axis=1)]\n",
    "df_idx_na = df_idx_day[df_idx_day.isna().any(axis=1)]\n",
    "\n",
    "print(\"indexes:\\t\",df_idx_na)\n",
    "# print(\"stocks\",df_stck_na)\n",
    "print(\"\\nstocks:\\t\",df_stck_na.shape)\n",
    "# # for code,df in df_stck_na.groupby(\"code\"):\n",
    "# #     print(df)"
   ]
  },
  {
   "cell_type": "code",
   "execution_count": 67,
   "metadata": {
    "collapsed": true
   },
   "outputs": [],
   "source": [
    "dates = sorted(df_idx_day[\"date\"].unique())\n",
    "df_stocks_day = df_stocks_day.set_index(\"date\")"
   ]
  },
  {
   "cell_type": "code",
   "execution_count": 69,
   "metadata": {
    "collapsed": false
   },
   "outputs": [
    {
     "name": "stdout",
     "output_type": "stream",
     "text": [
      "4326 2001-01-02 2018-11-07\n000001.SZ 0 None None\nstart: 2002-03-22 end: 2018-11-07 \n\n"
     ]
    },
    {
     "name": "stdout",
     "output_type": "stream",
     "text": [
      "000002.SZ 0 None None\nstart: 2002-03-22 end: 2018-11-07 \n\n"
     ]
    },
    {
     "name": "stdout",
     "output_type": "stream",
     "text": [
      "000063.SZ 0 None None\nstart: 2002-03-22 end: 2018-11-07 \n\n"
     ]
    },
    {
     "name": "stdout",
     "output_type": "stream",
     "text": [
      "000070.SZ 0 None None\nstart: 2002-03-22 end: 2018-11-07 \n\n"
     ]
    }
   ],
   "source": [
    "print(len(dates), dates[0],dates[-1])\n",
    "df_changed = pd.DataFrame(columns=df_stocks_day.iloc[[0,1]].reset_index().columns)\n",
    "df_changed.set_index(\"date\")\n",
    "for code, df_single_stock in df_stocks_day.groupby(by=\"code\"):\n",
    "    df_single_stock = df_single_stock.sort_index()\n",
    "    # start_date is the first date on which the whole row is not null in the\n",
    "    #  table.\n",
    "    # stock_dates are the dates on which the whole row is not null in the table.\n",
    "    stock_dates = df_single_stock.index[df_single_stock.notnull().all(\n",
    "        axis=1)]\n",
    "    start_date = None\n",
    "    na_dates = []\n",
    "    for d in stock_dates:\n",
    "        if d not in dates:\n",
    "            na_dates.append(d)\n",
    "        else:\n",
    "            start_date = d\n",
    "            break\n",
    "    if not start_date:\n",
    "        raise ValueError(\"start_date does not exist!\")\n",
    "    print(code, len(na_dates),na_dates[0] if na_dates else None,na_dates[-1] if na_dates else None)\n",
    "    print(\"start:\",start_date,\"end:\",dates[-1],\"\\n\")\n",
    "    \n",
    "    start_idx = dates.index(start_date)\n",
    "    \n",
    "    for i in range(start_idx+1,len(dates)):\n",
    "        is_changed = False\n",
    "        row = None\n",
    "        \n",
    "        # Skip if the row exists and the whole row is not null.\n",
    "        if dates[i] in df_single_stock.index and df_single_stock.loc[dates[i]].notnull().all().all():\n",
    "            continue\n",
    "        \n",
    "        if dates[i] in df_single_stock.index:\n",
    "            row = df_single_stock.loc[dates[i]].copy()\n",
    "            # if df_single_stock.loc[dates[i]].notna().all().all():\n",
    "            #     continue\n",
    "            \n",
    "            # Note that by using groupby code, code is always not null.\n",
    "            # Fill prices open,high,low,close if all are null.\n",
    "            if df_single_stock.loc[dates[i],[\"open\",\"high\",\"low\",\"close\"]].isna().all().all():\n",
    "                is_changed = True\n",
    "                df_single_stock.loc[dates[i],[\"open\",\"high\",\"low\",\"close\"]] = df_single_stock.loc[dates[i-1],[\"open\",\"high\",\"low\",\"close\"]]\n",
    "                # Fill vol and amt if both are null. \n",
    "                # Do nothing if both are 0. \n",
    "                # Otherwise, raise error. \n",
    "                if df_single_stock.loc[dates[i],[\"vol\",\"amt\"]].isna().all().all():\n",
    "                    df_single_stock.loc[dates[i],[\"vol\",\"amt\"]] = [0,0]\n",
    "                elif not (df_single_stock.loc[dates[i],[\"vol\",\"amt\"]] == [0,0]).all().all():\n",
    "                    raise ValueError(\"Error row: {}\".format(df_single_stock.loc[dates[i]]))\n",
    "                \n",
    "                # Fill adj_factor if null.\n",
    "                if df_single_stock.loc[dates[i],[\"adj_factor\"]].isna().all().all():\n",
    "                    df_single_stock.loc[dates[i],[\"adj_factor\"]] = df_single_stock.loc[dates[i-1],[\"adj_factor\"]]\n",
    "            \n",
    "            elif df_single_stock.loc[dates[i],[\"open\",\"high\",\"low\",\"close\"]].notnull().all().all():\n",
    "                if not df_single_stock.loc[dates[i],[\"vol\",\"amt\"]].notnull().all().all():\n",
    "                    raise ValueError(\"Error row: {}\".format(df_single_stock.loc[dates[i]]))\n",
    "                \n",
    "                # Fill adj_factor if null.\n",
    "                if df_single_stock.loc[dates[i],[\"adj_factor\"]].isna().all().all():\n",
    "                    is_changed = True\n",
    "                    df_single_stock.loc[dates[i],[\"adj_factor\"]] = df_single_stock.loc[dates[i-1],[\"adj_factor\"]]\n",
    "            else:\n",
    "                raise ValueError(\"Error row: {}\".format(df_single_stock.loc[dates[i]]))\n",
    "         \n",
    "        else:\n",
    "            df_single_stock.loc[dates[i]] = df_single_stock.loc[dates[i-1]]\n",
    "            df_single_stock.loc[dates[i],[\"vol\",\"amt\"]] = [0,0]\n",
    "            is_changed = True\n",
    "        \n",
    "        if is_changed:\n",
    "            df_changed.loc[dates[i]] = df_single_stock.loc[dates[i]]\n",
    "            print(\"-\"*10+\"\\n\",dates[i], code)\n",
    "            print(dict(df_single_stock.loc[dates[i-1]]))\n",
    "            print(None if row is None else dict(row))\n",
    "            print(dict(df_single_stock.loc[dates[i]]),\"\\n\")\n",
    "\n",
    "df_changed.reset_index()\n",
    "print(df_changed)"
   ]
  },
  {
   "cell_type": "code",
   "execution_count": null,
   "metadata": {},
   "outputs": [],
   "source": []
  }
 ],
 "metadata": {
  "kernelspec": {
   "display_name": "Python 2",
   "language": "python",
   "name": "python2"
  },
  "language_info": {
   "codemirror_mode": {
    "name": "ipython",
    "version": 2
   },
   "file_extension": ".py",
   "mimetype": "text/x-python",
   "name": "python",
   "nbconvert_exporter": "python",
   "pygments_lexer": "ipython2",
   "version": "2.7.6"
  }
 },
 "nbformat": 4,
 "nbformat_minor": 0
}
