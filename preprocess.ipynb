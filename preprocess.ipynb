{
 "cells": [
  {
   "cell_type": "code",
   "execution_count": 8,
   "metadata": {
    "collapsed": true
   },
   "outputs": [
    {
     "name": "stdout",
     "output_type": "stream",
     "text": [
      "2149\n"
     ]
    },
    {
     "name": "stdout",
     "output_type": "stream",
     "text": [
      "(123663, 8)\n"
     ]
    }
   ],
   "source": [
    "import db_operations as dbop\n",
    "from constants import TOKEN, STOCK_DAY, INDEX_DAY,TABLE,COLUMNS\n",
    "import pandas as pd\n",
    "db_type = \"sqlite3\"\n",
    "conn = dbop.connect_db(db_type)\n",
    "cursor = conn.cursor()\n",
    "\n",
    "# Get all trading dates from stock index table.\n",
    "cursor.execute(\"select distinct date from {0} order by date\".format(\n",
    "                    INDEX_DAY[TABLE]))\n",
    "dates = pd.DataFrame(cursor.fetchall(), columns=[\"date\"])[\"date\"]\n",
    "dates = sorted(dates.unique())\n",
    "print(len(dates))\n",
    "\n",
    "# Get day data of all stocks from stocks table.\n",
    "cursor.execute(\"select * from {0}\".format(STOCK_DAY[TABLE]))\n",
    "df_stocks_day = pd.DataFrame(cursor.fetchall())\n",
    "df_stocks_day.columns = dbop.cols_from_cur(cursor)\n",
    "df_stocks_day = df_stocks_day.set_index(\"date\")\n",
    "print(df_stocks_day.shape)"
   ]
  },
  {
   "cell_type": "code",
   "execution_count": null,
   "metadata": {},
   "outputs": [],
   "source": [
    "for code, df_single_stock in df_stocks_day.groupby(by=\"code\"):\n",
    "    df_single_stock = df_single_stock.sort_index()\n",
    "    for i in range(1,len(dates)):\n",
    "        if dates[i] in df_single_stock:\n",
    "            is_changed = False\n",
    "            # Note that by using groupby code, code is always not null.\n",
    "            if df_single_stock.loc[dates[i]].isna().all()[1:].all():\n",
    "                # All columns except code is null.\n",
    "                df_single_stock.loc[dates[i],[\"open\",\"high\",\"low\",\"close\",\"adj_factor\"]] = df_single_stock.loc[dates[i-1],[\"open\",\"high\",\"low\",\"close\",\"adj_factor\"]]\n",
    "                df_single_stock.loc[dates[i],[\"vol\",\"amt\"]] = [0,0]\n",
    "                is_changed = True\n",
    "            elif df_single_stock.loc[dates[i]].isna().all()[1:-1].all():\n",
    "                # All columns excpet code and adj_factor is null.\n",
    "                df_single_stock.loc[dates[i],[\"open\",\"high\",\"low\",\"close\"]] = df_single_stock.loc[dates[i-1],[\"open\",\"high\",\"low\",\"close\"]]\n",
    "                df_single_stock.loc[dates[i],[\"vol\",\"amt\"]] = [0,0]\n",
    "            elif df_single_stock.loc[dates[i]].isna().all()[1:-3].all():\n",
    "                if (df_single_stock.loc[dates[i],[\"vol\",\"amt\"]] != [0,0]).any():\n",
    "                    raise ValueError(\"Error row: {}\".format(df_single_stock.loc[dates[i]]))\n",
    "            \n",
    "        \n",
    "        "
   ]
  }
 ],
 "metadata": {
  "kernelspec": {
   "display_name": "Python 2",
   "language": "python",
   "name": "python2"
  },
  "language_info": {
   "codemirror_mode": {
    "name": "ipython",
    "version": 2
   },
   "file_extension": ".py",
   "mimetype": "text/x-python",
   "name": "python",
   "nbconvert_exporter": "python",
   "pygments_lexer": "ipython2",
   "version": "2.7.6"
  }
 },
 "nbformat": 4,
 "nbformat_minor": 0
}
