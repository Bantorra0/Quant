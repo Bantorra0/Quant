{
 "cells": [
  {
   "cell_type": "code",
   "execution_count": 65,
   "metadata": {
    "collapsed": true
   },
   "outputs": [
    {
     "name": "stdout",
     "output_type": "stream",
     "text": [
      "(123701, 9) (17614, 7)\n"
     ]
    }
   ],
   "source": [
    "import db_operations as dbop\n",
    "from constants import TOKEN, STOCK_DAY, INDEX_DAY,TABLE,COLUMNS\n",
    "import pandas as pd\n",
    "import data_cleaning as dc\n",
    "\n",
    "\n",
    "db_type = \"sqlite3\"\n",
    "conn = dbop.connect_db(db_type)\n",
    "cursor = conn.cursor()\n",
    "\n",
    "# Get all trading dates from stock index table.\n",
    "cursor.execute(\"select * from {0}\".format(\n",
    "                    INDEX_DAY[TABLE]))\n",
    "df_idx_day = pd.DataFrame(cursor.fetchall())\n",
    "df_idx_day.columns = dbop.cols_from_cur(cursor)\n",
    "\n",
    "# Get day data of all stocks from stocks table.\n",
    "cursor.execute(\"select * from {0}\".format(STOCK_DAY[TABLE]))\n",
    "df_stocks_day = pd.DataFrame(cursor.fetchall())\n",
    "df_stocks_day.columns = dbop.cols_from_cur(cursor)\n",
    "print(df_stocks_day.shape, df_idx_day.shape)"
   ]
  },
  {
   "cell_type": "code",
   "execution_count": 66,
   "metadata": {
    "collapsed": true
   },
   "outputs": [
    {
     "name": "stdout",
     "output_type": "stream",
     "text": [
      "indexes:\t Empty DataFrame\nColumns: [code, date, open, high, low, close, vol]\nIndex: []\n\nstocks:\t (15314, 9)\n"
     ]
    }
   ],
   "source": [
    "df_stck_na = df_stocks_day[df_stocks_day.isna().any(axis=1)]\n",
    "df_idx_na = df_idx_day[df_idx_day.isna().any(axis=1)]\n",
    "\n",
    "print(\"indexes:\\t\",df_idx_na)\n",
    "print(\"\\nstocks:\\t\",df_stck_na.shape)"
   ]
  },
  {
   "cell_type": "code",
   "execution_count": 67,
   "metadata": {
    "collapsed": true
   },
   "outputs": [],
   "source": [
    "dates = sorted(df_idx_day[\"date\"].unique())"
   ]
  },
  {
   "cell_type": "code",
   "execution_count": 69,
   "metadata": {
    "collapsed": false
   },
   "outputs": [
    {
     "name": "stdout",
     "output_type": "stream",
     "text": [
      "4326 2001-01-02 2018-11-07\n000001.SZ 0 None None\nstart: 2002-03-22 end: 2018-11-07 \n\n"
     ]
    },
    {
     "name": "stdout",
     "output_type": "stream",
     "text": [
      "000002.SZ 0 None None\nstart: 2002-03-22 end: 2018-11-07 \n\n"
     ]
    },
    {
     "name": "stdout",
     "output_type": "stream",
     "text": [
      "000063.SZ 0 None None\nstart: 2002-03-22 end: 2018-11-07 \n\n"
     ]
    },
    {
     "name": "stdout",
     "output_type": "stream",
     "text": [
      "000070.SZ 0 None None\nstart: 2002-03-22 end: 2018-11-07 \n\n"
     ]
    },
    {
     "name": "stdout",
     "output_type": "stream",
     "text": [
      "000333.SZ 0 None None\nstart: 2013-09-18 end: 2018-11-07 \n\n"
     ]
    },
    {
     "name": "stdout",
     "output_type": "stream",
     "text": [
      "----------\n 2018-10-25 000333.SZ\n{'code': '000333.SZ', 'open': 40.3, 'high': 40.3, 'low': 40.3, 'close': 40.3, 'vol': 0.0, 'amt': 0.0, 'adj_factor': 4.397}\n{'code': '000333.SZ', 'open': nan, 'high': nan, 'low': nan, 'close': nan, 'vol': nan, 'amt': nan, 'adj_factor': 4.397}\n{'code': '000333.SZ', 'open': 40.3, 'high': 40.3, 'low': 40.3, 'close': 40.3, 'vol': 0.0, 'amt': 0.0, 'adj_factor': 4.397} \n\n----------\n 2018-10-26 000333.SZ\n{'code': '000333.SZ', 'open': 40.3, 'high': 40.3, 'low': 40.3, 'close': 40.3, 'vol': 0.0, 'amt': 0.0, 'adj_factor': 4.397}\n{'code': '000333.SZ', 'open': nan, 'high': nan, 'low': nan, 'close': nan, 'vol': nan, 'amt': nan, 'adj_factor': 4.397}\n{'code': '000333.SZ', 'open': 40.3, 'high': 40.3, 'low': 40.3, 'close': 40.3, 'vol': 0.0, 'amt': 0.0, 'adj_factor': 4.397} \n\n000636.SZ 0 None None\nstart: 2002-03-22 end: 2018-11-07 \n\n"
     ]
    },
    {
     "name": "stdout",
     "output_type": "stream",
     "text": [
      "000651.SZ 0 None None\nstart: 2002-03-22 end: 2018-11-07 \n\n"
     ]
    },
    {
     "name": "stdout",
     "output_type": "stream",
     "text": [
      "000725.SZ 0 None None\nstart: 2002-03-22 end: 2018-11-07 \n\n"
     ]
    },
    {
     "name": "stdout",
     "output_type": "stream",
     "text": [
      "000858.SZ 0 None None\nstart: 2002-03-22 end: 2018-11-07 \n\n"
     ]
    },
    {
     "name": "stdout",
     "output_type": "stream",
     "text": [
      "002027.SZ 0 None None\nstart: 2004-08-04 end: 2018-11-07 \n\n"
     ]
    },
    {
     "name": "stdout",
     "output_type": "stream",
     "text": [
      "002217.SZ 0 None None\nstart: 2008-02-20 end: 2018-11-07 \n\n"
     ]
    },
    {
     "name": "stdout",
     "output_type": "stream",
     "text": [
      "----------\n 2018-10-25 002217.SZ\n{'code': '002217.SZ', 'open': 5.01, 'high': 5.1, 'low': 4.89, 'close': 4.96, 'vol': 625932.98, 'amt': 312677.422, 'adj_factor': 5.652}\n{'code': '002217.SZ', 'open': nan, 'high': nan, 'low': nan, 'close': nan, 'vol': nan, 'amt': nan, 'adj_factor': 5.652}\n{'code': '002217.SZ', 'open': 5.01, 'high': 5.1, 'low': 4.89, 'close': 4.96, 'vol': 0.0, 'amt': 0.0, 'adj_factor': 5.652} \n\n----------\n 2018-10-26 002217.SZ\n{'code': '002217.SZ', 'open': 5.01, 'high': 5.1, 'low': 4.89, 'close': 4.96, 'vol': 0.0, 'amt': 0.0, 'adj_factor': 5.652}\n{'code': '002217.SZ', 'open': nan, 'high': nan, 'low': nan, 'close': nan, 'vol': nan, 'amt': nan, 'adj_factor': 5.652}\n{'code': '002217.SZ', 'open': 5.01, 'high': 5.1, 'low': 4.89, 'close': 4.96, 'vol': 0.0, 'amt': 0.0, 'adj_factor': 5.652} \n\n----------\n 2018-10-29 002217.SZ\n{'code': '002217.SZ', 'open': 5.01, 'high': 5.1, 'low': 4.89, 'close': 4.96, 'vol': 0.0, 'amt': 0.0, 'adj_factor': 5.652}\n{'code': '002217.SZ', 'open': nan, 'high': nan, 'low': nan, 'close': nan, 'vol': nan, 'amt': nan, 'adj_factor': 5.652}\n{'code': '002217.SZ', 'open': 5.01, 'high': 5.1, 'low': 4.89, 'close': 4.96, 'vol': 0.0, 'amt': 0.0, 'adj_factor': 5.652} \n\n----------\n 2018-10-30 002217.SZ\n{'code': '002217.SZ', 'open': 5.01, 'high': 5.1, 'low': 4.89, 'close': 4.96, 'vol': 0.0, 'amt': 0.0, 'adj_factor': 5.652}\n{'code': '002217.SZ', 'open': nan, 'high': nan, 'low': nan, 'close': nan, 'vol': nan, 'amt': nan, 'adj_factor': 5.652}\n{'code': '002217.SZ', 'open': 5.01, 'high': 5.1, 'low': 4.89, 'close': 4.96, 'vol': 0.0, 'amt': 0.0, 'adj_factor': 5.652} \n\n----------\n 2018-10-31 002217.SZ\n{'code': '002217.SZ', 'open': 5.01, 'high': 5.1, 'low': 4.89, 'close': 4.96, 'vol': 0.0, 'amt': 0.0, 'adj_factor': 5.652}\n{'code': '002217.SZ', 'open': nan, 'high': nan, 'low': nan, 'close': nan, 'vol': nan, 'amt': nan, 'adj_factor': 5.652}\n{'code': '002217.SZ', 'open': 5.01, 'high': 5.1, 'low': 4.89, 'close': 4.96, 'vol': 0.0, 'amt': 0.0, 'adj_factor': 5.652} \n\n----------\n 2018-11-01 002217.SZ\n{'code': '002217.SZ', 'open': 5.01, 'high': 5.1, 'low': 4.89, 'close': 4.96, 'vol': 0.0, 'amt': 0.0, 'adj_factor': 5.652}\n{'code': '002217.SZ', 'open': nan, 'high': nan, 'low': nan, 'close': nan, 'vol': nan, 'amt': nan, 'adj_factor': 5.652}\n{'code': '002217.SZ', 'open': 5.01, 'high': 5.1, 'low': 4.89, 'close': 4.96, 'vol': 0.0, 'amt': 0.0, 'adj_factor': 5.652} \n\n"
     ]
    },
    {
     "name": "stdout",
     "output_type": "stream",
     "text": [
      "----------\n 2018-11-02 002217.SZ\n{'code': '002217.SZ', 'open': 5.01, 'high': 5.1, 'low': 4.89, 'close': 4.96, 'vol': 0.0, 'amt': 0.0, 'adj_factor': 5.652}\n{'code': '002217.SZ', 'open': nan, 'high': nan, 'low': nan, 'close': nan, 'vol': nan, 'amt': nan, 'adj_factor': 5.652}\n{'code': '002217.SZ', 'open': 5.01, 'high': 5.1, 'low': 4.89, 'close': 4.96, 'vol': 0.0, 'amt': 0.0, 'adj_factor': 5.652} \n\n----------\n 2018-11-05 002217.SZ\n{'code': '002217.SZ', 'open': 5.01, 'high': 5.1, 'low': 4.89, 'close': 4.96, 'vol': 0.0, 'amt': 0.0, 'adj_factor': 5.652}\n{'code': '002217.SZ', 'open': nan, 'high': nan, 'low': nan, 'close': nan, 'vol': nan, 'amt': nan, 'adj_factor': 5.652}\n{'code': '002217.SZ', 'open': 5.01, 'high': 5.1, 'low': 4.89, 'close': 4.96, 'vol': 0.0, 'amt': 0.0, 'adj_factor': 5.652} \n\n----------\n 2018-11-06 002217.SZ\n{'code': '002217.SZ', 'open': 5.01, 'high': 5.1, 'low': 4.89, 'close': 4.96, 'vol': 0.0, 'amt': 0.0, 'adj_factor': 5.652}\n{'code': '002217.SZ', 'open': nan, 'high': nan, 'low': nan, 'close': nan, 'vol': nan, 'amt': nan, 'adj_factor': 5.652}\n{'code': '002217.SZ', 'open': 5.01, 'high': 5.1, 'low': 4.89, 'close': 4.96, 'vol': 0.0, 'amt': 0.0, 'adj_factor': 5.652} \n\n----------\n 2018-11-07 002217.SZ\n{'code': '002217.SZ', 'open': 5.01, 'high': 5.1, 'low': 4.89, 'close': 4.96, 'vol': 0.0, 'amt': 0.0, 'adj_factor': 5.652}\n{'code': '002217.SZ', 'open': nan, 'high': nan, 'low': nan, 'close': nan, 'vol': nan, 'amt': nan, 'adj_factor': 5.652}\n{'code': '002217.SZ', 'open': 5.01, 'high': 5.1, 'low': 4.89, 'close': 4.96, 'vol': 0.0, 'amt': 0.0, 'adj_factor': 5.652} \n\n002236.SZ 0 None None\nstart: 2008-05-20 end: 2018-11-07 \n\n"
     ]
    },
    {
     "name": "stdout",
     "output_type": "stream",
     "text": [
      "002335.SZ 0 None None\nstart: 2010-01-13 end: 2018-11-07 \n\n"
     ]
    },
    {
     "name": "stdout",
     "output_type": "stream",
     "text": [
      "002359.SZ 0 None None\nstart: 2010-02-10 end: 2018-11-07 \n\n"
     ]
    },
    {
     "name": "stdout",
     "output_type": "stream",
     "text": [
      "002402.SZ 0 None None\nstart: 2010-05-11 end: 2018-11-07 \n\n"
     ]
    },
    {
     "name": "stdout",
     "output_type": "stream",
     "text": [
      "002415.SZ 0 None None\nstart: 2010-05-28 end: 2018-11-07 \n\n"
     ]
    },
    {
     "name": "stdout",
     "output_type": "stream",
     "text": [
      "002446.SZ 0 None None\nstart: 2010-07-13 end: 2018-11-07 \n\n"
     ]
    },
    {
     "name": "stdout",
     "output_type": "stream",
     "text": [
      "002913.SZ 0 None None\nstart: 2017-12-01 end: 2018-11-07 \n\n300038.SZ 0 None None\nstart: 2010-01-08 end: 2018-11-07 \n\n"
     ]
    },
    {
     "name": "stdout",
     "output_type": "stream",
     "text": [
      "300059.SZ 0 None None\nstart: 2010-03-19 end: 2018-11-07 \n\n"
     ]
    },
    {
     "name": "stdout",
     "output_type": "stream",
     "text": [
      "300068.SZ 0 None None\nstart: 2010-04-21 end: 2018-11-07 \n\n"
     ]
    },
    {
     "name": "stdout",
     "output_type": "stream",
     "text": [
      "300113.SZ 0 None None\nstart: 2010-08-27 end: 2018-11-07 \n\n"
     ]
    }
   ],
   "source": [
    "print(len(dates), dates[0],dates[-1])\n",
    "for code, df_single_stock in df_stocks_day.groupby(by=\"code\"):\n",
    "    df_single_stock = df_single_stock.sort_index()\n",
    "    df_changed = dc.fillna_stock_day(df_single_stock,dates)\n",
    "    print(df_changed)"
   ]
  },
  {
   "cell_type": "code",
   "execution_count": null,
   "metadata": {},
   "outputs": [],
   "source": []
  }
 ],
 "metadata": {
  "kernelspec": {
   "display_name": "Python 2",
   "language": "python",
   "name": "python2"
  },
  "language_info": {
   "codemirror_mode": {
    "name": "ipython",
    "version": 2
   },
   "file_extension": ".py",
   "mimetype": "text/x-python",
   "name": "python",
   "nbconvert_exporter": "python",
   "pygments_lexer": "ipython2",
   "version": "2.7.6"
  }
 },
 "nbformat": 4,
 "nbformat_minor": 0
}
