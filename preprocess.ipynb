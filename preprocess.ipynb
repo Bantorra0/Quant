{
 "cells": [
  {
   "cell_type": "code",
   "execution_count": 23,
   "metadata": {
    "collapsed": true
   },
   "outputs": [],
   "source": [
    "import db_operations as dbop\n",
    "from constants import TOKEN, STOCK_DAY, INDEX_DAY,TABLE,COLUMNS\n",
    "import pandas as pd\n",
    "db_type = \"sqlite3\"\n",
    "conn = dbop.connect_db(db_type)\n",
    "cursor = conn.cursor()\n",
    "\n",
    "# Get all trading dates from stock index table.\n",
    "cursor.execute(\"select * from {0}\".format(\n",
    "                    INDEX_DAY[TABLE]))\n",
    "df_idx_day = pd.DataFrame(cursor.fetchall())\n",
    "df_idx_day.columns = dbop.cols_from_cur(cursor)\n",
    "\n",
    "# Get day data of all stocks from stocks table.\n",
    "cursor.execute(\"select * from {0}\".format(STOCK_DAY[TABLE]))\n",
    "df_stocks_day = pd.DataFrame(cursor.fetchall())\n",
    "df_stocks_day.columns = dbop.cols_from_cur(cursor)\n",
    "print(df_stocks_day.shape, df_idx_day.shape)\n"
   ]
  },
  {
   "cell_type": "code",
   "execution_count": 19,
   "metadata": {
    "collapsed": true
   },
   "outputs": [],
   "source": [
    "print(df_stocks_day.columns)\n",
    "df_stck_na = df_stocks_day[df_stocks_day.isna().any(axis=1)]\n",
    "df_idx_na = df_idx_day[df_idx_day.isna().any(axis=1)]\n",
    "\n",
    "print(\"indexes:\",df_idx_na)\n",
    "# print(\"stocks\",df_stck_na)\n",
    "print(df_stck_na.shape)\n",
    "# # for code,df in df_stck_na.groupby(\"code\"):\n",
    "# #     print(df)\n",
    "print(df_stocks_day.columns)"
   ]
  },
  {
   "cell_type": "code",
   "execution_count": 24,
   "metadata": {
    "collapsed": true
   },
   "outputs": [],
   "source": [
    "dates = sorted(df_idx_day[\"date\"].unique())"
   ]
  },
  {
   "cell_type": "code",
   "execution_count": 25,
   "metadata": {},
   "outputs": [
    {
     "name": "stdout",
     "output_type": "stream",
     "text": [
      "code          000001.SZ\nopen              11.75\nhigh              11.77\nlow                11.4\nclose             11.48\nvol             63435.3\namt             73206.8\nadj_factor       24.359\nName: 2002-03-22, dtype: object\nEmpty DataFrame\nColumns: [code, date, open, high, low, close, vol]\nIndex: []\n"
     ]
    },
    {
     "ename": "ValueError",
     "evalue": "'2002-03-22' is not in list",
     "traceback": [
      "\u001b[0;31m---------------------------------------------------------------------------\u001b[0m",
      "\u001b[0;31mValueError\u001b[0m                                Traceback (most recent call last)",
      "\u001b[0;32m<ipython-input-25-9cfb3aad6aaf>\u001b[0m in \u001b[0;36m<module>\u001b[0;34m()\u001b[0m\n\u001b[1;32m      8\u001b[0m     \u001b[0mprint\u001b[0m\u001b[0;34m(\u001b[0m\u001b[0mdf_single_stock\u001b[0m\u001b[0;34m.\u001b[0m\u001b[0mloc\u001b[0m\u001b[0;34m[\u001b[0m\u001b[0mstart_date\u001b[0m\u001b[0;34m]\u001b[0m\u001b[0;34m)\u001b[0m\u001b[0;34m\u001b[0m\u001b[0m\n\u001b[1;32m      9\u001b[0m     \u001b[0mprint\u001b[0m\u001b[0;34m(\u001b[0m\u001b[0mdf_idx_day\u001b[0m\u001b[0;34m[\u001b[0m\u001b[0mdf_idx_day\u001b[0m\u001b[0;34m[\u001b[0m\u001b[0;34m\"date\"\u001b[0m\u001b[0;34m]\u001b[0m\u001b[0;34m==\u001b[0m\u001b[0mstart_date\u001b[0m\u001b[0;34m]\u001b[0m\u001b[0;34m)\u001b[0m\u001b[0;34m\u001b[0m\u001b[0m\n\u001b[0;32m---> 10\u001b[0;31m     \u001b[0mstart_idx\u001b[0m \u001b[0;34m=\u001b[0m \u001b[0mdates\u001b[0m\u001b[0;34m.\u001b[0m\u001b[0mindex\u001b[0m\u001b[0;34m(\u001b[0m\u001b[0mstart_date\u001b[0m\u001b[0;34m)\u001b[0m\u001b[0;34m\u001b[0m\u001b[0m\n\u001b[0m\u001b[1;32m     11\u001b[0m     \u001b[0;32mfor\u001b[0m \u001b[0mi\u001b[0m \u001b[0;32min\u001b[0m \u001b[0mrange\u001b[0m\u001b[0;34m(\u001b[0m\u001b[0mstart_idx\u001b[0m\u001b[0;34m+\u001b[0m\u001b[0;36m1\u001b[0m\u001b[0;34m,\u001b[0m\u001b[0mlen\u001b[0m\u001b[0;34m(\u001b[0m\u001b[0mdates\u001b[0m\u001b[0;34m)\u001b[0m\u001b[0;34m)\u001b[0m\u001b[0;34m:\u001b[0m\u001b[0;34m\u001b[0m\u001b[0m\n\u001b[1;32m     12\u001b[0m         \u001b[0;32mif\u001b[0m \u001b[0mdates\u001b[0m\u001b[0;34m[\u001b[0m\u001b[0mi\u001b[0m\u001b[0;34m]\u001b[0m \u001b[0;32min\u001b[0m \u001b[0mdf_single_stock\u001b[0m\u001b[0;34m:\u001b[0m\u001b[0;34m\u001b[0m\u001b[0m\n",
      "\u001b[0;31mValueError\u001b[0m: '2002-03-22' is not in list"
     ],
     "output_type": "error"
    }
   ],
   "source": [
    "df_stocks_day = df_stocks_day.set_index(\"date\")\n",
    "for code, df_single_stock in df_stocks_day.groupby(by=\"code\"):\n",
    "    df_single_stock = df_single_stock.sort_index()\n",
    "    # start_date is the first date on which the whole row is not null in the\n",
    "    #  table.\n",
    "    start_date = df_single_stock[df_single_stock.notnull().all(\n",
    "        axis=1)].index.min()\n",
    "    print(df_single_stock.loc[start_date])\n",
    "    print(df_idx_day[df_idx_day[\"date\"]==start_date])\n",
    "    start_idx = dates.index(start_date)\n",
    "    for i in range(start_idx+1,len(dates)):\n",
    "        if dates[i] in df_single_stock:\n",
    "            if df_single_stock.loc[dates[i]].notna().all().all():\n",
    "               continue\n",
    "                \n",
    "            is_changed = False\n",
    "            row = df_single_stock.loc[dates[i]].copy()\n",
    "            # Note that by using groupby code, code is always not null.\n",
    "            if df_single_stock.loc[dates[i],[\"open\",\"high\",\"low\",\"close\"]].isna().all().all():\n",
    "                if df_single_stock[dates[i],[\"vol\",\"amt\",\"adj_factor\"]].isna().all().all():\n",
    "                    # All columns except code is null.\n",
    "                    df_single_stock.loc[dates[i],[\"open\",\"high\",\"low\",\"close\",\"adj_factor\"]] = df_single_stock.loc[dates[i-1],[\"open\",\"high\",\"low\",\"close\",\"adj_factor\"]]\n",
    "                    df_single_stock.loc[dates[i],[\"vol\",\"amt\"]] = [0,0]\n",
    "                    is_changed = True     \n",
    "                elif df_single_stock[dates[i],[\"vol\",\"amt\"]].isna().all().all():\n",
    "                    # All columns excpet code and adj_factor is null.\n",
    "                    df_single_stock.loc[dates[i],[\"open\",\"high\",\"low\",\"close\"]] = df_single_stock.loc[dates[i-1],[\"open\",\"high\",\"low\",\"close\"]]\n",
    "                    df_single_stock.loc[dates[i],[\"vol\",\"amt\"]] = [0,0]\n",
    "                elif df_single_stock[dates[i],\"adj_factor\"].isna().all().all() \\\n",
    "                        and (df_single_stock[dates[i],[\"vol\",\"amt\"]]==[0,0]).all().all():\n",
    "                    df_single_stock.loc[dates[i],[\"open\",\"high\",\"low\",\"close\",\"adj_factor\"]] = df_single_stock.loc[dates[i-1],[\"open\",\"high\",\"low\",\"close\",\"adj_factor\"]]\n",
    "                elif df_single_stock[dates[i],[\"vol\",\"amt\",\n",
    "                                               \"adj_factor\"]].notnull().all().all():\n",
    "                    df_single_stock.loc[dates[i],[\"open\",\"high\",\"low\",\"close\"]] = df_single_stock.loc[dates[i-1],[\"open\",\"high\",\"low\",\"close\"]]\n",
    "                else:\n",
    "                    raise ValueError(\"Error row: {}\".format(df_single_stock.loc[dates[i]]))\n",
    "                is_changed=True\n",
    "            elif df_single_stock.loc[dates[i]][:-1].notna().all().all() and \\\n",
    "                    df_single_stock.loc[dates[i],\"adj_factor\"].isna().all(\n",
    "                    ).all():\n",
    "                df_single_stock.loc[dates[i],\"adj_factor\"] = df_single_stock.loc[dates[i-1],\"adj_factor\"]\n",
    "                is_changed=True\n",
    "            elif not df_single_stock.loc[dates[i]].notna().all().all():\n",
    "                raise ValueError(\"Error row: {}\".format(df_single_stock.loc[dates[i]]))\n",
    "            if is_changed:\n",
    "                print(row, df_single_stock[dates[i]])\n"
   ]
  },
  {
   "cell_type": "code",
   "execution_count": null,
   "metadata": {},
   "outputs": [],
   "source": []
  }
 ],
 "metadata": {
  "kernelspec": {
   "display_name": "Python 2",
   "language": "python",
   "name": "python2"
  },
  "language_info": {
   "codemirror_mode": {
    "name": "ipython",
    "version": 2
   },
   "file_extension": ".py",
   "mimetype": "text/x-python",
   "name": "python",
   "nbconvert_exporter": "python",
   "pygments_lexer": "ipython2",
   "version": "2.7.6"
  }
 },
 "nbformat": 4,
 "nbformat_minor": 0
}
