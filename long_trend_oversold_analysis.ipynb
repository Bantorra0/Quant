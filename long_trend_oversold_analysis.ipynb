{
 "cells": [
  {
   "cell_type": "code",
   "execution_count": 1,
   "metadata": {},
   "outputs": [],
   "source": [
    "import pandas as pd\n",
    "import numpy as np\n",
    "from script import *\n",
    "import itertools\n",
    "import lightgbm as lgbm\n",
    "import matplotlib.pyplot as plt\n",
    "\n",
    "import time"
   ]
  },
  {
   "cell_type": "code",
   "execution_count": 2,
   "metadata": {},
   "outputs": [],
   "source": [
    "pd.set_option('display.max_rows',200)\n",
    "idx = pd.IndexSlice\n",
    "agg_operations =['mean','median','max','min','std','size']"
   ]
  },
  {
   "cell_type": "code",
   "execution_count": 6,
   "metadata": {},
   "outputs": [
    {
     "name": "stdout",
     "output_type": "stream",
     "text": [
      "Index(['open', 'high', 'low', 'close', 'vol', 'amt', 'adj_factor', 'avg',\n",
      "       'close0', 'avg0', 'pct'],\n",
      "      dtype='object')\n",
      "(3064850, 11)\n",
      "<class 'pandas.core.frame.DataFrame'>\n",
      "MultiIndex: 3064850 entries, (000001.SZ, 2010-01-04 00:00:00) to (603997.SH, 2020-04-09 00:00:00)\n",
      "Data columns (total 11 columns):\n",
      "open          float32\n",
      "high          float32\n",
      "low           float32\n",
      "close         float32\n",
      "vol           float32\n",
      "amt           float32\n",
      "adj_factor    float32\n",
      "avg           float32\n",
      "close0        float32\n",
      "avg0          float32\n",
      "pct           float32\n",
      "dtypes: float32(11)\n",
      "memory usage: 220.4 MB\n"
     ]
    }
   ],
   "source": [
    "start = 20100101\n",
    "cursor = dbop.connect_db(\"sqlite3\").cursor()\n",
    "\n",
    "df_d = dbop.create_df(cursor, STOCK_DAY[TABLE], start=start)\n",
    "df_d = dp.proc_stock_d(dp.prepare_stock_d(df_d))\n",
    "df_d.drop(columns=['open0','high0','low0','vol0'],inplace=True)\n",
    "df_d['pct'] = df_d.sort_index().groupby('code')['close'].pct_change()*100\n",
    "df_d['amt']/=1e5\n",
    "df_d = df_d.astype('float32')\n",
    "print(df_d.columns)\n",
    "print(df_d.shape)\n",
    "df_d.info(memory_usage='deep')"
   ]
  },
  {
   "cell_type": "code",
   "execution_count": 7,
   "metadata": {},
   "outputs": [
    {
     "name": "stdout",
     "output_type": "stream",
     "text": [
      "Index(['close', 'turnover_rate', 'turnover_rate_f', 'volume_ratio', 'pe',\n",
      "       'pe_ttm', 'pb', 'ps', 'ps_ttm', 'total_share', 'float_share',\n",
      "       'free_share', 'total_mv', 'circ_mv', 'pb*pe_ttm', 'pb*pe'],\n",
      "      dtype='object')\n",
      "(2904815, 16)\n",
      "<class 'pandas.core.frame.DataFrame'>\n",
      "MultiIndex: 2904815 entries, (000001.SZ, 2010-01-04 00:00:00) to (603997.SH, 2020-04-09 00:00:00)\n",
      "Data columns (total 16 columns):\n",
      "close              float32\n",
      "turnover_rate      float32\n",
      "turnover_rate_f    float32\n",
      "volume_ratio       float32\n",
      "pe                 float32\n",
      "pe_ttm             float32\n",
      "pb                 float32\n",
      "ps                 float32\n",
      "ps_ttm             float32\n",
      "total_share        float32\n",
      "float_share        float32\n",
      "free_share         float32\n",
      "total_mv           float32\n",
      "circ_mv            float32\n",
      "pb*pe_ttm          float32\n",
      "pb*pe              float32\n",
      "dtypes: float32(16)\n",
      "memory usage: 188.5 MB\n"
     ]
    }
   ],
   "source": [
    "# df_d_basic = dbop.create_df(cursor, STOCK_DAILY_BASIC[TABLE], start=start)\n",
    "# df_d_basic = dp.prepare_stock_d_basic(df_d_basic)\n",
    "# #\n",
    "# df_d_basic[\"pb*pe_ttm\"] = df_d_basic[\"pb\"] * df_d_basic[\"pe_ttm\"]\n",
    "# df_d_basic[\"pb*pe\"] = df_d_basic[\"pb\"] * df_d_basic[\"pe\"]\n",
    "\n",
    "df_d_basic = df_d_basic.astype('float32')\n",
    "print(df_d_basic.columns)\n",
    "print(df_d_basic.shape)\n",
    "df_d_basic.info(memory_usage='deep')"
   ]
  },
  {
   "cell_type": "code",
   "execution_count": 8,
   "metadata": {},
   "outputs": [
    {
     "name": "stdout",
     "output_type": "stream",
     "text": [
      "Index(['open', 'high', 'low', 'close', 'vol', 'amt', 'adj_factor', 'avg',\n",
      "       'close0', 'avg0', 'pct', '5ma', '10ma', '20ma', '30ma', '60ma', '120ma',\n",
      "       '250ma'],\n",
      "      dtype='object')\n",
      "Index(['open', 'high', 'low', 'close', 'vol', 'amt', 'adj_factor', 'avg',\n",
      "       'close0', 'avg0', 'pct', '5ma', '10ma', '20ma', '30ma', '60ma', '120ma',\n",
      "       '250ma', 'close/5ma', 'close/10ma', 'close/20ma', 'close/30ma',\n",
      "       'close/60ma', 'close/120ma', 'close/250ma'],\n",
      "      dtype='object')\n"
     ]
    }
   ],
   "source": [
    "df = df_d\n",
    "periods = [5,10,20,30,60,120,250]\n",
    "for k in periods:\n",
    "    df['{:d}ma'.format(k)]=df.reset_index('code').groupby('code')['close'].rolling(k).mean()\n",
    "print(df.columns)\n",
    "    \n",
    "for col2 in [\"{}ma\".format(k) for k in periods]:\n",
    "    col1 = 'close'\n",
    "    df['{}/{}'.format(col1,col2)] = df[col1]/df[col2]\n",
    "print(df.columns)"
   ]
  },
  {
   "cell_type": "code",
   "execution_count": 10,
   "metadata": {},
   "outputs": [
    {
     "name": "stdout",
     "output_type": "stream",
     "text": [
      "(2902921, 40)\n"
     ]
    }
   ],
   "source": [
    "# df = df.join(df_d_basic.drop(columns='close'),how='inner')"
   ]
  },
  {
   "cell_type": "code",
   "execution_count": 16,
   "metadata": {},
   "outputs": [
    {
     "name": "stdout",
     "output_type": "stream",
     "text": [
      "1080256 0.372127247003966\n"
     ]
    }
   ],
   "source": [
    "# index = df_d.index[(df_d['close/120ma']<=0.69)\n",
    "#                  & (df_d['close/30ma']<=0.778)\n",
    "#                  & (df_d['close/60ma']<=0.65)\n",
    "#                  & (df_d['close/60ma']>=0.55)\n",
    "#                 ]\n",
    "# print(df['turnover_rate_f'].head())\n",
    "# df['p10mean_turnover_rate_f'] = df.reset_index('code').groupby('code')['turnover_rate_f'].rolling(10).mean()\n",
    "stock_mask = (df['circ_mv']>50e4) & (df['total_mv']>100e4) & (df['close']>5) & (df['p10mean_turnover_rate_f']<5)\n",
    "print(stock_mask.sum(),stock_mask.mean())\n",
    "# print(len(index))"
   ]
  },
  {
   "cell_type": "code",
   "execution_count": 17,
   "metadata": {},
   "outputs": [],
   "source": [
    "start_date = '-'.join([str(start)[:4],str(start)[4:6],str(start)[6:8]])\n",
    "df_r = pd.read_parquet(r\"database\\return_5%_10%_20_8_15%\").loc[idx[:,start_date:],:].sort_index()"
   ]
  },
  {
   "cell_type": "code",
   "execution_count": null,
   "metadata": {},
   "outputs": [],
   "source": [
    "ml.assess"
   ]
  }
 ],
 "metadata": {
  "kernelspec": {
   "display_name": "Python 3",
   "language": "python",
   "name": "python3"
  },
  "language_info": {
   "codemirror_mode": {
    "name": "ipython",
    "version": 3
   },
   "file_extension": ".py",
   "mimetype": "text/x-python",
   "name": "python",
   "nbconvert_exporter": "python",
   "pygments_lexer": "ipython3",
   "version": "3.6.4"
  }
 },
 "nbformat": 4,
 "nbformat_minor": 2
}
