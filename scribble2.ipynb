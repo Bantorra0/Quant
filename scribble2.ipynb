{
 "cells": [
  {
   "cell_type": "code",
   "execution_count": 2,
   "metadata": {},
   "outputs": [],
   "source": [
    "import pandas as pd\n",
    "import numpy as np\n",
    "import matplotlib.pyplot as plt\n",
    "\n",
    "import constants as const\n",
    "import db_operations as dbop\n",
    "import data_prepare as dp\n",
    "import ml_model\n",
    "import customized_obj as cus_obj\n",
    "\n",
    "import xgboost.sklearn as xgb\n",
    "import lightgbm.sklearn as lgbm\n",
    "import sklearn.preprocessing as preproc\n",
    "import sklearn.metrics as metrics\n",
    "import sklearn as sk\n",
    "\n",
    "import datetime\n",
    "import time\n",
    "import multiprocessing as mp"
   ]
  },
  {
   "cell_type": "code",
   "execution_count": 15,
   "metadata": {},
   "outputs": [
    {
     "name": "stdout",
     "output_type": "stream",
     "text": [
      "basic: 110.0\n",
      "[]\n",
      "0\n",
      "area        object\n",
      "industry    object\n",
      "market      object\n",
      "exchange    object\n",
      "is_hs       object\n",
      "dtype: object\n",
      "Empty DataFrame\n",
      "Columns: [code, symbol, name, area, industry, fullname, enname, market, exchange, curr_type, list_status, list_date, delist_date, is_hs]\n",
      "Index: []\n",
      "code           object\n",
      "symbol         object\n",
      "name           object\n",
      "area            uint8\n",
      "industry        uint8\n",
      "fullname       object\n",
      "enname         object\n",
      "market          uint8\n",
      "exchange        uint8\n",
      "curr_type      object\n",
      "list_status    object\n",
      "list_date      object\n",
      "delist_date    object\n",
      "is_hs           uint8\n",
      "dtype: object\n"
     ]
    }
   ],
   "source": [
    "db_type = \"sqlite3\"\n",
    "conn = dbop.connect_db(db_type)\n",
    "\n",
    "cols_category = [\"area\", \"industry\", \"market\", \"exchange\", \"is_hs\"]\n",
    "df_stock_basic = dbop.create_df(conn.cursor(), const.STOCK_BASIC[const.TABLE])\n",
    "# print(df_stock_basic[df_stock_basic[cols_category].isna().any(axis=1)][\n",
    "#           cols_category])\n",
    "df_stock_basic.loc[:, cols_category] = df_stock_basic[cols_category].fillna(\"\")\n",
    "\n",
    "enc = sk.preprocessing.OrdinalEncoder()\n",
    "val_enc = enc.fit_transform(df_stock_basic[cols_category])\n",
    "df_stock_basic.loc[:, cols_category] = val_enc\n",
    "print(\"basic:\", np.max(val_enc))\n",
    "print(val_enc[np.isnan(val_enc)])\n",
    "print(np.sum(np.isnan(val_enc)))\n",
    "\n",
    "# print(df_stock_basic.dtypes)\n",
    "print(df_stock_basic[cols_category].dtypes)\n",
    "# print(df_stock_basic[cols_category].iloc[:50])\n",
    "print(df_stock_basic[df_stock_basic[cols_category].isnull().any(axis=1)])\n",
    "\n",
    "if np.max(val_enc)<2**8:\n",
    "#     df_stock_basic.loc[:,cols_category] = df_stock_basic[cols_category].astype(\"uint8\")\n",
    "    df_stock_basic[cols_category] = df_stock_basic[cols_category].astype(\"uint8\")\n",
    "    print(df_stock_basic.dtypes)"
   ]
  },
  {
   "cell_type": "code",
   "execution_count": 16,
   "metadata": {},
   "outputs": [
    {
     "name": "stdout",
     "output_type": "stream",
     "text": [
      "(3669, 5) (3669,)\n"
     ]
    }
   ],
   "source": [
    "X = df_stock_basic[cols_category]\n",
    "y = df_stock_basic[cols_category].sum(axis=1)\n",
    "print(X.shape,y.shape)"
   ]
  },
  {
   "cell_type": "code",
   "execution_count": 17,
   "metadata": {},
   "outputs": [
    {
     "name": "stdout",
     "output_type": "stream",
     "text": [
      "LGBMRegressor(boosting_type='gbdt', class_weight=None, colsample_bytree=1.0,\n",
      "       learning_rate=0.1, max_depth=-1, min_child_samples=20,\n",
      "       min_child_weight=0.001, min_split_gain=0.0, n_estimators=10,\n",
      "       n_jobs=-1, num_leaves=31, objective=None, random_state=None,\n",
      "       reg_alpha=0.0, reg_lambda=0.0, silent=True, subsample=1.0,\n",
      "       subsample_for_bin=200000, subsample_freq=0)\n"
     ]
    }
   ],
   "source": [
    "reg = lgbm.LGBMRegressor(n_estimators=10)\n",
    "print(reg.fit(X,y))"
   ]
  },
  {
   "cell_type": "code",
   "execution_count": null,
   "metadata": {},
   "outputs": [],
   "source": []
  }
 ],
 "metadata": {
  "kernelspec": {
   "display_name": "Python 3",
   "language": "python",
   "name": "python3"
  },
  "language_info": {
   "codemirror_mode": {
    "name": "ipython",
    "version": 3
   },
   "file_extension": ".py",
   "mimetype": "text/x-python",
   "name": "python",
   "nbconvert_exporter": "python",
   "pygments_lexer": "ipython3",
   "version": "3.6.4"
  }
 },
 "nbformat": 4,
 "nbformat_minor": 2
}
