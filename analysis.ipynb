{
 "cells": [
  {
   "cell_type": "code",
   "execution_count": 1,
   "metadata": {},
   "outputs": [],
   "source": [
    "import pandas as pd\n",
    "import numpy as np\n",
    "from script import *\n",
    "import itertools\n",
    "import lightgbm as lgbm"
   ]
  },
  {
   "cell_type": "code",
   "execution_count": 2,
   "metadata": {},
   "outputs": [],
   "source": [
    "pd.set_option('display.max_rows',200)\n",
    "idx = pd.IndexSlice\n",
    "agg_operations =['mean','median','max','min','size']"
   ]
  },
  {
   "cell_type": "code",
   "execution_count": 15,
   "metadata": {},
   "outputs": [
    {
     "name": "stdout",
     "output_type": "stream",
     "text": [
      "2013-01-01\n"
     ]
    }
   ],
   "source": [
    "start = 20130101\n",
    "start_date = '-'.join([str(start)[:4],str(start)[4:6],str(start)[6:8]])\n",
    "print(start_date)\n",
    "# df_r = pd.read_parquet(r\"database\\return_8%_20%_60_20\")\n",
    "# df_rs = pd.read_parquet(r\"database\\return_5%_10%_20_8_inf%\").loc[idx[:,start_date:],:].sort_index()\n",
    "# df_rs_sp = pd.read_parquet(r\"database\\return_5%_10%_20_8_15% v0\").loc[idx[:,start_date:],:].sort_index()\n",
    "df_rs_sp2 = pd.read_parquet(r\"database\\return_5%_10%_20_8_15%\").loc[idx[:,start_date:],:].sort_index()"
   ]
  },
  {
   "cell_type": "code",
   "execution_count": 18,
   "metadata": {},
   "outputs": [
    {
     "name": "stdout",
     "output_type": "stream",
     "text": [
      "        stop_profit2  stop_profit  not_stop_profit  sp/|nsp|-1  sp2/|nsp|-1\n",
      "mean        0.002697     0.002797         0.002754    1.543012    -2.083758\n",
      "median     -0.008584    -0.008565        -0.008569    0.046551    -0.167942\n",
      "max        10.329513    10.329513        10.329513    0.000000     0.000000\n",
      "min        -0.872727    -0.872727        -0.872727    0.000000     0.000000\n"
     ]
    }
   ],
   "source": [
    "# inter_index = df_rs_sp.index.intersection(df_rs.index) # 避免范围不同导致的差别\n",
    "if len(inter_index)==len(df_rs_sp)==len(df_rs):\n",
    "    res = pd.DataFrame([df_rs_sp2.loc[:,'r'].agg(agg_operations[:4]),\n",
    "                    df_rs_sp.loc[:,'r'].agg(agg_operations[:4]),\n",
    "                    df_rs.loc[:,'r'].agg(agg_operations[:4])],\n",
    "                   index=['stop_profit2','stop_profit',\"not_stop_profit\"]).T\n",
    "else:\n",
    "    res = pd.DataFrame([df_rs_sp.loc[inter_index,'r'].agg(agg_operations[:4]),\n",
    "                    df_rs.loc[inter_index,'r'].agg(agg_operations[:4])],\n",
    "                   index=['stop_profit',\"not_stop_profit\"]).T\n",
    "res['sp/|nsp|-1'] = (res['stop_profit']-res['not_stop_profit'])/res['not_stop_profit'].abs()*100\n",
    "res['sp2/|nsp|-1'] = (res['stop_profit2']-res['not_stop_profit'])/res['not_stop_profit'].abs()*100\n",
    "\n",
    "# print(\"不止盈的收益统计\",df_rs.r.agg(agg_operations[:4]))\n",
    "# print(\"止盈的收益统计\",df_rs_sp.loc[inter_index,'r'].agg(agg_operations[:4]))\n",
    "print(res)\n",
    "\n",
    "# 结论：\n",
    "# 偏短模式下15%收盘次日开盘止盈，mean提升了10.68%，提升明显，\n",
    "#   表明止盈减少的利润回撤远大于放弃的进一步涨幅，大部分个股短期涨幅在15%附近，继续大涨的个股比例较小。\n",
    "# median提升了0.39%，推测是中位数以上的赚钱样本提升明显，但中位数以下基本达不到止盈条件，相当于不变，所以中位数最终提升轻微。"
   ]
  },
  {
   "cell_type": "code",
   "execution_count": 14,
   "metadata": {},
   "outputs": [
    {
     "name": "stdout",
     "output_type": "stream",
     "text": [
      "mean     -2.585487e-04\n",
      "median   -1.063830e-02\n",
      "max       5.111111e+00\n",
      "min      -8.727273e-01\n",
      "size      1.359186e+06\n",
      "Name: r, dtype: float64\n",
      "mean     -2.572295e-04\n",
      "median   -1.063830e-02\n",
      "max       5.111111e+00\n",
      "min      -8.727273e-01\n",
      "size      1.359186e+06\n",
      "Name: r, dtype: float64\n"
     ]
    }
   ],
   "source": [
    "print(df_rs_sp.loc[idx[:,'2016-01-01':'2020-03-19'],'r'].agg(agg_operations))\n",
    "print(df_rs.loc[idx[:,'2016-01-01':'2020-03-19'],'r'].agg(agg_operations))"
   ]
  },
  {
   "cell_type": "code",
   "execution_count": null,
   "metadata": {},
   "outputs": [],
   "source": []
  }
 ],
 "metadata": {
  "kernelspec": {
   "display_name": "Python 3",
   "language": "python",
   "name": "python3"
  },
  "language_info": {
   "codemirror_mode": {
    "name": "ipython",
    "version": 3
   },
   "file_extension": ".py",
   "mimetype": "text/x-python",
   "name": "python",
   "nbconvert_exporter": "python",
   "pygments_lexer": "ipython3",
   "version": "3.6.4"
  }
 },
 "nbformat": 4,
 "nbformat_minor": 2
}
