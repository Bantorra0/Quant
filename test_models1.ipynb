{
 "cells": [
  {
   "cell_type": "code",
   "execution_count": 70,
   "metadata": {
    "collapsed": true
   },
   "outputs": [],
   "source": [
    "import matplotlib.pyplot as plt\n",
    "import numpy as np\n",
    "import pandas as pd\n",
    "\n",
    "import collect as clct\n",
    "import db_operations as dbop\n",
    "\n",
    "\n",
    "def _check_int(arg):\n",
    "    if type(arg) != int:\n",
    "        raise ValueError(\"{} is not a int\".format(arg))\n",
    "\n",
    "\n",
    "def _check_iterable(arg):\n",
    "    if not hasattr(arg, \"__iter__\"):\n",
    "        raise ValueError(\"{} is not iterable\".format(arg))\n",
    "\n",
    "\n",
    "def _make_iterable(arg):\n",
    "    if type(arg) == str or not hasattr(arg, \"__iter__\"):\n",
    "        return [arg]\n",
    "    else:\n",
    "        return arg\n",
    "\n",
    "\n",
    "def _prefix(prefix, df: pd.DataFrame, copy=False):\n",
    "    if copy:\n",
    "        df = df.copy()\n",
    "    df.columns = list(map(lambda col: str(prefix) + \"_\" + col, df.columns))\n",
    "    return df\n",
    "\n",
    "\n",
    "def _move(days, df: pd.DataFrame, cols=None, prefix=True):\n",
    "    _check_int(days)\n",
    "    if cols is None:\n",
    "        cols = df.columns\n",
    "    cols = _make_iterable(cols)\n",
    "\n",
    "    if days > 0:\n",
    "        pre = \"p{}mv\".format(abs(days))\n",
    "        df_mv = df[cols].iloc[days:].copy()\n",
    "        df_mv.index = df.index[:-days]\n",
    "    else:\n",
    "        pre = \"f{}mv\".format(abs(days))\n",
    "        df_mv = df[cols].iloc[:days].copy()\n",
    "        df_mv.index = df.index[-days:]\n",
    "\n",
    "    if prefix:\n",
    "        return _prefix(pre, df_mv)\n",
    "    else:\n",
    "        return df_mv\n",
    "\n",
    "\n",
    "def _rolling(rolling_type, days, df: pd.DataFrame, cols, move=0, has_prefix=True):\n",
    "    _check_int(days)\n",
    "    cols = _make_iterable(cols)\n",
    "\n",
    "    period = abs(days)\n",
    "    if rolling_type==\"max\":\n",
    "        df_rolling = df[cols].rolling(window=abs(days)).max()\n",
    "    elif rolling_type==\"min\":\n",
    "        df_rolling = df[cols].rolling(window=abs(days)).min()\n",
    "    elif rolling_type==\"mean\":\n",
    "        df_rolling = df[cols].rolling(window=abs(days)).max()\n",
    "    else:\n",
    "        raise ValueError(\"rolling_type='{}' is not supported.\".format(rolling_type))\n",
    "\n",
    "    if move != 0:\n",
    "        df_rolling = _move(move, df_rolling)\n",
    "    n = len(df_rolling)\n",
    "    idxes = df_rolling.index\n",
    "    if days > 0:\n",
    "        pre = \"f\" + str(abs(days)) + rolling_type\n",
    "        df_rolling = df_rolling.iloc[period - 1:n]\n",
    "        df_rolling.index = idxes[period - 1:n]\n",
    "    else:\n",
    "        pre = \"p\" + str(abs(days)) + rolling_type\n",
    "        df_rolling = df_rolling.iloc[period - 1:n]\n",
    "        if n - period + 1 >= 0:\n",
    "            df_rolling.index = idxes[:n - period + 1]\n",
    "\n",
    "    if has_prefix:\n",
    "        return _prefix(pre, df_rolling)\n",
    "    else:\n",
    "        return df_rolling\n",
    "\n",
    "\n",
    "def _rolling_max(days, df: pd.DataFrame, cols, move=0, has_prefix=True):\n",
    "    _check_int(days)\n",
    "    cols = _make_iterable(cols)\n",
    "\n",
    "    period = abs(days)\n",
    "    df_rolling = df[cols].rolling(window=abs(days)).max()\n",
    "    if move!=0:\n",
    "        # print(\"--------\",move)\n",
    "        # print(df_rolling[df[\"code\"] == \"600887.SH\"][\"high\"].iloc[:30])\n",
    "        df_rolling = _move(move, df_rolling)\n",
    "        # print(df_rolling[df[\"code\"] == \"600887.SH\"][\"f1mv_high\"].iloc[:30])\n",
    "    n = len(df_rolling)\n",
    "    idxes = df_rolling.index\n",
    "    if days > 0:\n",
    "        pre = \"f\" + str(abs(days)) + \"max\"\n",
    "        df_rolling = df_rolling.iloc[period-1:n]\n",
    "        df_rolling.index = idxes[period-1:n]\n",
    "        # df_rolling = df_rolling.iloc[period-1:n+move]\n",
    "        # df_rolling.index = df.index[period-1-move:n]\n",
    "    else:\n",
    "        pre= \"p\" + str(abs(days)) + \"max\"\n",
    "        df_rolling = df_rolling.iloc[period-1:n]\n",
    "        if n-period+1>=0:\n",
    "            df_rolling.index = idxes[:n-period+1]\n",
    "\n",
    "        # df_rolling = df_rolling.iloc[period-1+move:n]\n",
    "        # df_rolling.index = df.index[:n-period+1-move]\n",
    "\n",
    "    if has_prefix:\n",
    "        return _prefix(pre,df_rolling)\n",
    "    else:\n",
    "        return df_rolling\n",
    "\n",
    "\n",
    "def _rolling_min(days, df: pd.DataFrame, cols, move=0, has_prefix=True):\n",
    "    _check_int(days)\n",
    "    cols = _make_iterable(cols)\n",
    "\n",
    "    period = abs(days)\n",
    "    df_rolling = df[cols].rolling(window=abs(days)).min()\n",
    "    if move != 0:\n",
    "        # print(\"--------\",move)\n",
    "        # print(df_rolling[df[\"code\"] == \"600887.SH\"][\"high\"].iloc[:30])\n",
    "        df_rolling = _move(move, df_rolling)\n",
    "        # print(df_rolling[df[\"code\"] == \"600887.SH\"][\"f1mv_high\"].iloc[:30])\n",
    "    n = len(df_rolling)\n",
    "    idxes = df_rolling.index\n",
    "    if days > 0:\n",
    "        pre = \"f\" + str(abs(days)) + \"min\"\n",
    "        df_rolling = df_rolling.iloc[period - 1:n]\n",
    "        df_rolling.index = idxes[period - 1:n]\n",
    "    else:\n",
    "        pre = \"p\" + str(abs(days)) + \"min\"\n",
    "        df_rolling = df_rolling.iloc[period - 1:n]\n",
    "        if n-period+1>=0:\n",
    "            df_rolling.index = idxes[:n-period+1]\n",
    "\n",
    "    if has_prefix:\n",
    "        return _prefix(pre,df_rolling)\n",
    "    else:\n",
    "        return df_rolling\n",
    "\n",
    "\n",
    "def _rolling_mean(days, df: pd.DataFrame, cols, move=0, has_prefix=True):\n",
    "    _check_int(days)\n",
    "    cols = _make_iterable(cols)\n",
    "\n",
    "    period = abs(days)\n",
    "    df_rolling = df[cols].rolling(window=abs(days)).mean()\n",
    "    if move != 0:\n",
    "        df_rolling = _move(move, df_rolling)\n",
    "    n = len(df_rolling)\n",
    "    idxes = df_rolling.index\n",
    "    if days > 0:\n",
    "        pre = \"f\" + str(abs(days)) + \"mean\"\n",
    "        df_rolling = df_rolling.iloc[period - 1:n]\n",
    "        df_rolling.index = idxes[period - 1:n]\n",
    "    else:\n",
    "        pre = \"p\" + str(abs(days)) + \"mean\"\n",
    "        df_rolling = df_rolling.iloc[period - 1:n]\n",
    "        if n - period + 1 >= 0:\n",
    "            df_rolling.index = idxes[:n - period + 1]\n",
    "\n",
    "    if has_prefix:\n",
    "        return _prefix(pre,df_rolling)\n",
    "    else:\n",
    "        return df_rolling\n",
    "\n",
    "\n",
    "def change_rate(df1: pd.DataFrame, df2: pd.DataFrame, cols1=None, cols2 =None):\n",
    "    if cols1:\n",
    "        df1 = df1[cols1].copy()\n",
    "    if cols2:\n",
    "        df2 = df2[cols2].copy()\n",
    "    \n",
    "    if df1.shape[1] != df2.shape[1]:\n",
    "        raise ValueError(\"Column length not the same:{0}!={1}\".format(df1.shape[1], df2.shape[1]))\n",
    "\n",
    "    df1 = df1.copy()\n",
    "    df1.columns = df2.columns\n",
    "    df3 = (df2 - df1) / df1\n",
    "    df3 = _prefix(\"change_rate\", df3)\n",
    "    return df3\n",
    "\n",
    "\n",
    "def create_df(cursor, table_name, start=None):\n",
    "    if start:\n",
    "        sql_select = \"select * from {0} where date>={1}\".format(table_name,start)\n",
    "    else:\n",
    "        sql_select = \"select * from {0}\".format(table_name)\n",
    "    cursor.execute(sql_select)\n",
    "    df = pd.DataFrame(cursor.fetchall())\n",
    "    df.columns = dbop.cols_from_cur(cursor)\n",
    "    return df\n",
    "\n",
    "\n",
    "def prepare_stck_d(df_stck_d):\n",
    "    df_stck_d = df_stck_d.set_index([\"date\"]).sort_index(ascending=False)\n",
    "    df_stck_d = df_stck_d[[\"code\", \"open\", \"high\", \"low\", \"close\", \"vol\", \"amt\", \"adj_factor\"]]\n",
    "    return df_stck_d\n",
    "\n",
    "\n",
    "def prepare_idx_d(df_idx_d):\n",
    "    df_idx_d = df_idx_d.set_index(\"date\").sort_index(ascending=False)\n",
    "    return df_idx_d\n",
    "\n",
    "\n",
    "def prepare_each_stck(df_stck):\n",
    "    df_stck = df_stck.copy()\n",
    "    qfq_cols = [\"open\", \"high\", \"low\", \"close\"]\n",
    "    # qfq_factor = np.array(df_stck[\"adj_factor\"] / df_stck[\"adj_factor\"].iloc[0])\n",
    "    # print(qfq_factor.shape)\n",
    "    qfq_factor = np.array(df_stck[\"adj_factor\"]).reshape(-1, 1) * np.ones((1,\n",
    "                                                                  len(qfq_cols)))\n",
    "    # print(df_stck[qfq_cols].dtypes)\n",
    "    # print(qfq_factor.shape, qfq_factor.dtype)\n",
    "    # print(df_stck[qfq_cols]/qfq_factor)\n",
    "    df_stck.loc[:, qfq_cols] = df_stck[qfq_cols] * qfq_factor\n",
    "    # print(qfq_factor[:30])\n",
    "    return df_stck\n",
    "\n",
    "\n",
    "def proc_stck_d(df_stck_d, pred_period = 10):\n",
    "    df_stck_d = prepare_stck_d(df_stck_d)\n",
    "\n",
    "    df_stck_list = []\n",
    "    cols_move = [\"open\", \"high\", \"low\", \"close\", \"amt\"]\n",
    "    cols_roll = [\"open\", \"high\", \"low\", \"close\", \"amt\"]\n",
    "    cols_future = None\n",
    "    for code, df in df_stck_d.groupby(\"code\"):\n",
    "        df = df.sort_index(ascending=False)\n",
    "        df = prepare_each_stck(df)\n",
    "        df_label_min = _rolling_min(pred_period, df, \"low\", move=-1)\n",
    "        df_label_max = _rolling_max(pred_period-1, df, \"high\", move=-2)\n",
    "        p1 = (pred_period-1)//3\n",
    "        p2 = p1\n",
    "        p3 = pred_period-1-p1-p2\n",
    "        df_label_mean1 = _rolling_mean(p1,df,\"open\",move=-2)\n",
    "        df_label_mean2 = _rolling_mean(p2,df,\"open\",move=-2-p1)\n",
    "        df_label_mean3 = _rolling_mean(p3,df,\"open\",move=-2-p1-p2)\n",
    "\n",
    "        # print(df_label_min.columns)\n",
    "        df_tomorrow = _move(-1,df,[\"open\",\"high\",\"low\",\"close\"])\n",
    "        \n",
    "        # df_label_min = _rolling_min(pred_period,df,\"low\")\n",
    "\n",
    "        # if code == \"000002.SZ\":\n",
    "        #     tmp = _rolling_min(-5,df,cols_roll).loc[\"2018-08-07\"]\n",
    "        #     print(tmp)\n",
    "        df_move_list = [change_rate(df[cols_move], _move(i, df, cols_move)) for i in range(1, 6)]\n",
    "        df_rolling_list = [(change_rate(df[cols_roll], _rolling_max(i, df, cols_roll)),\n",
    "                            change_rate(df[cols_roll], _rolling_min(i, df, cols_roll)),\n",
    "                            change_rate(df[cols_roll], _rolling_mean(i, df, cols_roll)))\n",
    "                           for i in [-5, -10, -20, -60, -120, -250]]\n",
    "\n",
    "        df_roll_flat_list = []\n",
    "        for df_rolling_group in df_rolling_list:\n",
    "            df_roll_flat_list.extend(df_rolling_group)\n",
    "\n",
    "        df_labels = pd.concat([df_tomorrow,\n",
    "                               df_label_max,\n",
    "                               df_label_min,\n",
    "                               df_label_mean1,\n",
    "                               df_label_mean2,\n",
    "                               df_label_mean3], axis=1,sort=False)\n",
    "        df_stck = pd.concat(\n",
    "            [df] + df_move_list + df_roll_flat_list + [df_labels],\n",
    "                        axis=1, sort=False)\n",
    "        df_stck_list.append(df_stck)\n",
    "\n",
    "        if not cols_future:\n",
    "            cols_future = list(df_labels)\n",
    "        # print(tmp.shape)\n",
    "        # print(tmp[tmp[col_label].isnull()])\n",
    "        if code == \"002217.SZ\":\n",
    "            print(df[df.index==\"2018-01-02\"])\n",
    "            print(df_stck[df_stck.index==\"2018-01-02\"])\n",
    "\n",
    "    df_stck_d_all = pd.concat(df_stck_list, sort=False)\n",
    "    for df in df_stck_list:\n",
    "        print(df[\"code\"].unique(),df.shape)\n",
    "        print(df[\"code\"].unique(),df[df.index>=\"2018-01-01\"].shape)\n",
    "    print(\"count stck\",len(df_stck_d_all[\"code\"][df_stck_d_all.index >= \"2018-01-01\"].unique()))\n",
    "    print(df_stck_d_all.shape)\n",
    "\n",
    "    return df_stck_d_all,cols_future\n",
    "\n",
    "\n",
    "def proc_idx_d(df_idx_d: pd.DataFrame):\n",
    "    df_idx_d = prepare_idx_d(df_idx_d)\n",
    "    cols_move = [\"open\", \"high\", \"low\", \"close\", \"vol\"]\n",
    "    cols_roll = cols_move\n",
    "\n",
    "    df_idx_list = []\n",
    "    for name, group in df_idx_d.groupby(\"code\"):\n",
    "        group = group.sort_index(ascending=False)\n",
    "        del group[\"code\"]\n",
    "        df_move_list = [change_rate(group[cols_move], _move(i, group, cols_move)) for i in range(1, 6)]\n",
    "        df_rolling_list = [(change_rate(group[[\"high\",\"vol\"]], _rolling_max(i, group, [\"high\",\"vol\"])),\n",
    "                            change_rate(group[[\"low\",\"vol\"]], _rolling_min(i, group, [\"low\",\"vol\"])),\n",
    "                            change_rate(group[[\"open\",\"close\",\"vol\"]], _rolling_mean(i, group, [\"open\",\"close\",\"vol\"])))\n",
    "                           for i in [-5, -10, -20,-60,-120,-250,-500]]\n",
    "\n",
    "        df_roll_flat_list = []\n",
    "        for df_rolling_group in df_rolling_list:\n",
    "            df_roll_flat_list.extend(df_rolling_group)\n",
    "\n",
    "        tmp_list = [group] + df_move_list + df_roll_flat_list\n",
    "        tmp = pd.concat(tmp_list, axis=1, sort=False)\n",
    "        df_idx_list.append(_prefix(name, tmp))\n",
    "\n",
    "    df_idx_d = pd.concat(df_idx_list, axis=1, sort=False)\n",
    "    return df_idx_d\n",
    "\n",
    "\n",
    "def prepare_data(cursor, pred_period=10, start=None):\n",
    "    stock_day, index_day = clct.STOCK_DAY[clct.TABLE], clct.INDEX_DAY[\n",
    "        clct.TABLE]\n",
    "\n",
    "    df_stck_d = create_df(cursor, stock_day,start)\n",
    "    df_idx_d = create_df(cursor, index_day,start)\n",
    "\n",
    "    df_stck_d_all,cols_future = proc_stck_d(df_stck_d,pred_period=pred_period)\n",
    "    print(df_stck_d_all.shape)\n",
    "\n",
    "    df_idx_d = proc_idx_d(df_idx_d)\n",
    "    print(df_idx_d.shape,len(df_idx_d.index.unique()))\n",
    "    df_all = df_stck_d_all.join(df_idx_d)\n",
    "    print(df_all.shape)\n",
    "\n",
    "    print(df_all[(df_all.index == \"2018-01-02\") & (df_all[\"code\"]==\"002217.SZ\")])\n",
    "\n",
    "    return df_all,cols_future\n",
    "\n",
    "\n",
    "def y_distribution(y):\n",
    "    y = y.copy().dropna()\n",
    "    # print distribution of y\n",
    "    print(\"before\",sum(y<0))\n",
    "    print(\"y<-0.5:\", sum(y < -0.5))\n",
    "    for i in range(-5, 5):\n",
    "        tmp1 = ((i * 0.1) <= y)\n",
    "        tmp2 = (y < ((i + 1) * 0.1))\n",
    "        if len(tmp1) == 0 or len(tmp2) == 0:\n",
    "            tmp = [False]\n",
    "        else:\n",
    "            tmp = tmp1 & tmp2\n",
    "        print(\"{0:.2f}<=y<{1:.2f}:\".format(i * 0.1, (i + 1) * 0.1),\n",
    "              sum(tmp))\n",
    "    print(\"y>0.5\", sum(y > 0.5))\n",
    "    print(\"after\", sum(y < 0))\n",
    "    plt.figure()\n",
    "    plt.hist(y,bins=np.arange(-10, 11)*0.1)\n",
    "\n",
    "\n",
    "def gen_y(df_all:pd.DataFrame, threshold=0.1, pred_period=10, \n",
    "          label_type=\"inc\"):\n",
    "    if label_type and (label_type not in [\"inc\",\"dec\"]):\n",
    "        raise ValueError(\"label_type {} is not supported!\".format(label_type))\n",
    "    \n",
    "    y = (df_all[\"f{}max_f2mv_high\".format(pred_period-1)] / df_all[\n",
    "        \"f1mv_open\"] - 1)\n",
    "    y_distribution(y)\n",
    "    \n",
    "    if label_type==\"dec\":\n",
    "        y = -y\n",
    "    \n",
    "    if label_type:\n",
    "        y[y > threshold] = 1\n",
    "        y[y <= threshold] = 0\n",
    "        print(\"过滤涨停前\",sum(y==1))\n",
    "\n",
    "    y[df_all[\"f1mv_high\"]==df_all[\"f1mv_low\"]] = 0\n",
    "    \n",
    "    if label_type:\n",
    "        print(\"过滤涨停后\",sum(y==1))\n",
    "\n",
    "    return y\n",
    "\n",
    "\n",
    "def feature_select(X,y):\n",
    "    import sklearn.ensemble as ensemble\n",
    "    clf = ensemble.ExtraTreesClassifier(random_state=0)\n",
    "    clf.fit(X,y)\n",
    "    import sklearn.feature_selection as fselect\n",
    "    model = fselect.SelectFromModel(clf,prefit=True)\n",
    "    X_new = model.transform(X)\n",
    "    print(\"selected feature number:\", X_new.shape)\n",
    "\n",
    "    return X_new,model\n",
    "\n",
    "\n",
    "def drop_null(X,y):\n",
    "    Xy = np.concatenate((np.array(X), np.array(y).reshape(-1, 1)), axis=1)\n",
    "    Xy = pd.DataFrame(Xy, index=X.index).dropna()\n",
    "    X = Xy.iloc[:, :-1].copy()\n",
    "    y = Xy.iloc[:, -1].copy()\n",
    "    return X,y"
   ]
  },
  {
   "cell_type": "code",
   "execution_count": 38,
   "metadata": {},
   "outputs": [
    {
     "name": "stdout",
     "output_type": "stream",
     "text": [
      "                 code      open      high       low     close        vol  \\\ndate                                                                       \n2018-01-02  002217.SZ  56.11754  56.45492  55.55524  56.00508  191532.71   \n\n                   amt  adj_factor  \ndate                                \n2018-01-02  190581.978       5.623  \n                 code      open      high       low     close        vol  \\\n2018-01-02  002217.SZ  56.11754  56.45492  55.55524  56.00508  191532.71   \n\n                   amt  adj_factor  change_rate_p1mv_open  \\\n2018-01-02  190581.978       5.623               0.007014   \n\n            change_rate_p1mv_high        ...          \\\n2018-01-02                0.00996        ...           \n\n            change_rate_p250mean_amt  f1mv_open  f1mv_high  f1mv_low  \\\n2018-01-02                  0.063479   55.83639   58.14182  55.78016   \n\n            f1mv_close  f19max_f2mv_high  f20min_f1mv_low  f6mean_f2mv_open  \\\n2018-01-02    57.80444          58.31051         47.28943         56.745442   \n\n            f6mean_f8mv_open  f7mean_f14mv_open  \n2018-01-02         52.097095          52.454557  \n\n[1 rows x 132 columns]\n"
     ]
    },
    {
     "name": "stdout",
     "output_type": "stream",
     "text": [
      "['000001.SZ'] (2370, 132)\n['000001.SZ'] (182, 132)\n['000002.SZ'] (2370, 132)\n['000002.SZ'] (182, 132)\n['000063.SZ'] (2370, 132)\n['000063.SZ'] (182, 132)\n['000070.SZ'] (2370, 132)\n['000070.SZ'] (182, 132)\n['000333.SZ'] (1227, 132)\n['000333.SZ'] (182, 132)\n['000636.SZ'] (2370, 132)\n['000636.SZ'] (182, 132)\n['000651.SZ'] (2370, 132)\n['000651.SZ'] (182, 132)\n['000725.SZ'] (2370, 132)\n['000725.SZ'] (182, 132)\n['000858.SZ'] (2370, 132)\n['000858.SZ'] (182, 132)\n['002027.SZ'] (2370, 132)\n['002027.SZ'] (182, 132)\n['002217.SZ'] (2370, 132)\n['002217.SZ'] (182, 132)\n['002236.SZ'] (2370, 132)\n['002236.SZ'] (182, 132)\n['002335.SZ'] (2119, 132)\n['002335.SZ'] (182, 132)\n['002359.SZ'] (2099, 132)\n['002359.SZ'] (182, 132)\n['002402.SZ'] (2042, 132)\n['002402.SZ'] (182, 132)\n['002415.SZ'] (2029, 132)\n['002415.SZ'] (182, 132)\n['002446.SZ'] (2000, 132)\n['002446.SZ'] (182, 132)\n['002913.SZ'] (203, 132)\n['002913.SZ'] (182, 132)\n['300038.SZ'] (2122, 132)\n['300038.SZ'] (182, 132)\n['300059.SZ'] (2077, 132)\n['300059.SZ'] (182, 132)\n['300068.SZ'] (2055, 132)\n['300068.SZ'] (182, 132)\n['300113.SZ'] (1967, 132)\n['300113.SZ'] (182, 132)\n['300292.SZ'] (1605, 132)\n['300292.SZ'] (182, 132)\n['300679.SZ'] (287, 132)\n['300679.SZ'] (182, 132)\n['600050.SH'] (2370, 132)\n['600050.SH'] (182, 132)\n['600276.SH'] (2370, 132)\n['600276.SH'] (182, 132)\n['600345.SH'] (2370, 132)\n['600345.SH'] (182, 132)\n['600487.SH'] (2370, 132)\n['600487.SH'] (182, 132)\n['600519.SH'] (2370, 132)\n['600519.SH'] (182, 132)\n['600522.SH'] (2370, 132)\n['600522.SH'] (182, 132)\n['600536.SH'] (2370, 132)\n['600536.SH'] (182, 132)\n['600703.SH'] (2370, 132)\n['600703.SH'] (182, 132)\n['600779.SH'] (2370, 132)\n['600779.SH'] (182, 132)\n['600887.SH'] (2370, 132)\n['600887.SH'] (182, 132)\n['601138.SH'] (78, 132)\n['601138.SH'] (78, 132)\n['601318.SH'] (2370, 132)\n['601318.SH'] (182, 132)\n['601336.SH'] (1651, 132)\n['601336.SH'] (182, 132)\n['603799.SH'] (896, 132)\n['603799.SH'] (182, 132)\ncount stck 38\n(76597, 132)\n(76597, 132)\n"
     ]
    },
    {
     "name": "stdout",
     "output_type": "stream",
     "text": [
      "(2126, 395) 2126\n"
     ]
    },
    {
     "name": "stdout",
     "output_type": "stream",
     "text": [
      "(76597, 527)\n"
     ]
    },
    {
     "name": "stdout",
     "output_type": "stream",
     "text": [
      "                 code      open      high       low     close        vol  \\\n2018-01-02  002217.SZ  56.11754  56.45492  55.55524  56.00508  191532.71   \n\n                   amt  adj_factor  change_rate_p1mv_open  \\\n2018-01-02  190581.978       5.623               0.007014   \n\n            change_rate_p1mv_high              ...                \\\n2018-01-02                0.00996              ...                 \n\n            sz50_change_rate_p250mean_open  sz50_change_rate_p250mean_close  \\\n2018-01-02                       -0.108622                        -0.119734   \n\n            sz50_change_rate_p250mean_vol  sz50_change_rate_p500max_high  \\\n2018-01-02                      -0.452498                       0.043269   \n\n            sz50_change_rate_p500max_vol  sz50_change_rate_p500min_low  \\\n2018-01-02                       0.72266                     -0.340513   \n\n            sz50_change_rate_p500min_vol  sz50_change_rate_p500mean_open  \\\n2018-01-02                       -0.8293                       -0.173943   \n\n            sz50_change_rate_p500mean_close  sz50_change_rate_p500mean_vol  \n2018-01-02                        -0.184545                      -0.447775  \n\n[1 rows x 527 columns]\n"
     ]
    },
    {
     "name": "stdout",
     "output_type": "stream",
     "text": [
      "2014-01-02   -0.012346\n2014-01-02   -0.005019\n2014-01-02    0.016703\n2014-01-02    0.100000\n2014-01-02    0.017769\n2014-01-02    0.019928\n2014-01-02   -0.018987\n2014-01-02    0.037736\n2014-01-02    0.007828\n2014-01-02    0.685499\n2014-01-02    0.267578\n2014-01-02    0.014118\n2014-01-02    0.173324\n2014-01-02    0.099548\n2014-01-02    0.275000\n2014-01-02    0.020259\n2014-01-02    0.158824\n2014-01-02    0.329836\n2014-01-02    0.141119\n2014-01-02    0.237326\n2014-01-02   -0.018634\n2014-01-02    0.013825\n2014-01-02   -0.002089\n2014-01-02   -0.000466\n2014-01-02    0.147944\n2014-01-02    0.094288\n2014-01-02    0.178862\n2014-01-02    0.097378\n2014-01-02    0.030395\n2014-01-02    0.090612\n                ...   \n2018-08-29    0.072214\n2018-08-29    0.016413\n2018-08-29   -0.019108\n2018-08-29    0.079975\n2018-08-29   -0.008950\n2018-08-29    0.007974\n2018-08-29    0.000000\n2018-08-29    0.012737\n2018-08-29    0.020188\n2018-08-29    0.039495\n2018-08-29   -0.027422\n2018-08-29   -0.006912\n2018-08-29   -0.000786\n2018-08-29    0.035448\n2018-08-29    0.059585\n2018-08-29   -0.020665\n2018-08-29    0.033392\n2018-08-29   -0.033644\n2018-08-29    0.012219\n2018-08-29   -0.019522\n2018-08-29    0.064617\n2018-08-29   -0.018319\n2018-08-29    0.088629\n2018-08-29    0.016484\n2018-08-29    0.018692\n2018-08-29   -0.032404\n2018-08-29    0.017845\n2018-08-29    0.097350\n2018-08-29    0.088699\n2018-08-29    0.073138\nLength: 37361, dtype: float64\nbefore 2376\ny<-0.5: 0\n-0.50<=y<-0.40: 0\n-0.40<=y<-0.30: 0\n-0.30<=y<-0.20: 0\n-0.20<=y<-0.10: 27\n-0.10<=y<0.00: 2349\n0.00<=y<0.10: 19043\n0.10<=y<0.20: 9880\n0.20<=y<0.30: 3506\n0.30<=y<0.40: 1373\n0.40<=y<0.50: 545\ny>0.5 637\nafter 2376\n过滤涨停前 9708\n过滤涨停后 9579\nnull: 726\n"
     ]
    },
    {
     "name": "stdout",
     "output_type": "stream",
     "text": [
      "full and X (37369, 517) (37369, 527)\n(37369, 517) (37369,)\ntotal positive 9579.0\n(5803, 517) (5803,)\ntest positive: 936.0\n(5803, 527) (5803, 517)\n(1, 527)\n"
     ]
    },
    {
     "data": {
      "image/png": "[encoded data removed]",
      "text/plain": [
       "<Figure size 432x288 with 1 Axes>"
      ]
     },
     "metadata": {},
     "output_type": "display_data"
    }
   ],
   "source": [
    "db_type = \"sqlite3\"\n",
    "\n",
    "conn = dbop.connect_db(db_type)\n",
    "cursor = conn.cursor()\n",
    "\n",
    "pred_period = 20\n",
    "df_all, cols_future = prepare_data(cursor, pred_period=pred_period, start=\"2011-01-01\")\n",
    "\n",
    "import xgboost.sklearn as xgb\n",
    "import lightgbm.sklearn as lgbm\n",
    "import sklearn.metrics as metrics\n",
    "import matplotlib.pyplot as plt\n",
    "import time\n",
    "import sklearn.preprocessing as preproc\n",
    "\n",
    "period = (df_all.index >= \"2014-01-01\")\n",
    "df_all = df_all[period]\n",
    "\n",
    "df_all = df_all[df_all[\"amt\"] != 0]\n",
    "\n",
    "y = gen_y(df_all, threshold=0.15, pred_period=pred_period,label_type=\"inc\")\n",
    "print(\"null:\", sum(y.isnull()))\n",
    "\n",
    "features = df_all.columns.difference(cols_future + [\"code\"])\n",
    "\n",
    "X = df_all[features]\n",
    "\n",
    "# X,y = drop_null(X,y)\n",
    "X = X[y.notnull()]\n",
    "X_full = df_all[y.notnull()]\n",
    "print(\"full and X\", X.shape, X_full.shape)\n",
    "y = y.dropna()\n",
    "print(X.shape, y.shape)\n",
    "print(\"total positive\", sum(y))\n",
    "\n",
    "condition = (X.index >= \"2018-01-01\")\n",
    "X_train, y_train = X[~condition], y[~condition]\n",
    "X_test, y_test = X[condition], y[condition]\n",
    "\n",
    "print(X_test.shape, y_test.shape)\n",
    "print(\"test positive:\", sum(y_test))\n",
    "\n",
    "X_train_full = X_full.loc[condition]\n",
    "X_test_full = X_full.loc[condition]\n",
    "\n",
    "print(X_test_full.shape, X_test.shape)\n",
    "print(X_test_full[(X_test_full.index == \"2018-01-02\") & (X_test_full[\"code\"] == \"002217.SZ\")].shape)\n",
    "\n",
    "# print(X_test_full[\"code\"].iloc[np.array(y_test == 1)])\n",
    "# print(X_test_full[X_test_full[\"code\"]==\"002217.SZ\"])\n",
    "\n",
    "# # scaler = preproc.StandardScaler()\n",
    "# # X_train = scaler.fit_transform(X_train)\n",
    "# # X_test = scaler.transform(X_test)\n",
    "#\n",
    "# # X_train,selector = feature_select(X_train,y_train)\n",
    "# # X_test = selector.transform(X_test)\n",
    "#\n",
    "#\n",
    "scale_pos_weight = sum(y == 0) / sum(y == 1)"
   ]
  },
  {
   "cell_type": "code",
   "execution_count": null,
   "metadata": {},
   "outputs": [
    {
     "name": "stdout",
     "output_type": "stream",
     "text": [
      "[0. 1.]\n(5803,) 280\n2018-01-30    002446.SZ\n2018-02-01    002446.SZ\n2018-02-01    600487.SH\n2018-02-01    600536.SH\n2018-02-06    002446.SZ\n2018-02-06    300679.SZ\n2018-02-06    600536.SH\n2018-02-07    002335.SZ\n2018-02-07    002446.SZ\n2018-02-07    300679.SZ\n2018-02-07    600536.SH\n2018-02-08    000002.SZ\n2018-02-09    000002.SZ\n2018-02-13    000002.SZ\n2018-02-14    000002.SZ\n2018-02-14    000858.SZ\n2018-02-14    300679.SZ\n2018-02-14    600519.SH\n2018-02-22    000002.SZ\n2018-02-27    000002.SZ\n2018-02-28    000002.SZ\n2018-02-28    000651.SZ\n2018-02-28    000858.SZ\n2018-02-28    002446.SZ\n2018-02-28    600519.SH\n2018-03-01    000002.SZ\n2018-03-01    000651.SZ\n2018-03-01    000858.SZ\n2018-03-02    000002.SZ\n2018-03-02    000651.SZ\n                ...    \n2018-08-17    300679.SZ\n2018-08-17    600345.SH\n2018-08-17    600536.SH\n2018-08-17    603799.SH\n2018-08-20    002236.SZ\n2018-08-21    002236.SZ\n2018-08-21    600779.SH\n2018-08-22    000063.SZ\n2018-08-22    002236.SZ\n2018-08-22    600536.SH\n2018-08-22    600703.SH\n2018-08-22    600779.SH\n2018-08-23    002236.SZ\n2018-08-23    600779.SH\n2018-08-24    000063.SZ\n2018-08-24    000636.SZ\n2018-08-24    603799.SH\n2018-08-27    002236.SZ\n2018-08-28    000063.SZ\n2018-08-28    000651.SZ\n2018-08-28    002236.SZ\n2018-08-29    000002.SZ\n2018-08-29    000063.SZ\n2018-08-29    002236.SZ\n2018-08-29    300292.SZ\n2018-08-29    600779.SH\n2018-09-05    002359.SZ\n2018-09-06    002359.SZ\n2018-09-10    002359.SZ\n2018-09-11    002359.SZ\nName: code, Length: 280, dtype: object\naccuracy 0.8128554196105463\nprecison 0.23214285714285715\nrecall 0.06944444444444445\nLGBMClassifier(boosting_type='gbdt', class_weight=None, colsample_bytree=1.0,\n        learning_rate=0.1, max_depth=8, min_child_samples=20,\n        min_child_weight=0.001, min_split_gain=0.0, n_estimators=300,\n        n_jobs=-1, num_leaves=100, objective=None, random_state=0,\n        reg_alpha=0.0, reg_lambda=0.0, scale_pos_weight=0.1, silent=True,\n        subsample=1.0, subsample_for_bin=200000, subsample_freq=0) 148.33089137077332\n[0. 1.]\n(5803,) 58\n2018-02-01    600536.SH\n2018-04-25    000002.SZ\n2018-05-14    000002.SZ\n2018-06-25    000063.SZ\n2018-06-26    000063.SZ\n2018-06-27    000063.SZ\n2018-06-28    000063.SZ\n2018-06-29    000063.SZ\n2018-07-02    000063.SZ\n2018-07-03    000063.SZ\n2018-07-04    000063.SZ\n2018-07-05    000063.SZ\n2018-07-06    000063.SZ\n2018-07-09    000063.SZ\n2018-07-10    000063.SZ\n2018-07-11    000063.SZ\n2018-07-12    000063.SZ\n2018-07-13    000063.SZ\n2018-07-16    000063.SZ\n2018-07-18    000636.SZ\n2018-07-18    600536.SH\n2018-07-26    000063.SZ\n2018-07-27    000063.SZ\n2018-07-30    000063.SZ\n2018-07-31    000063.SZ\n2018-08-01    000063.SZ\n2018-08-02    000063.SZ\n2018-08-02    002236.SZ\n2018-08-03    000063.SZ\n2018-08-06    000063.SZ\n2018-08-07    000063.SZ\n2018-08-08    000063.SZ\n2018-08-08    002236.SZ\n2018-08-08    603799.SH\n2018-08-09    000063.SZ\n2018-08-09    603799.SH\n2018-08-10    000063.SZ\n2018-08-10    002236.SZ\n2018-08-10    603799.SH\n2018-08-14    000063.SZ\n2018-08-14    600536.SH\n2018-08-14    603799.SH\n2018-08-15    000063.SZ\n2018-08-15    002236.SZ\n2018-08-15    600536.SH\n2018-08-15    603799.SH\n2018-08-16    600536.SH\n2018-08-16    603799.SH\n2018-08-17    600536.SH\n2018-08-17    603799.SH\n2018-08-20    600536.SH\n2018-08-21    600536.SH\n2018-08-22    000063.SZ\n2018-08-22    002236.SZ\n2018-08-23    002236.SZ\n2018-08-23    600536.SH\n2018-08-24    002236.SZ\n2018-08-28    600536.SH\nName: code, dtype: object\naccuracy 0.839393417198001\nprecison 0.5344827586206896\nrecall 0.03311965811965812\nXGBClassifier(base_score=0.5, booster='gbtree', colsample_bylevel=1,\n       colsample_bytree=1, gamma=0, learning_rate=0.1, max_delta_step=0,\n       max_depth=5, min_child_weight=1, missing=None, n_estimators=300,\n       n_jobs=1, nthread=None, objective='binary:logistic', random_state=0,\n       reg_alpha=0, reg_lambda=1, scale_pos_weight=0.1, seed=None,\n       silent=True, subsample=1) 359.8664538860321\n"
     ]
    },
    {
     "data": {
      "image/png": "[encoded data removed]",
      "text/plain": [
       "<Figure size 432x288 with 1 Axes>"
      ]
     },
     "metadata": {},
     "output_type": "display_data"
    },
    {
     "data": {
      "image/png": "[encoded data removed]",
      "text/plain": [
       "<Figure size 432x288 with 1 Axes>"
      ]
     },
     "metadata": {},
     "output_type": "display_data"
    }
   ],
   "source": [
    "clfs = [\n",
    "    lgbm.LGBMClassifier(n_estimators=300, scale_pos_weight=0.1,\n",
    "                        num_leaves=100, max_depth=8, random_state=0),\n",
    "    xgb.XGBClassifier(n_estimators=300, scale_pos_weight=0.1,\n",
    "                      max_depth=5,\n",
    "                      random_state=0, ),\n",
    "]\n",
    "\n",
    "y_prd_list = []\n",
    "colors = [\"r\", \"b\"]\n",
    "for clf, c in zip(clfs, colors):\n",
    "    t1 = time.time()\n",
    "    clf.fit(X_train, y_train)\n",
    "    t2 = time.time()\n",
    "    y_prd_list.append([clf, t2 - t1, clf.predict_proba(X_test), c])\n"
   ]
  },
  {
   "cell_type": "code",
   "execution_count": 49,
   "metadata": {},
   "outputs": [
    {
     "name": "stdout",
     "output_type": "stream",
     "text": [
      "[0. 1.]\n(5803,) 280\n2018-01-30    002446.SZ\n2018-02-01    002446.SZ\n2018-02-01    600487.SH\n2018-02-01    600536.SH\n2018-02-06    002446.SZ\n2018-02-06    300679.SZ\n2018-02-06    600536.SH\n2018-02-07    002335.SZ\n2018-02-07    002446.SZ\n2018-02-07    300679.SZ\n2018-02-07    600536.SH\n2018-02-08    000002.SZ\n2018-02-09    000002.SZ\n2018-02-13    000002.SZ\n2018-02-14    000002.SZ\n2018-02-14    000858.SZ\n2018-02-14    300679.SZ\n2018-02-14    600519.SH\n2018-02-22    000002.SZ\n2018-02-27    000002.SZ\n2018-02-28    000002.SZ\n2018-02-28    000651.SZ\n2018-02-28    000858.SZ\n2018-02-28    002446.SZ\n2018-02-28    600519.SH\n2018-03-01    000002.SZ\n2018-03-01    000651.SZ\n2018-03-01    000858.SZ\n2018-03-02    000002.SZ\n2018-03-02    000651.SZ\n                ...    \n2018-08-17    300679.SZ\n2018-08-17    600345.SH\n2018-08-17    600536.SH\n2018-08-17    603799.SH\n2018-08-20    002236.SZ\n2018-08-21    002236.SZ\n2018-08-21    600779.SH\n2018-08-22    000063.SZ\n2018-08-22    002236.SZ\n2018-08-22    600536.SH\n2018-08-22    600703.SH\n2018-08-22    600779.SH\n2018-08-23    002236.SZ\n2018-08-23    600779.SH\n2018-08-24    000063.SZ\n2018-08-24    000636.SZ\n2018-08-24    603799.SH\n2018-08-27    002236.SZ\n2018-08-28    000063.SZ\n2018-08-28    000651.SZ\n2018-08-28    002236.SZ\n2018-08-29    000002.SZ\n2018-08-29    000063.SZ\n2018-08-29    002236.SZ\n2018-08-29    300292.SZ\n2018-08-29    600779.SH\n2018-09-05    002359.SZ\n2018-09-06    002359.SZ\n2018-09-10    002359.SZ\n2018-09-11    002359.SZ\nName: code, Length: 280, dtype: object\naccuracy 0.8128554196105463\nprecison 0.23214285714285715\nrecall 0.06944444444444445\nLGBMClassifier(boosting_type='gbdt', class_weight=None, colsample_bytree=1.0,\n        learning_rate=0.1, max_depth=8, min_child_samples=20,\n        min_child_weight=0.001, min_split_gain=0.0, n_estimators=300,\n        n_jobs=-1, num_leaves=100, objective=None, random_state=0,\n        reg_alpha=0.0, reg_lambda=0.0, scale_pos_weight=0.1, silent=True,\n        subsample=1.0, subsample_for_bin=200000, subsample_freq=0) 148.33089137077332\n[0. 1.]\n(5803,) 58\n2018-02-01    600536.SH\n2018-04-25    000002.SZ\n2018-05-14    000002.SZ\n2018-06-25    000063.SZ\n2018-06-26    000063.SZ\n2018-06-27    000063.SZ\n2018-06-28    000063.SZ\n2018-06-29    000063.SZ\n2018-07-02    000063.SZ\n2018-07-03    000063.SZ\n2018-07-04    000063.SZ\n2018-07-05    000063.SZ\n2018-07-06    000063.SZ\n2018-07-09    000063.SZ\n2018-07-10    000063.SZ\n2018-07-11    000063.SZ\n2018-07-12    000063.SZ\n2018-07-13    000063.SZ\n2018-07-16    000063.SZ\n2018-07-18    000636.SZ\n2018-07-18    600536.SH\n2018-07-26    000063.SZ\n2018-07-27    000063.SZ\n2018-07-30    000063.SZ\n2018-07-31    000063.SZ\n2018-08-01    000063.SZ\n2018-08-02    000063.SZ\n2018-08-02    002236.SZ\n2018-08-03    000063.SZ\n2018-08-06    000063.SZ\n2018-08-07    000063.SZ\n2018-08-08    000063.SZ\n2018-08-08    002236.SZ\n2018-08-08    603799.SH\n2018-08-09    000063.SZ\n2018-08-09    603799.SH\n2018-08-10    000063.SZ\n2018-08-10    002236.SZ\n2018-08-10    603799.SH\n2018-08-14    000063.SZ\n2018-08-14    600536.SH\n2018-08-14    603799.SH\n2018-08-15    000063.SZ\n2018-08-15    002236.SZ\n2018-08-15    600536.SH\n2018-08-15    603799.SH\n2018-08-16    600536.SH\n2018-08-16    603799.SH\n2018-08-17    600536.SH\n2018-08-17    603799.SH\n2018-08-20    600536.SH\n2018-08-21    600536.SH\n2018-08-22    000063.SZ\n2018-08-22    002236.SZ\n2018-08-23    002236.SZ\n2018-08-23    600536.SH\n2018-08-24    002236.SZ\n2018-08-28    600536.SH\nName: code, dtype: object\naccuracy 0.839393417198001\nprecison 0.5344827586206896\nrecall 0.03311965811965812\nXGBClassifier(base_score=0.5, booster='gbtree', colsample_bylevel=1,\n       colsample_bytree=1, gamma=0, learning_rate=0.1, max_delta_step=0,\n       max_depth=5, min_child_weight=1, missing=None, n_estimators=300,\n       n_jobs=1, nthread=None, objective='binary:logistic', random_state=0,\n       reg_alpha=0, reg_lambda=1, scale_pos_weight=0.1, seed=None,\n       silent=True, subsample=1) 359.8664538860321\n"
     ]
    },
    {
     "data": {
      "image/png": "[encoded data removed]",
      "text/plain": [
       "<Figure size 432x288 with 1 Axes>"
      ]
     },
     "metadata": {},
     "output_type": "display_data"
    },
    {
     "data": {
      "image/png": "[encoded data removed]",
      "text/plain": [
       "<Figure size 432x288 with 1 Axes>"
      ]
     },
     "metadata": {},
     "output_type": "display_data"
    }
   ],
   "source": [
    "for clf, t, y_prd_prob, c in y_prd_list:\n",
    "    y_prd = np.where(y_prd_prob[:, 0] < 0.25, 1, 0)\n",
    "    print(clf.classes_)\n",
    "    print(y_prd.shape, sum(y_prd))\n",
    "\n",
    "    print(X_test_full[\"code\"].iloc[y_prd==1])\n",
    "    # print(X_test_full[\"code\"])\n",
    "\n",
    "    print(\"accuracy\", metrics.accuracy_score(y_test, y_prd))\n",
    "    print(\"precison\", metrics.precision_score(y_test, y_prd))\n",
    "    print(\"recall\", metrics.recall_score(y_test, y_prd))\n",
    "    precision, recall, _ = metrics.precision_recall_curve(y_test, y_prd_prob[:, 1])\n",
    "\n",
    "    plt.figure()\n",
    "    plt.title(clf.__class__)\n",
    "    plt.xlim(0, 1)\n",
    "    plt.ylim(0, 1)\n",
    "    plt.xlabel(\"recall\")\n",
    "    plt.ylabel(\"precision\")\n",
    "    plt.plot(recall, precision, color=c)\n",
    "    print(clf, t)\n"
   ]
  },
  {
   "cell_type": "code",
   "execution_count": 50,
   "metadata": {
    "collapsed": true
   },
   "outputs": [
    {
     "name": "stdout",
     "output_type": "stream",
     "text": [
      "                 code  f1mv_open  f19max_f2mv_high       pct     y_prd\n2018-04-25  000002.SZ   4160.190          3962.478 -0.047525  0.755439\n2018-05-14  000002.SZ   3859.503          3812.821 -0.012095  0.757259\n                 code  f1mv_open  f19max_f2mv_high       pct     y_prd\n2018-06-25  000063.SZ  203.65230         277.21972  0.361240  0.951405\n2018-06-26  000063.SZ  206.96757         277.21972  0.339436  0.950841\n2018-06-27  000063.SZ  202.07360         277.21972  0.371875  0.967484\n2018-06-28  000063.SZ  206.33609         277.21972  0.343535  0.967498\n2018-06-29  000063.SZ  205.70461         277.21972  0.347659  0.968806\n2018-07-02  000063.SZ  191.81205         277.21972  0.445267  0.957633\n2018-07-03  000063.SZ  212.33515         277.21972  0.305576  0.945221\n2018-07-04  000063.SZ  213.12450         277.21972  0.300741  0.981344\n2018-07-05  000063.SZ  207.75692         277.21972  0.334347  0.990305\n2018-07-06  000063.SZ  207.59905         277.21972  0.335361  0.982108\n2018-07-09  000063.SZ  205.54674         277.21972  0.348694  0.983463\n2018-07-10  000063.SZ  193.23288         277.21972  0.434641  0.972529\n2018-07-11  000063.SZ  210.12497         277.21972  0.319309  0.956016\n2018-07-12  000063.SZ  228.59576         277.21972  0.212707  0.896327\n2018-07-13  000063.SZ  231.75316         277.21972  0.196185  0.966489\n2018-07-16  000063.SZ  258.59106         277.21972  0.072039  0.816875\n2018-07-26  000063.SZ  240.59388         278.32481  0.156824  0.860790\n2018-07-27  000063.SZ  242.33045         278.32481  0.148534  0.826499\n2018-07-30  000063.SZ  236.33139         294.26968  0.245157  0.867232\n2018-07-31  000063.SZ  231.27955         308.47798  0.333788  0.912702\n2018-08-01  000063.SZ  228.91150         308.47798  0.347586  0.860131\n2018-08-02  000063.SZ  219.59717         310.05668  0.411934  0.955961\n2018-08-03  000063.SZ  206.80970         310.05668  0.499237  0.942564\n2018-08-06  000063.SZ  209.96710         310.05668  0.476692  0.933942\n2018-08-07  000063.SZ  214.70320         310.05668  0.444118  0.887918\n2018-08-08  000063.SZ  207.12544         310.05668  0.496951  0.972046\n2018-08-09  000063.SZ  230.64807         310.05668  0.344285  0.862337\n2018-08-10  000063.SZ  225.59623         310.05668  0.374388  0.886471\n2018-08-14  000063.SZ  257.32810         310.05668  0.204908  0.795303\n2018-08-15  000063.SZ  240.90962         310.05668  0.287025  0.796335\n2018-08-22  000063.SZ  254.17070         310.05668  0.219876  0.756511\n                 code  f1mv_open  f19max_f2mv_high       pct     y_prd\n2018-07-18  000636.SZ   387.8802          388.7271  0.002183  0.824725\n                 code  f1mv_open  f19max_f2mv_high       pct     y_prd\n2018-08-02  002236.SZ  702.26840         709.41724  0.010180  0.778330\n2018-08-08  002236.SZ  645.49820         721.19180  0.117264  0.820643\n2018-08-10  002236.SZ  693.85800         721.19180  0.039394  0.773610\n2018-08-15  002236.SZ  655.17016         721.19180  0.100770  0.759103\n2018-08-22  002236.SZ  627.83636         721.19180  0.148694  0.864815\n2018-08-23  002236.SZ  634.98520         721.19180  0.135762  0.750363\n2018-08-24  002236.SZ  636.66728         721.19180  0.132761  0.799326\n                 code  f1mv_open  f19max_f2mv_high       pct     y_prd\n2018-02-01  600536.SH   62.80820          78.37830  0.247899  0.768247\n2018-07-18  600536.SH  129.78823         165.92576  0.278435  0.790835\n2018-08-14  600536.SH  161.95751         172.22205  0.063378  0.824233\n2018-08-15  600536.SH  154.49720         172.22205  0.114726  0.928919\n2018-08-16  600536.SH  155.55540         172.22205  0.107143  0.913634\n2018-08-17  600536.SH  146.03160         172.22205  0.179348  0.935356\n2018-08-20  600536.SH  157.67180         172.22205  0.092282  0.753047\n2018-08-21  600536.SH  155.02630         172.22205  0.110922  0.780481\n2018-08-23  600536.SH  153.43900         172.22205  0.122414  0.765680\n2018-08-28  600536.SH  159.73529         172.22205  0.078172  0.772190\n                 code  f1mv_open  f19max_f2mv_high       pct     y_prd\n2018-08-08  603799.SH   71.81356          76.73055  0.068469  0.924167\n2018-08-09  603799.SH   73.69817          76.73055  0.041146  0.797300\n2018-08-10  603799.SH   72.39453          76.73055  0.059894  0.775614\n2018-08-14  603799.SH   74.36416          76.73055  0.031822  0.839186\n2018-08-15  603799.SH   69.57470          76.73055  0.102851  0.826452\n2018-08-16  603799.SH   69.82976          76.73055  0.098823  0.852650\n2018-08-17  603799.SH   69.43300          76.73055  0.105102  0.775317\n"
     ]
    }
   ],
   "source": [
    "y_prd = y_prd_list[1][2]\n",
    "prd_inc = X_test_full[y_prd[:,0]<0.25][[\"code\",\"f1mv_open\",\n",
    "                                       # \"f20max_f1mv_high\",\n",
    "                                       \"f19max_f2mv_high\"]]\n",
    "prd_inc[\"pct\"] = prd_inc[\"f19max_f2mv_high\"]/prd_inc[\"f1mv_open\"]-1\n",
    "prd_inc[\"y_prd\"]=y_prd[:,1][y_prd[:,0]<0.25]\n",
    "\n",
    "for code, df in prd_inc.groupby([\"code\"]):\n",
    "    print(df)\n",
    "    "
   ]
  },
  {
   "cell_type": "code",
   "execution_count": null,
   "metadata": {},
   "outputs": [
    {
     "name": "stdout",
     "output_type": "stream",
     "text": [
      "0.08248621903957754\n"
     ]
    },
    {
     "ename": "IndexError",
     "evalue": "too many indices for array",
     "traceback": [
      "\u001b[1;31m---------------------------------------------------------------------------\u001b[0m",
      "\u001b[1;31mIndexError\u001b[0m                                Traceback (most recent call last)",
      "\u001b[1;32m<ipython-input-79-06e6cfee01dd>\u001b[0m in \u001b[0;36m<module>\u001b[1;34m()\u001b[0m\n\u001b[0;32m     11\u001b[0m     \u001b[0mp0\u001b[0m \u001b[1;33m=\u001b[0m \u001b[0mi\u001b[0m\u001b[1;33m*\u001b[0m\u001b[1;36m0.1\u001b[0m\u001b[1;33m\u001b[0m\u001b[0m\n\u001b[0;32m     12\u001b[0m     \u001b[0mp1\u001b[0m \u001b[1;33m=\u001b[0m \u001b[1;33m(\u001b[0m\u001b[0mi\u001b[0m\u001b[1;33m+\u001b[0m\u001b[1;36m1\u001b[0m\u001b[1;33m)\u001b[0m\u001b[1;33m*\u001b[0m\u001b[1;36m0.1\u001b[0m\u001b[1;33m\u001b[0m\u001b[0m\n\u001b[1;32m---> 13\u001b[1;33m     \u001b[0mtmp\u001b[0m \u001b[1;33m=\u001b[0m \u001b[0minc\u001b[0m\u001b[1;33m[\u001b[0m\u001b[1;34m\"pct\"\u001b[0m\u001b[1;33m]\u001b[0m\u001b[1;33m[\u001b[0m\u001b[1;33m(\u001b[0m\u001b[0mp0\u001b[0m\u001b[1;33m<\u001b[0m\u001b[0my_prd\u001b[0m\u001b[1;33m[\u001b[0m\u001b[1;33m:\u001b[0m\u001b[1;33m,\u001b[0m\u001b[1;36m1\u001b[0m\u001b[1;33m]\u001b[0m\u001b[1;33m)\u001b[0m \u001b[1;33m&\u001b[0m \u001b[1;33m(\u001b[0m\u001b[0my_prd\u001b[0m\u001b[1;33m[\u001b[0m\u001b[1;33m:\u001b[0m\u001b[1;33m,\u001b[0m\u001b[1;36m1\u001b[0m\u001b[1;33m]\u001b[0m\u001b[1;33m<\u001b[0m\u001b[0mp1\u001b[0m\u001b[1;33m)\u001b[0m\u001b[1;33m]\u001b[0m\u001b[1;33m\u001b[0m\u001b[0m\n\u001b[0m\u001b[0;32m     14\u001b[0m     \u001b[0my1\u001b[0m\u001b[1;33m.\u001b[0m\u001b[0mappend\u001b[0m\u001b[1;33m(\u001b[0m\u001b[0mtmp\u001b[0m\u001b[1;33m.\u001b[0m\u001b[0mmean\u001b[0m\u001b[1;33m(\u001b[0m\u001b[1;33m)\u001b[0m\u001b[1;33m)\u001b[0m\u001b[1;33m\u001b[0m\u001b[0m\n\u001b[0;32m     15\u001b[0m     \u001b[0mcount\u001b[0m\u001b[1;33m.\u001b[0m\u001b[0mappend\u001b[0m\u001b[1;33m(\u001b[0m\u001b[0mlen\u001b[0m\u001b[1;33m(\u001b[0m\u001b[0mtmp\u001b[0m\u001b[1;33m)\u001b[0m\u001b[1;33m)\u001b[0m\u001b[1;33m\u001b[0m\u001b[0m\n",
      "\u001b[1;31mIndexError\u001b[0m: too many indices for array"
     ],
     "output_type": "error"
    }
   ],
   "source": [
    "inc = X_test_full[[\"code\",\"f1mv_open\",\n",
    "                   \"f19max_f2mv_high\"]].copy()\n",
    "inc[\"pct\"] = inc[\"f19max_f2mv_high\"]/inc[\"f1mv_open\"]-1\n",
    "y0 = inc[\"pct\"].mean()\n",
    "print(y0)\n",
    "x0 = np.arange(11)*0.1\n",
    "y0 = np.ones(x0.shape)*y0\n",
    "y1 = []\n",
    "count = []\n",
    "for i in range(10):\n",
    "    p0 = i*0.1\n",
    "    p1 = (i+1)*0.1\n",
    "    tmp = inc[\"pct\"][(p0<y_prd[:,1]) & (y_prd[:,1]<p1)]\n",
    "    y1.append(tmp.mean())\n",
    "    count.append(len(tmp))\n",
    "\n",
    "print(count)\n",
    "plt.bar(np.arange(len(y1))*0.1+0.05,y1,width=0.08)\n",
    "plt.plot(x0,y0,color='r')\n",
    "# plt.plot(x,y1,color='r')\n",
    "plt.xlim(0,1)\n",
    "plt.ylim(0,0.5)\n",
    "plt.show()"
   ]
  },
  {
   "cell_type": "code",
   "execution_count": 62,
   "metadata": {},
   "outputs": [
    {
     "name": "stdout",
     "output_type": "stream",
     "text": [
      "2014-01-02   -0.012346\n2014-01-02   -0.005019\n2014-01-02    0.016703\n2014-01-02    0.100000\n2014-01-02    0.017769\n2014-01-02    0.019928\n2014-01-02   -0.018987\n2014-01-02    0.037736\n2014-01-02    0.007828\n2014-01-02    0.685499\n2014-01-02    0.267578\n2014-01-02    0.014118\n2014-01-02    0.173324\n2014-01-02    0.099548\n2014-01-02    0.275000\n2014-01-02    0.020259\n2014-01-02    0.158824\n2014-01-02    0.329836\n2014-01-02    0.141119\n2014-01-02    0.237326\n2014-01-02   -0.018634\n2014-01-02    0.013825\n2014-01-02   -0.002089\n2014-01-02   -0.000466\n2014-01-02    0.147944\n2014-01-02    0.094288\n2014-01-02    0.178862\n2014-01-02    0.097378\n2014-01-02    0.030395\n2014-01-02    0.090612\n                ...   \n2018-08-29    0.072214\n2018-08-29    0.016413\n2018-08-29   -0.019108\n2018-08-29    0.079975\n2018-08-29   -0.008950\n2018-08-29    0.007974\n2018-08-29    0.000000\n2018-08-29    0.012737\n2018-08-29    0.020188\n2018-08-29    0.039495\n2018-08-29   -0.027422\n2018-08-29   -0.006912\n2018-08-29   -0.000786\n2018-08-29    0.035448\n2018-08-29    0.059585\n2018-08-29   -0.020665\n2018-08-29    0.033392\n2018-08-29   -0.033644\n2018-08-29    0.012219\n2018-08-29   -0.019522\n2018-08-29    0.064617\n2018-08-29   -0.018319\n2018-08-29    0.088629\n2018-08-29    0.016484\n2018-08-29    0.018692\n2018-08-29   -0.032404\n2018-08-29    0.017845\n2018-08-29    0.097350\n2018-08-29    0.088699\n2018-08-29    0.073138\nLength: 37361, dtype: float64\nbefore 2376\ny<-0.5: 0\n-0.50<=y<-0.40: 0\n-0.40<=y<-0.30: 0\n-0.30<=y<-0.20: 0\n-0.20<=y<-0.10: 27\n-0.10<=y<0.00: 2349\n0.00<=y<0.10: 19043\n0.10<=y<0.20: 9880\n0.20<=y<0.30: 3506\n0.30<=y<0.40: 1373\n0.40<=y<0.50: 545\ny>0.5 637\nafter 2376\n"
     ]
    },
    {
     "data": {
      "image/png": "[encoded data removed]",
      "text/plain": [
       "<Figure size 432x288 with 1 Axes>"
      ]
     },
     "metadata": {},
     "output_type": "display_data"
    }
   ],
   "source": [
    "y_reg = gen_y(df_all,pred_period=pred_period,label_type=None)\n",
    "y_reg = y_reg.dropna()\n",
    "y_reg_train,y_reg_test = y_reg[~condition],y_reg[condition]\n",
    "\n",
    "regs = [\n",
    "    lgbm.LGBMRegressor(n_estimators=300,\n",
    "                        num_leaves=100, max_depth=8, random_state=0),\n",
    "    xgb.XGBRegressor(n_estimators=300,\n",
    "                      max_depth=5,\n",
    "                      random_state=0),\n",
    "]\n",
    "\n",
    "y_prd_list = []\n",
    "colors = [\"r\", \"b\"]\n",
    "for reg, c in zip(regs, colors):\n",
    "    t1 = time.time()\n",
    "    reg.fit(X_train, y_reg_train)\n",
    "    t2 = time.time()\n",
    "    y_prd_list.append([reg, t2 - t1, reg.predict(X_test), c])"
   ]
  },
  {
   "cell_type": "code",
   "execution_count": 63,
   "metadata": {},
   "outputs": [
    {
     "name": "stdout",
     "output_type": "stream",
     "text": [
      "0.1285935759682332\n0.12593603\n"
     ]
    },
    {
     "data": {
      "image/png": "[encoded data removed]",
      "text/plain": [
       "<Figure size 432x288 with 1 Axes>"
      ]
     },
     "metadata": {},
     "output_type": "display_data"
    },
    {
     "data": {
      "image/png": "[encoded data removed]",
      "text/plain": [
       "<Figure size 432x288 with 1 Axes>"
      ]
     },
     "metadata": {},
     "output_type": "display_data"
    }
   ],
   "source": [
    "for reg, t, y_prd, c in y_prd_list:\n",
    "    print(np.mean(y_prd))\n",
    "    plt.figure()\n",
    "    plt.hist(y_prd,bins=np.arange(-10,11)*0.1,color=c)"
   ]
  },
  {
   "cell_type": "code",
   "execution_count": 77,
   "metadata": {
    "collapsed": true
   },
   "outputs": [
    {
     "name": "stdout",
     "output_type": "stream",
     "text": [
      "84\n"
     ]
    }
   ],
   "source": [
    "y_prd = y_prd_list[1][2]\n",
    "prd_inc = X_test_full[y_prd>0.2][[\"code\",\"f1mv_open\",\n",
    "                                       \"f19max_f2mv_high\"]]\n",
    "prd_inc[\"pct\"] = prd_inc[\"f19max_f2mv_high\"]/prd_inc[\"f1mv_open\"]-1\n",
    "prd_inc[\"y_prd\"]=y_prd[y_prd>0.2]\n",
    "\n",
    "print(sum(y_prd>0.3))\n",
    "\n",
    "# y_distribution(pd.Series(y_prd))\n",
    "# for code, df in prd_inc.groupby([\"code\"]):\n",
    "#     print(df)"
   ]
  },
  {
   "cell_type": "code",
   "execution_count": 78,
   "metadata": {},
   "outputs": [
    {
     "data": {
      "image/png": "[encoded data removed]",
      "text/plain": [
       "<Figure size 432x288 with 1 Axes>"
      ]
     },
     "metadata": {},
     "output_type": "display_data"
    }
   ],
   "source": [
    "y2 = []\n",
    "for i in range(10):\n",
    "    p0 = i*0.1\n",
    "    p1 = (i+1)*0.1\n",
    "    y2.append(inc[\"pct\"][(p0<y_prd) & (y_prd<p1)].mean())\n",
    "\n",
    "plt.bar(np.arange(len(y2))*0.1+0.05,y2,width=0.08)\n",
    "plt.plot(x0,y0,color='r')\n",
    "# plt.plot(x,y2,color='r')\n",
    "plt.xlim(0,1)\n",
    "plt.ylim(0,0.5)\n",
    "plt.show()"
   ]
  },
  {
   "cell_type": "code",
   "execution_count": null,
   "metadata": {},
   "outputs": [],
   "source": []
  }
 ],
 "metadata": {
  "kernelspec": {
   "display_name": "Python 2",
   "language": "python",
   "name": "python2"
  },
  "language_info": {
   "codemirror_mode": {
    "name": "ipython",
    "version": 2
   },
   "file_extension": ".py",
   "mimetype": "text/x-python",
   "name": "python",
   "nbconvert_exporter": "python",
   "pygments_lexer": "ipython2",
   "version": "2.7.6"
  }
 },
 "nbformat": 4,
 "nbformat_minor": 0
}
