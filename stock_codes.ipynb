{
 "cells": [
  {
   "cell_type": "code",
   "execution_count": null,
   "metadata": {
    "collapsed": true
   },
   "outputs": [],
   "source": [
    "string = \"\"\"600487\n",
    "601138\n",
    "002217\n",
    "600522\n",
    "002913\n",
    "002402\n",
    "600345\n",
    "300292\n",
    "300038\n",
    "300113\n",
    "300068\n",
    "002446\n",
    "000070\n",
    "300679\n",
    "002335\n",
    "000063\"\"\"\n",
    "codes = string.replace(\" \",\"\").strip(\"\\n\").split(\"\\n\")\n",
    "print([code+\".SH\" if code[0]=='6' else code+\".SZ\" for code in codes])"
   ]
  }
 ],
 "metadata": {
  "kernelspec": {
   "display_name": "Python 2",
   "language": "python",
   "name": "python2"
  },
  "language_info": {
   "codemirror_mode": {
    "name": "ipython",
    "version": 2
   },
   "file_extension": ".py",
   "mimetype": "text/x-python",
   "name": "python",
   "nbconvert_exporter": "python",
   "pygments_lexer": "ipython2",
   "version": "2.7.6"
  }
 },
 "nbformat": 4,
 "nbformat_minor": 0
}
