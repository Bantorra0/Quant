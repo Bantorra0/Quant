{
 "cells": [
  {
   "cell_type": "code",
   "execution_count": 1,
   "metadata": {
    "collapsed": true
   },
   "outputs": [],
   "source": [
    "import numpy as np\n",
    "import pandas as pd\n",
    "import matplotlib.pyplot as plt\n",
    "\n",
    "import constants as const\n",
    "import db_operations as dbop\n",
    "import data_prepare as dp\n",
    "import ml_model\n",
    "\n",
    "import xgboost.sklearn as xgb\n",
    "import lightgbm.sklearn as lgbm\n",
    "import sklearn.preprocessing as preproc\n",
    "import sklearn.metrics as metrics\n",
    "\n",
    "import datetime\n",
    "import time"
   ]
  },
  {
   "cell_type": "code",
   "execution_count": 2,
   "metadata": {},
   "outputs": [
    {
     "name": "stdout",
     "output_type": "stream",
     "text": [
      "2018-01-01 2011-02-27 2009-02-07\nstart: 2009-02-07\n"
     ]
    },
    {
     "name": "stdout",
     "output_type": "stream",
     "text": [
      "min_date 2009-02-09\n"
     ]
    },
    {
     "name": "stdout",
     "output_type": "stream",
     "text": [
      "(2398,)\n"
     ]
    },
    {
     "name": "stdout",
     "output_type": "stream",
     "text": [
      "(2398,)\n"
     ]
    },
    {
     "name": "stdout",
     "output_type": "stream",
     "text": [
      "(2398,)\n"
     ]
    },
    {
     "name": "stdout",
     "output_type": "stream",
     "text": [
      "(2398,)\n"
     ]
    },
    {
     "name": "stdout",
     "output_type": "stream",
     "text": [
      "(1275,)\n"
     ]
    },
    {
     "name": "stdout",
     "output_type": "stream",
     "text": [
      "(2398,)\n"
     ]
    },
    {
     "name": "stdout",
     "output_type": "stream",
     "text": [
      "(2398,)\n"
     ]
    },
    {
     "name": "stdout",
     "output_type": "stream",
     "text": [
      "(2398,)\n"
     ]
    },
    {
     "name": "stdout",
     "output_type": "stream",
     "text": [
      "(2398,)\n"
     ]
    },
    {
     "name": "stdout",
     "output_type": "stream",
     "text": [
      "(2398,)\n"
     ]
    },
    {
     "name": "stdout",
     "output_type": "stream",
     "text": [
      "(2398,)\n"
     ]
    },
    {
     "name": "stdout",
     "output_type": "stream",
     "text": [
      "(2398,)\n"
     ]
    },
    {
     "name": "stdout",
     "output_type": "stream",
     "text": [
      "(2398,)\n"
     ]
    },
    {
     "name": "stdout",
     "output_type": "stream",
     "text": [
      "(2398,)\n"
     ]
    },
    {
     "name": "stdout",
     "output_type": "stream",
     "text": [
      "(2398,)\n"
     ]
    },
    {
     "name": "stdout",
     "output_type": "stream",
     "text": [
      "(2398,)\n"
     ]
    },
    {
     "name": "stdout",
     "output_type": "stream",
     "text": [
      "(2398,)\n"
     ]
    },
    {
     "name": "stdout",
     "output_type": "stream",
     "text": [
      "(2398,)\n"
     ]
    },
    {
     "name": "stdout",
     "output_type": "stream",
     "text": [
      "(2167,)\n"
     ]
    },
    {
     "name": "stdout",
     "output_type": "stream",
     "text": [
      "(2147,)\n"
     ]
    },
    {
     "name": "stdout",
     "output_type": "stream",
     "text": [
      "(2090,)\n"
     ]
    },
    {
     "name": "stdout",
     "output_type": "stream",
     "text": [
      "(2080,)\n"
     ]
    },
    {
     "name": "stdout",
     "output_type": "stream",
     "text": [
      "(2077,)\n"
     ]
    },
    {
     "name": "stdout",
     "output_type": "stream",
     "text": [
      "(2048,)\n"
     ]
    },
    {
     "name": "stdout",
     "output_type": "stream",
     "text": [
      "(2022,)\n"
     ]
    },
    {
     "name": "stdout",
     "output_type": "stream",
     "text": [
      "(1961,)\n"
     ]
    },
    {
     "name": "stdout",
     "output_type": "stream",
     "text": [
      "(251,)\n"
     ]
    },
    {
     "name": "stdout",
     "output_type": "stream",
     "text": [
      "(2170,)\n"
     ]
    },
    {
     "name": "stdout",
     "output_type": "stream",
     "text": [
      "(2125,)\n"
     ]
    },
    {
     "name": "stdout",
     "output_type": "stream",
     "text": [
      "(2103,)\n"
     ]
    },
    {
     "name": "stdout",
     "output_type": "stream",
     "text": [
      "(2015,)\n"
     ]
    },
    {
     "name": "stdout",
     "output_type": "stream",
     "text": [
      "(1653,)\n"
     ]
    },
    {
     "name": "stdout",
     "output_type": "stream",
     "text": [
      "(1188,)\n"
     ]
    },
    {
     "name": "stdout",
     "output_type": "stream",
     "text": [
      "(335,)\n"
     ]
    },
    {
     "name": "stdout",
     "output_type": "stream",
     "text": [
      "(304,)\n"
     ]
    },
    {
     "name": "stdout",
     "output_type": "stream",
     "text": [
      "(1216,)\n"
     ]
    },
    {
     "name": "stdout",
     "output_type": "stream",
     "text": [
      "(2398,)\n"
     ]
    },
    {
     "name": "stdout",
     "output_type": "stream",
     "text": [
      "(2398,)\n"
     ]
    },
    {
     "name": "stdout",
     "output_type": "stream",
     "text": [
      "(2398,)\n"
     ]
    },
    {
     "name": "stdout",
     "output_type": "stream",
     "text": [
      "(2398,)\n"
     ]
    },
    {
     "name": "stdout",
     "output_type": "stream",
     "text": [
      "(2398,)\n"
     ]
    },
    {
     "name": "stdout",
     "output_type": "stream",
     "text": [
      "(2398,)\n"
     ]
    },
    {
     "name": "stdout",
     "output_type": "stream",
     "text": [
      "(2398,)\n"
     ]
    },
    {
     "name": "stdout",
     "output_type": "stream",
     "text": [
      "(2398,)\n"
     ]
    },
    {
     "name": "stdout",
     "output_type": "stream",
     "text": [
      "(2398,)\n"
     ]
    },
    {
     "name": "stdout",
     "output_type": "stream",
     "text": [
      "(2398,)\n"
     ]
    },
    {
     "name": "stdout",
     "output_type": "stream",
     "text": [
      "(2398,)\n"
     ]
    },
    {
     "name": "stdout",
     "output_type": "stream",
     "text": [
      "(2398,)\n"
     ]
    },
    {
     "name": "stdout",
     "output_type": "stream",
     "text": [
      "(2398,)\n"
     ]
    },
    {
     "name": "stdout",
     "output_type": "stream",
     "text": [
      "(2398,)\n"
     ]
    },
    {
     "name": "stdout",
     "output_type": "stream",
     "text": [
      "(2398,)\n"
     ]
    },
    {
     "name": "stdout",
     "output_type": "stream",
     "text": [
      "(2398,)\n"
     ]
    },
    {
     "name": "stdout",
     "output_type": "stream",
     "text": [
      "(2398,)\n"
     ]
    },
    {
     "name": "stdout",
     "output_type": "stream",
     "text": [
      "(2398,)\n"
     ]
    },
    {
     "name": "stdout",
     "output_type": "stream",
     "text": [
      "(126,)\n"
     ]
    },
    {
     "name": "stdout",
     "output_type": "stream",
     "text": [
      "(2398,)\n"
     ]
    },
    {
     "name": "stdout",
     "output_type": "stream",
     "text": [
      "(1699,)\n"
     ]
    },
    {
     "name": "stdout",
     "output_type": "stream",
     "text": [
      "(944,)\n"
     ]
    },
    {
     "name": "stdout",
     "output_type": "stream",
     "text": [
      "count stck 58\n(120324, 879)\n(120324, 879)\n"
     ]
    },
    {
     "name": "stdout",
     "output_type": "stream",
     "text": [
      "(2399, 395) 2399\n"
     ]
    },
    {
     "name": "stdout",
     "output_type": "stream",
     "text": [
      "(120324, 1274)\n"
     ]
    },
    {
     "name": "stdout",
     "output_type": "stream",
     "text": [
      "df_all: (100095, 1274)\n"
     ]
    },
    {
     "name": "stdout",
     "output_type": "stream",
     "text": [
      "y<-0.5: 0\n-0.50<=y<-0.40: 1\n-0.40<=y<-0.30: 0\n-0.30<=y<-0.20: 2\n-0.20<=y<-0.10: 49\n-0.10<=y<0.00: 6606\n0.00<=y<0.10: 55050\n0.10<=y<0.20: 23755\n0.20<=y<0.30: 7941\n0.30<=y<0.40: 2857\n0.40<=y<0.50: 1189\ny>0.5 1483\nmean: 0.10500549483730977 median: 0.07163000564015798 std: 0.20923487007553884\n"
     ]
    },
    {
     "name": "stdout",
     "output_type": "stream",
     "text": [
      "过滤涨停项或停牌（最高价=最低价）： 5410\ny<-0.5: 0\n-0.50<=y<-0.40: 0\n-0.40<=y<-0.30: 0\n-0.30<=y<-0.20: 0\n-0.20<=y<-0.10: 45\n-0.10<=y<0.00: 6538\n0.00<=y<0.10: 56667\n0.10<=y<0.20: 23291\n0.20<=y<0.30: 7653\n0.30<=y<0.40: 2634\n0.40<=y<0.50: 1056\ny>0.5 1049\nmean: 0.09593895614984772 median: 0.06805555555555554 std: 0.10921646173206342\ny<-0.5: 259\n-0.50<=y<-0.40: 449\n-0.40<=y<-0.30: 1373\n-0.30<=y<-0.20: 4779\n-0.20<=y<-0.10: 22511\n"
     ]
    },
    {
     "name": "stdout",
     "output_type": "stream",
     "text": [
      "-0.10<=y<0.00: 64283\n0.00<=y<0.10: 5281\n0.10<=y<0.20: 0\n0.20<=y<0.30: 0\n0.30<=y<0.40: 0\n0.40<=y<0.50: 0\ny>0.5 0\nmean: -0.07966258841229952 median: -0.05882352941176472 std: 0.07868196731751831\n过滤涨停项或停牌（最高价=最低价）： 5410\ny<-0.5: 187\n-0.50<=y<-0.40: 373\n-0.40<=y<-0.30: 1281\n-0.30<=y<-0.20: 4614\n-0.20<=y<-0.10: 22050\n-0.10<=y<0.00: 63550\n0.00<=y<0.10:"
     ]
    },
    {
     "name": "stdout",
     "output_type": "stream",
     "text": [
      " 6880\n0.10<=y<0.20: 0\n0.20<=y<0.30: 0\n0.30<=y<0.40: 0\n0.40<=y<0.50: 0\ny>0.5 0\nmean: -0.07707815098354831 median: -0.05673076923076925 std: 0.07589116225656392\ny<-0.5: 1\n-0.50<=y<-0.40: 1\n-0.40<=y<-0.30: 1\n-0.30<=y<-0.20: 5\n-0.20<=y<-0.10: 105\n-0.10<=y<0.00: 13828\n0.00<=y<0.10: 74330\n0.10<=y<0.20: 9476\n0.20<=y<0.30: 1526\n0.30<=y<0.40: 361\n0.40<=y<0.50: 141\ny>0.5 30\nmean: 0.04325142250766111 median: 0.02985702270815782 std: 0.12871258543509503\n"
     ]
    },
    {
     "name": "stdout",
     "output_type": "stream",
     "text": [
      "过滤涨停项或停牌（最高价=最低价）： 5410\ny<-0.5: 0\n-0.50<=y<-0.40: 0\n-0.40<=y<-0.30: 0\n-0.30<=y<-0.20: 4\n-0.20<=y<-0.10: 99\n-0.10<=y<0.00: 13723\n0.00<=y<0.10: 75032\n0.10<=y<0.20: 9226\n0.20<=y<0.30: 1355\n0.30<=y<0.40: 286\n0.40<=y<0.50: 66\ny>0.5 14\nmean: 0.04076793009198793 median: 0.028888799329750414 std: 0.05349817124835313\ny<-0.5: 8\n-0.50<=y<-0.40: 11\n-0.40<=y<-0.30: 138\n-0.30<=y<-0.20: 792\n-0.20<=y<-0.10: 7314\n-0.10<=y<0.00: 84030\n"
     ]
    },
    {
     "name": "stdout",
     "output_type": "stream",
     "text": [
      "0.00<=y<0.10: 7512\n0.10<=y<0.20: 0\n0.20<=y<0.30: 0\n0.30<=y<0.40: 0\n0.40<=y<0.50: 0\ny>0.5 0\nmean: -0.040381722443253235 median: -0.028150134048257502 std: 0.04293536185924107\n过滤涨停项或停牌（最高价=最低价）： 5410\ny<-0.5: 0\n-0.50<=y<-0.40: 7\n-0.40<=y<-0.30: 121\n-0.30<=y<-0.20: 767\n-0.20<=y<-0.10: 7143\n-0.10<=y<0.00: 83466\n"
     ]
    },
    {
     "name": "stdout",
     "output_type": "stream",
     "text": [
      "0.00<=y<0.10: 8301\n0.10<=y<0.20: 0\n0.20<=y<0.30: 0\n0.30<=y<0.40: 0\n0.40<=y<0.50: 0\ny>0.5 0\nmean: -0.03969116265935484 median: -0.027656477438136817 std: 0.04191924774713406\n(100095, 1257) (100095, 4) Index(['y_l_rise', 'y_l_decline', 'y_s_rise', 'y_s_decline'], dtype='object')\n"
     ]
    },
    {
     "data": {
      "image/png": "[encoded data removed]",
      "text/plain": [
       "<Figure size 432x288 with 1 Axes>"
      ]
     },
     "metadata": {},
     "output_type": "display_data"
    },
    {
     "data": {
      "image/png": "[encoded data removed]",
      "text/plain": [
       "<Figure size 432x288 with 1 Axes>"
      ]
     },
     "metadata": {},
     "output_type": "display_data"
    },
    {
     "data": {
      "image/png": "[encoded data removed]",
      "text/plain": [
       "<Figure size 432x288 with 1 Axes>"
      ]
     },
     "metadata": {},
     "output_type": "display_data"
    },
    {
     "data": {
      "image/png": "[encoded data removed]",
      "text/plain": [
       "<Figure size 432x288 with 1 Axes>"
      ]
     },
     "metadata": {},
     "output_type": "display_data"
    },
    {
     "data": {
      "image/png": "[encoded data removed]",
      "text/plain": [
       "<Figure size 432x288 with 1 Axes>"
      ]
     },
     "metadata": {},
     "output_type": "display_data"
    },
    {
     "data": {
      "image/png": "[encoded data removed]",
      "text/plain": [
       "<Figure size 432x288 with 1 Axes>"
      ]
     },
     "metadata": {},
     "output_type": "display_data"
    },
    {
     "data": {
      "image/png": "[encoded data removed]",
      "text/plain": [
       "<Figure size 432x288 with 1 Axes>"
      ]
     },
     "metadata": {},
     "output_type": "display_data"
    },
    {
     "data": {
      "image/png": "[encoded data removed]",
      "text/plain": [
       "<Figure size 432x288 with 1 Axes>"
      ]
     },
     "metadata": {},
     "output_type": "display_data"
    }
   ],
   "source": [
    "targets = [{\"period\": 20, \"fun\": \"max\", \"col\": \"high\"},\n",
    "                   {\"period\": 20, \"fun\": \"min\", \"col\": \"low\"},\n",
    "                   {\"period\": 5, \"fun\": \"max\", \"col\": \"high\"},\n",
    "                   {\"period\": 5, \"fun\": \"min\", \"col\": \"low\"}]\n",
    "\n",
    "time_delta = datetime.timedelta(days=1)\n",
    "test_start = \"2018-01-01\"\n",
    "train_length = 2500\n",
    "max_feature_length = 750\n",
    "\n",
    "train_bound = datetime.datetime.strptime(test_start, const.DATE_FORMAT) - train_length * time_delta\n",
    "train_bound = datetime.datetime.strftime(train_bound, const.DATE_FORMAT)\n",
    "\n",
    "lower_bound = datetime.datetime.strptime(train_bound, const.DATE_FORMAT) - max_feature_length * time_delta\n",
    "lower_bound = datetime.datetime.strftime(lower_bound, const.DATE_FORMAT)\n",
    "print(test_start,train_bound,lower_bound)\n",
    "\n",
    "df_all, cols_future = ml_model.gen_data(targets=targets,\n",
    "                                        lower_bound=lower_bound,\n",
    "                                        start=train_bound,\n",
    "                                        stock_pool=None)\n",
    "\n",
    "print(\"df_all:\", df_all.shape)\n",
    "trading_date_idxes = df_all.index.unique().sort_values(ascending=True)\n",
    "\n",
    "X = ml_model.gen_X(df_all, cols_future)\n",
    "\n",
    "paras = [(\"y_l_rise\", {\"pred_period\": 20, \"is_high\": True, \"is_clf\": False,\"threshold\":0.2}, df_all),\n",
    "         (\"y_l_decline\", {\"pred_period\": 20, \"is_high\": False, \"is_clf\": False, \"threshold\":0.2}, df_all),\n",
    "         (\"y_s_rise\", {\"pred_period\": 5, \"is_high\": True, \"is_clf\": False,\"threshold\":0.1}, df_all),\n",
    "         (\"y_s_decline\", {\"pred_period\": 5, \"is_high\": False, \"is_clf\": False,\"threshold\":0.1}, df_all), ]\n",
    "Y = pd.concat([ml_model.gen_y(v2, **v1) for k, v1, v2 in paras], axis=1)\n",
    "Y.columns = [k for k, _, _ in paras]\n",
    "Y.index = X.index\n",
    "print(X.shape, Y.shape, Y.columns)"
   ]
  },
  {
   "cell_type": "code",
   "execution_count": 3,
   "metadata": {},
   "outputs": [
    {
     "name": "stdout",
     "output_type": "stream",
     "text": [
      "y_l_rise 0.09593895614984772 0.06805555555555554 0.10921646173206342\ny_l_decline -0.07707815098354831 -0.05673076923076925 0.07589116225656392\ny_s_rise 0.04076793009198793 0.028888799329750414 0.05349817124835313\ny_s_decline -0.03969116265935484 -0.027656477438136817 0.04191924774713406\n"
     ]
    }
   ],
   "source": [
    "# Y is contiguous.\n",
    "for col in Y.columns:\n",
    "    print(col, Y[col].mean(),Y[col].median(),Y[col].std())"
   ]
  },
  {
   "cell_type": "code",
   "execution_count": 4,
   "metadata": {},
   "outputs": [
    {
     "name": "stdout",
     "output_type": "stream",
     "text": [
      "2011-02-28 2016-12-01\n2017-01-03 2018-03-27\n"
     ]
    },
    {
     "name": "stdout",
     "output_type": "stream",
     "text": [
      "(72349, 1257) (72349,)\n"
     ]
    },
    {
     "name": "stdout",
     "output_type": "stream",
     "text": [
      "(16568, 1257) (16568,)\n"
     ]
    }
   ],
   "source": [
    "train_date_idx = trading_date_idxes[trading_date_idxes<\"2017-01-01\"][:-21]\n",
    "print(train_date_idx[0],train_date_idx[-1])\n",
    "test_date_idx = trading_date_idxes[(trading_date_idxes>=\"2017-01-01\")][:300]\n",
    "print(test_date_idx[0],test_date_idx[-1])\n",
    "\n",
    "ycol = \"y_l_rise\"\n",
    "X_train = X.loc[train_date_idx]\n",
    "Y_train = {ycol:Y.loc[train_date_idx, ycol]}\n",
    "print(X_train.shape, Y_train[ycol].shape)\n",
    "X_test = X.loc[test_date_idx]\n",
    "Y_test = {ycol:Y.loc[test_date_idx,ycol]}\n",
    "print(X_test.shape, Y_test[ycol].shape)\n"
   ]
  },
  {
   "cell_type": "code",
   "execution_count": 5,
   "metadata": {},
   "outputs": [
    {
     "name": "stdout",
     "output_type": "stream",
     "text": [
      "66.57115602493286\n"
     ]
    }
   ],
   "source": [
    "# models = {\"model_l_high\":\n",
    "#               xgb.XGBClassifier(n_estimators=150, \n",
    "#                                   scale_pos_weight=1,\n",
    "#                                 max_depth=5,\n",
    "#                                  random_state=0, \n",
    "#                                   )\n",
    "#           }\n",
    "\n",
    "models = {\"model_l_high\":\n",
    "              lgbm.LGBMClassifier(n_estimators=50, \n",
    "                                  scale_pos_weight=1,\n",
    "                                 num_leaves=32, \n",
    "                                max_depth=8,\n",
    "                                 random_state=0, \n",
    "                                min_child_samples=20,\n",
    "                                  )\n",
    "          }\n",
    "\n",
    "y_train = ml_model.label(Y_train[ycol],threshold=0.15,is_high=True)\n",
    "scale_pos_weight = sum(y_train == 0) / sum(y_train == 1)\n",
    "\n",
    "t1 = time.time()\n",
    "models[\"model_l_high\"].fit(X_train, y_train)\n",
    "t2 = time.time()\n",
    "print(t2-t1)\n",
    "Y_test_pred ={ycol: models[\"model_l_high\"].predict_proba(X_test)[:,1]}\n"
   ]
  },
  {
   "cell_type": "code",
   "execution_count": 6,
   "metadata": {},
   "outputs": [
    {
     "name": "stdout",
     "output_type": "stream",
     "text": [
      "1746 (0.0456164852346677, 0.02113826727018908, 0.06048165410784941, 0.46347826086956534, -0.0802784222737819)\n4834 (0.08554634228402203, 0.06735283873214903, 0.07764350694190633, 0.7047560222359481, -0.04927678352537368)\n4519 (0.09538032810005431, 0.07214691735898549, 0.0914168024774263, 0.7660103626587744, -0.09234608985024961)\n3058 (0.101251889443349, 0.07966161213088585, 0.09738861389666936, 0.6932515337423313, -0.0708556149732621)\n1548 (0.10471867839444228, 0.07920132506416888, 0.10122416668529044, 0.6727145847871598, -0.10578478964401283)\n566 (0.10836101902197261, 0.08227919993890509, 0.1034183869814212, 0.5043771043771044, -0.05681818181818199)\n230 (0.1121573134984317, 0.0794303679824957, 0.11203909203000638, 0.48008742107819335, -0.10079184002147368)\n49 (0.09248418968611101, 0.04179104477611939, 0.11643404901750368, 0.4978850460313513, -0.03076923076923066)\n18 (0.04323896199060154, 0.013763806287170777, 0.086039565422952, 0.33140376266280747, -0.058252427184466105)\n0 (nan, nan, nan, nan, nan)\n"
     ]
    },
    {
     "data": {
      "image/png": "[encoded data removed]",
      "text/plain": [
       "<Figure size 432x288 with 1 Axes>"
      ]
     },
     "metadata": {},
     "output_type": "display_data"
    },
    {
     "name": "stdout",
     "output_type": "stream",
     "text": [
      "LGBMClassifier(boosting_type='gbdt', class_weight=None, colsample_bytree=1.0,\n        learning_rate=0.1, max_depth=8, min_child_samples=20,\n        min_child_weight=0.001, min_split_gain=0.0, n_estimators=50,\n        n_jobs=-1, num_leaves=32, objective=None, random_state=0,\n        reg_alpha=0.0, reg_lambda=0.0, scale_pos_weight=1, silent=True,\n        subsample=1.0, subsample_for_bin=200000, subsample_freq=0)\n"
     ]
    }
   ],
   "source": [
    "x0 = np.arange(11)*0.1\n",
    "y0 = np.ones(x0.shape)* Y_test[ycol].mean()\n",
    "\n",
    "y1 = []\n",
    "cnt1 = []\n",
    "for i in range(10):\n",
    "    p0 = i*0.1\n",
    "    p1 = (i+1)*0.1\n",
    "    cond=(p0 < Y_test_pred[ycol]) & (Y_test_pred[ycol] <=p1)\n",
    "    cnt1.append(sum(cond))\n",
    "    y1.append((Y_test[ycol][cond].mean(), Y_test[ycol][cond].median(),Y_test[ycol][cond].std(),Y_test[ycol][cond].max(),Y_test[ycol][cond].min()))\n",
    "for c,p in zip(cnt1,y1):\n",
    "    print(c,p)\n",
    "\n",
    "plt.bar(np.arange(len(y1))*0.1+0.05,[mean for mean,_, _,_,_ in y1],width=0.08)\n",
    "plt.plot(x0,y0,color='r')\n",
    "# plt.plot(x,y1,color='r')\n",
    "plt.xlim(0,1)\n",
    "plt.ylim(0,0.5)\n",
    "plt.show()\n",
    "print(models[\"model_l_high\"])"
   ]
  },
  {
   "cell_type": "code",
   "execution_count": 12,
   "metadata": {},
   "outputs": [
    {
     "name": "stdout",
     "output_type": "stream",
     "text": [
      "0.19150086981583767\n6 0.19150086981583767 0.1749581416624233 0.14266972179444173 0.3796449704142011 0.04947916666666674\n\n                  code  open0       open   f1mv_open     rise     pred\n2017-06-14  000002.SZ   21.9  2907.9258  2822.94532  0.25588  0.73034\n\n                  code  open0     open  f1mv_open      rise      pred\n2018-02-06  002446.SZ    7.2  35.6184   34.67847  0.312411  0.744096\n\n                  code  open0      open  f1mv_open      rise      pred\n2017-06-02  600401.SH   1.39  26.22652   26.22652  0.057554  0.718362\n\n                  code  open0     open  f1mv_open      rise      pred\n2017-05-24  600536.SH   19.3  101.518    100.992  0.049479  0.705735\n\n                  code  open0     open  f1mv_open      rise      pred\n2017-05-09  603799.SH   44.0  44.2640    43.8616  0.094037  0.731686\n2017-05-23  603799.SH   42.7  42.9562    42.5035  0.379645  0.730326\n"
     ]
    }
   ],
   "source": [
    "cond = Y_test_pred[ycol]>0.7\n",
    "print(Y_test[ycol][cond].mean())\n",
    "print(sum(cond),Y_test[ycol][cond].mean(), Y_test[ycol][cond].median(),Y_test[ycol][cond].std(),Y_test[ycol][cond].max(),Y_test[ycol][cond].min())\n",
    "\n",
    "df_combined = df_all.loc[test_date_idx][[\"code\",\"open0\",\"open\",\"f1mv_open\"]]\n",
    "df_combined[\"rise\"] = Y_test[ycol].copy()\n",
    "df_combined[\"pred\"] = Y_test_pred[ycol].copy()\n",
    "for code, df in df_combined[cond].groupby(\"code\"):\n",
    "    print(\"\\n\",df)"
   ]
  },
  {
   "cell_type": "code",
   "execution_count": 172,
   "metadata": {},
   "outputs": [
    {
     "name": "stdout",
     "output_type": "stream",
     "text": [
      "19.164011478424072\n"
     ]
    },
    {
     "name": "stdout",
     "output_type": "stream",
     "text": [
      "-6.402568840580483\n"
     ]
    }
   ],
   "source": [
    "models[\"model_l_high_reg\"] = lgbm.LGBMRegressor(\n",
    "    n_estimators=50, num_leaves=64,\n",
    "    max_depth=12,\n",
    "    random_state=0,\n",
    "    min_child_samples=20,\n",
    "    min_split_gain=5,\n",
    ")\n",
    "y_train = Y_train[ycol]\n",
    "y_test = Y_test[ycol]\n",
    "\n",
    "t1 = time.time()\n",
    "models[\"model_l_high_reg\"].fit(X_train, y_train)\n",
    "t2 = time.time()\n",
    "print(t2-t1)\n",
    "Y_test_pred_reg ={ycol: models[\"model_l_high_reg\"].predict(X_test)}\n",
    "print(models[\"model_l_high_reg\"].score(X_test,y_test))\n"
   ]
  },
  {
   "cell_type": "code",
   "execution_count": 179,
   "metadata": {},
   "outputs": [
    {
     "name": "stderr",
     "output_type": "stream",
     "text": [
      "C:\\Users\\dell-pc\\Anaconda3.6\\lib\\site-packages\\lightgbm\\basic.py:450: UserWarning: Converting data to scipy sparse matrix.\n  warnings.warn('Converting data to scipy sparse matrix.')\n"
     ]
    },
    {
     "name": "stdout",
     "output_type": "stream",
     "text": [
      "(16568,)\n"
     ]
    },
    {
     "name": "stdout",
     "output_type": "stream",
     "text": [
      "1292 (0.0564942141165419, 0.025359140081381515, 0.07957201925528411, 0.49437299035369775, -0.014883061658398145)\n3497 (0.09504616791963497, 0.0726246105919004, 0.09024243654398367, 0.741324921135647, -0.09234608985024961)\n3106 (0.09408139306308058, 0.07244620752160258, 0.08945663814447036, 0.7047560222359481, -0.09142053445850917)\n2325 (0.08616052449963223, 0.06269592476489039, 0.08869867514290783, 0.6974169741697416, -0.058252427184466105)\n2245 (0.08677626347111263, 0.06336206896551722, 0.08857897064228236, 0.7660103626587744, -0.04995196926032652)\n2344 (0.09731225216002441, 0.07690981432360733, 0.0895432363424026, 0.597989949748744, -0.0632380952380952)\n1277 (0.09841958194967271, 0.07598944591029033, 0.0909535346164598, 0.5143859649122804, -0.06426056338028152)\n450 (0.0868233603157824, 0.06349306651094266, 0.08943101591540087, 0.476747587013747, -0.10578478964401283)\n20 (0.10391456215211621, 0.07400945030202, 0.09942987060625445, 0.31241084165477906, -0.0139113555483662)\n12 (0.060183483249202585, 0.03594701038310055, 0.12049318951641502, 0.3700854700854703, -0.10079184002147368)\n"
     ]
    },
    {
     "data": {
      "image/png": "[encoded data removed]",
      "text/plain": [
       "<Figure size 432x288 with 1 Axes>"
      ]
     },
     "metadata": {},
     "output_type": "display_data"
    }
   ],
   "source": [
    "stacker = lgbm.LGBMClassifier(\n",
    "    n_estimators=30, num_leaves=32,\n",
    "    scale_pos_weight=1,\n",
    "    max_depth=12,\n",
    "    random_state=0,\n",
    "    min_child_samples=20,\n",
    "    min_split_gain=0.5,\n",
    ")\n"
   ]
  },
  {
   "cell_type": "code",
   "execution_count": 174,
   "metadata": {},
   "outputs": [
    {
     "name": "stderr",
     "output_type": "stream",
     "text": [
      "C:\\Users\\dell-pc\\Anaconda3.6\\lib\\site-packages\\lightgbm\\basic.py:450: UserWarning: Converting data to scipy sparse matrix.\n  warnings.warn('Converting data to scipy sparse matrix.')\n"
     ]
    },
    {
     "name": "stdout",
     "output_type": "stream",
     "text": [
      "(16568,)\n"
     ]
    },
    {
     "name": "stdout",
     "output_type": "stream",
     "text": [
      "1292 (0.0564942141165419, 0.025359140081381515, 0.07957201925528411, 0.49437299035369775, -0.014883061658398145)\n3497 (0.09504616791963497, 0.0726246105919004, 0.09024243654398367, 0.741324921135647, -0.09234608985024961)\n3106 (0.09408139306308058, 0.07244620752160258, 0.08945663814447036, 0.7047560222359481, -0.09142053445850917)\n2325 (0.08616052449963223, 0.06269592476489039, 0.08869867514290783, 0.6974169741697416, -0.058252427184466105)\n2245 (0.08677626347111263, 0.06336206896551722, 0.08857897064228236, 0.7660103626587744, -0.04995196926032652)\n2344 (0.09731225216002441, 0.07690981432360733, 0.0895432363424026, 0.597989949748744, -0.0632380952380952)\n1277 (0.09841958194967271, 0.07598944591029033, 0.0909535346164598, 0.5143859649122804, -0.06426056338028152)\n450 (0.0868233603157824, 0.06349306651094266, 0.08943101591540087, 0.476747587013747, -0.10578478964401283)\n20 (0.10391456215211621, 0.07400945030202, 0.09942987060625445, 0.31241084165477906, -0.0139113555483662)\n12 (0.060183483249202585, 0.03594701038310055, 0.12049318951641502, 0.3700854700854703, -0.10079184002147368)\n"
     ]
    },
    {
     "data": {
      "image/png": "[encoded data removed]",
      "text/plain": [
       "<Figure size 432x288 with 1 Axes>"
      ]
     },
     "metadata": {},
     "output_type": "display_data"
    }
   ],
   "source": [
    "\n",
    "import sklearn as sk\n",
    "enc = sk.preprocessing.OneHotEncoder()\n",
    "pred_leaves_train = models[\"model_l_high_reg\"].predict(X_train, pred_leaf=True)\n",
    "pred_reg_train = models[\"model_l_high_reg\"].predict(X_train).reshape(-1, 1)\n",
    "pred_leaves_train = enc.fit_transform(pred_leaves_train)\n",
    "print(pred_leaves_train.shape,X_train.shape, type(pred_leaves_train),\n",
    "      type(X_train))\n",
    "import scipy.sparse\n",
    "features_train = scipy.sparse.hstack([X_train,pred_leaves_train])\n",
    "print(features_train.shape, type(features_train))\n",
    "features_train = scipy.sparse.hstack([features_train, pred_reg_train])\n",
    "print(features_train.shape, type(features_train))\n"
   ]
  },
  {
   "cell_type": "code",
   "execution_count": 180,
   "metadata": {},
   "outputs": [
    {
     "name": "stderr",
     "output_type": "stream",
     "text": [
      "C:\\Users\\dell-pc\\Anaconda3.6\\lib\\site-packages\\lightgbm\\basic.py:450: UserWarning: Converting data to scipy sparse matrix.\n  warnings.warn('Converting data to scipy sparse matrix.')\n"
     ]
    },
    {
     "name": "stdout",
     "output_type": "stream",
     "text": [
      "(16568,)\n"
     ]
    },
    {
     "name": "stdout",
     "output_type": "stream",
     "text": [
      "1292 (0.0564942141165419, 0.025359140081381515, 0.07957201925528411, 0.49437299035369775, -0.014883061658398145)\n3497 (0.09504616791963497, 0.0726246105919004, 0.09024243654398367, 0.741324921135647, -0.09234608985024961)\n3106 (0.09408139306308058, 0.07244620752160258, 0.08945663814447036, 0.7047560222359481, -0.09142053445850917)\n2325 (0.08616052449963223, 0.06269592476489039, 0.08869867514290783, 0.6974169741697416, -0.058252427184466105)\n2245 (0.08677626347111263, 0.06336206896551722, 0.08857897064228236, 0.7660103626587744, -0.04995196926032652)\n2344 (0.09731225216002441, 0.07690981432360733, 0.0895432363424026, 0.597989949748744, -0.0632380952380952)\n1277 (0.09841958194967271, 0.07598944591029033, 0.0909535346164598, 0.5143859649122804, -0.06426056338028152)\n450 (0.0868233603157824, 0.06349306651094266, 0.08943101591540087, 0.476747587013747, -0.10578478964401283)\n20 (0.10391456215211621, 0.07400945030202, 0.09942987060625445, 0.31241084165477906, -0.0139113555483662)\n12 (0.060183483249202585, 0.03594701038310055, 0.12049318951641502, 0.3700854700854703, -0.10079184002147368)\n"
     ]
    },
    {
     "data": {
      "image/png": "[encoded data removed]",
      "text/plain": [
       "<Figure size 432x288 with 1 Axes>"
      ]
     },
     "metadata": {},
     "output_type": "display_data"
    }
   ],
   "source": [
    "t1 = time.time()\n",
    "stacker.fit(features_train,ml_model.label(Y_train[ycol],threshold=0.15))\n",
    "# stacker.fit(features_train,Y_train[ycol])\n",
    "t2 = time.time()\n",
    "print(t2-t1)"
   ]
  },
  {
   "cell_type": "code",
   "execution_count": 176,
   "metadata": {},
   "outputs": [
    {
     "name": "stderr",
     "output_type": "stream",
     "text": [
      "C:\\Users\\dell-pc\\Anaconda3.6\\lib\\site-packages\\lightgbm\\basic.py:450: UserWarning: Converting data to scipy sparse matrix.\n  warnings.warn('Converting data to scipy sparse matrix.')\n"
     ]
    },
    {
     "name": "stdout",
     "output_type": "stream",
     "text": [
      "(16568,)\n"
     ]
    },
    {
     "name": "stdout",
     "output_type": "stream",
     "text": [
      "1292 (0.0564942141165419, 0.025359140081381515, 0.07957201925528411, 0.49437299035369775, -0.014883061658398145)\n3497 (0.09504616791963497, 0.0726246105919004, 0.09024243654398367, 0.741324921135647, -0.09234608985024961)\n3106 (0.09408139306308058, 0.07244620752160258, 0.08945663814447036, 0.7047560222359481, -0.09142053445850917)\n2325 (0.08616052449963223, 0.06269592476489039, 0.08869867514290783, 0.6974169741697416, -0.058252427184466105)\n2245 (0.08677626347111263, 0.06336206896551722, 0.08857897064228236, 0.7660103626587744, -0.04995196926032652)\n2344 (0.09731225216002441, 0.07690981432360733, 0.0895432363424026, 0.597989949748744, -0.0632380952380952)\n1277 (0.09841958194967271, 0.07598944591029033, 0.0909535346164598, 0.5143859649122804, -0.06426056338028152)\n450 (0.0868233603157824, 0.06349306651094266, 0.08943101591540087, 0.476747587013747, -0.10578478964401283)\n20 (0.10391456215211621, 0.07400945030202, 0.09942987060625445, 0.31241084165477906, -0.0139113555483662)\n12 (0.060183483249202585, 0.03594701038310055, 0.12049318951641502, 0.3700854700854703, -0.10079184002147368)\n"
     ]
    },
    {
     "data": {
      "image/png": "[encoded data removed]",
      "text/plain": [
       "<Figure size 432x288 with 1 Axes>"
      ]
     },
     "metadata": {},
     "output_type": "display_data"
    }
   ],
   "source": [
    "pred_leaves_test = models[\"model_l_high_reg\"].predict(X_test, pred_leaf=True)\n",
    "pred_reg_test = models[\"model_l_high_reg\"].predict(X_test).reshape(-1, 1)\n",
    "pred_leaves_test = enc.transform(pred_leaves_test)\n",
    "print(pred_leaves_test.shape,X_test.shape, type(pred_leaves_test),\n",
    "      type(X_test))\n",
    "features_test = scipy.sparse.hstack([X_test, pred_leaves_test])\n",
    "print(features_test.shape, type(features_test))\n",
    "features_test = scipy.sparse.hstack([features_test, pred_reg_test])\n",
    "print(features_test.shape, type(features_test))\n"
   ]
  },
  {
   "cell_type": "code",
   "execution_count": 182,
   "metadata": {},
   "outputs": [
    {
     "name": "stderr",
     "output_type": "stream",
     "text": [
      "C:\\Users\\dell-pc\\Anaconda3.6\\lib\\site-packages\\lightgbm\\basic.py:450: UserWarning: Converting data to scipy sparse matrix.\n  warnings.warn('Converting data to scipy sparse matrix.')\n"
     ]
    },
    {
     "name": "stdout",
     "output_type": "stream",
     "text": [
      "(16568,)\n"
     ]
    },
    {
     "name": "stdout",
     "output_type": "stream",
     "text": [
      "1292 (0.0564942141165419, 0.025359140081381515, 0.07957201925528411, 0.49437299035369775, -0.014883061658398145)\n3497 (0.09504616791963497, 0.0726246105919004, 0.09024243654398367, 0.741324921135647, -0.09234608985024961)\n3106 (0.09408139306308058, 0.07244620752160258, 0.08945663814447036, 0.7047560222359481, -0.09142053445850917)\n2325 (0.08616052449963223, 0.06269592476489039, 0.08869867514290783, 0.6974169741697416, -0.058252427184466105)\n2245 (0.08677626347111263, 0.06336206896551722, 0.08857897064228236, 0.7660103626587744, -0.04995196926032652)\n2344 (0.09731225216002441, 0.07690981432360733, 0.0895432363424026, 0.597989949748744, -0.0632380952380952)\n1277 (0.09841958194967271, 0.07598944591029033, 0.0909535346164598, 0.5143859649122804, -0.06426056338028152)\n450 (0.0868233603157824, 0.06349306651094266, 0.08943101591540087, 0.476747587013747, -0.10578478964401283)\n20 (0.10391456215211621, 0.07400945030202, 0.09942987060625445, 0.31241084165477906, -0.0139113555483662)\n12 (0.060183483249202585, 0.03594701038310055, 0.12049318951641502, 0.3700854700854703, -0.10079184002147368)\n"
     ]
    },
    {
     "data": {
      "image/png": "[encoded data removed]",
      "text/plain": [
       "<Figure size 432x288 with 1 Axes>"
      ]
     },
     "metadata": {},
     "output_type": "display_data"
    }
   ],
   "source": [
    "y_stacker_test = stacker.predict_proba(features_test)[:,1]\n",
    "# y_stacker_test = stacker.predict(features_test)\n",
    "\n",
    "print(y_stacker_test.shape)\n",
    "y1 = []\n",
    "cnt1 = []\n",
    "for i in range(10):\n",
    "    p0 = i*0.1\n",
    "    p1 = (i+1)*0.1\n",
    "    cond=(p0 < y_stacker_test) & (y_stacker_test <=p1)\n",
    "    cnt1.append(sum(cond))\n",
    "    y1.append((Y_test[ycol][cond].mean(), Y_test[ycol][cond].median(),Y_test[ycol][cond].std(),Y_test[ycol][cond].max(),Y_test[ycol][cond].min()))\n",
    "for c,p in zip(cnt1,y1):\n",
    "    print(c,p)\n",
    "\n",
    "plt.bar(np.arange(len(y1))*0.1+0.05,[mean for mean,_, _,_,_ in y1],width=0.08)\n",
    "plt.plot(x0,y0,color='r')\n",
    "# plt.plot(x,y1,color='r')\n",
    "plt.xlim(0,1)\n",
    "plt.ylim(0,0.5)\n",
    "plt.show()"
   ]
  },
  {
   "cell_type": "code",
   "execution_count": 159,
   "metadata": {},
   "outputs": [
    {
     "name": "stdout",
     "output_type": "stream",
     "text": [
      "1326 (0.05300187716074075, 0.03308823529411753, 0.06798710405848696, 0.49437299035369775, -0.0802784222737819)\n3791 (0.08169611091496407, 0.06577674598568395, 0.0770471715304999, 0.7047560222359481, -0.09234608985024961)\n4600 (0.0954054952655391, 0.07150242682320973, 0.09287538335366147, 0.7660103626587744, -0.10578478964401283)\n3924 (0.1027389176762603, 0.08209720684106714, 0.09448112354882743, 0.687140115163148, -0.0708556149732621)\n2013 (0.09244614905303818, 0.06636155606407335, 0.09527008629166818, 0.6616257088846884, -0.06614785992217898)\n707 (0.09027971770424402, 0.06840390879478808, 0.09001769234164252, 0.6727145847871598, -0.06426056338028152)\n175 (0.08644868039283672, 0.05530371713508608, 0.10724783138312466, 0.597989949748744, -0.10079184002147368)\n9 (0.1409031613014754, 0.06234448437931972, 0.15249107697152783, 0.3953757225433525, -0.0139113555483662)\n0 (nan, nan, nan, nan, nan)\n0 (nan, nan, nan, nan, nan)\n"
     ]
    },
    {
     "data": {
      "image/png": "[encoded data removed]",
      "text/plain": [
       "<Figure size 432x288 with 1 Axes>"
      ]
     },
     "metadata": {},
     "output_type": "display_data"
    }
   ],
   "source": [
    "y1 = []\n",
    "cnt1 = []\n",
    "for i in range(10):\n",
    "    p0 = i*0.1\n",
    "    p1 = (i+1)*0.1\n",
    "    cond=(p0 < Y_test_pred_reg[ycol]) & (Y_test_pred_reg[ycol] <=p1)\n",
    "    cnt1.append(sum(cond))\n",
    "    y1.append((Y_test[ycol][cond].mean(), Y_test[ycol][cond].median(),Y_test[ycol][cond].std(),Y_test[ycol][cond].max(),Y_test[ycol][cond].min()))\n",
    "for c,p in zip(cnt1,y1):\n",
    "    print(c,p)\n",
    "\n",
    "plt.bar(np.arange(len(y1))*0.1+0.05,[mean for mean,_, _,_,_ in y1],width=0.08)\n",
    "plt.plot(x0,y0,color='r')\n",
    "# plt.plot(x,y1,color='r')\n",
    "plt.xlim(0,1)\n",
    "plt.ylim(0,0.5)\n",
    "plt.show()"
   ]
  },
  {
   "cell_type": "code",
   "execution_count": 77,
   "metadata": {},
   "outputs": [
    {
     "name": "stdout",
     "output_type": "stream",
     "text": [
      "0.27052899250361223\n6 0.27052899250361223 0.2563892418087791 0.06462782352327352 0.3700854700854703 0.18000000000000016\n"
     ]
    },
    {
     "name": "stdout",
     "output_type": "stream",
     "text": [
      "\n                  code  open0     open  f1mv_open      rise      pred\n2018-02-06  002446.SZ    7.2  35.6184   34.67847  0.312411  0.812218\n\n                  code  open0   open  f1mv_open  rise      pred\n2018-02-01  002913.SZ  40.86  40.86       38.0  0.18  0.808325\n\n                  code  open0      open  f1mv_open      rise      pred\n2018-02-01  600536.SH  13.43  70.88354   62.80820  0.247899  0.803867\n2018-02-02  600536.SH  11.90  62.80820   62.01650  0.263830  0.820246\n2018-02-05  600536.SH  11.75  62.01650   62.75542  0.248949  0.844401\n2018-02-06  600536.SH  11.89  62.75542   61.75260  0.370085  0.869043\n"
     ]
    }
   ],
   "source": [
    "cond = Y_test_pred_reg[ycol]>0.8\n",
    "print(Y_test[ycol][cond].mean())\n",
    "print(sum(cond),Y_test[ycol][cond].mean(), Y_test[ycol][cond].median(),Y_test[ycol][cond].std(),Y_test[ycol][cond].max(),Y_test[ycol][cond].min())\n",
    "\n",
    "df_combined = df_all.loc[test_date_idx][[\"code\",\"open0\",\"open\",\"f1mv_open\"]]\n",
    "df_combined[\"rise\"] = Y_test[ycol].copy()\n",
    "df_combined[\"pred\"] = Y_test_pred_reg[ycol].copy()\n",
    "for code, df in df_combined[cond].groupby(\"code\"):\n",
    "    print(\"\\n\",df)"
   ]
  },
  {
   "cell_type": "code",
   "execution_count": null,
   "metadata": {},
   "outputs": [],
   "source": []
  }
 ],
 "metadata": {
  "kernelspec": {
   "display_name": "Python 2",
   "language": "python",
   "name": "python2"
  },
  "language_info": {
   "codemirror_mode": {
    "name": "ipython",
    "version": 2
   },
   "file_extension": ".py",
   "mimetype": "text/x-python",
   "name": "python",
   "nbconvert_exporter": "python",
   "pygments_lexer": "ipython2",
   "version": "2.7.6"
  }
 },
 "nbformat": 4,
 "nbformat_minor": 0
}
