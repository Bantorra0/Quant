{
 "cells": [
  {
   "cell_type": "code",
   "execution_count": 2,
   "metadata": {
    "collapsed": true
   },
   "outputs": [],
   "source": [
    "import numpy as np\n",
    "import pandas as pd\n",
    "import matplotlib.pyplot as plt\n",
    "\n",
    "import constants as const\n",
    "import db_operations as dbop\n",
    "import data_prepare as dp\n",
    "import ml_model\n",
    "import customized_obj as cus_obj\n",
    "\n",
    "import xgboost.sklearn as xgb\n",
    "import lightgbm.sklearn as lgbm\n",
    "import sklearn.preprocessing as preproc\n",
    "import sklearn.metrics as metrics\n",
    "\n",
    "import datetime\n",
    "import time"
   ]
  },
  {
   "cell_type": "code",
   "execution_count": 2,
   "metadata": {},
   "outputs": [
    {
     "name": "stdout",
     "output_type": "stream",
     "text": [
      "2018-01-01 2011-02-27 2009-02-07\nstart: 2009-02-07\n"
     ]
    },
    {
     "name": "stdout",
     "output_type": "stream",
     "text": [
      "min_date 2009-02-09\n"
     ]
    },
    {
     "name": "stdout",
     "output_type": "stream",
     "text": [
      "count stck 58\n(120846, 165)\n(120846, 165)\n"
     ]
    },
    {
     "name": "stdout",
     "output_type": "stream",
     "text": [
      "(2407, 395) 2407\n"
     ]
    },
    {
     "name": "stdout",
     "output_type": "stream",
     "text": [
      "(120846, 560)\n"
     ]
    },
    {
     "name": "stdout",
     "output_type": "stream",
     "text": [
      "df_all: (100617, 560)\n"
     ]
    },
    {
     "name": "stdout",
     "output_type": "stream",
     "text": [
      "y<-0.5: 0\n-0.50<=y<-0.40: 1\n-0.40<=y<-0.30: 0\n-0.30<=y<-0.20: 2\n-0.20<=y<-0.10: 49\n-0.10<=y<0.00: 6665\n0.00<=y<0.10: 55425\n0.10<=y<0.20: 23838\n0.20<=y<0.30: 7946\n0.30<=y<0.40: 2857\n0.40<=y<0.50: 1189\ny>0.5 1483\nmean: 0.10473010218348575 median: 0.0714285714285714 std: 0.20875504483454851\n"
     ]
    },
    {
     "name": "stdout",
     "output_type": "stream",
     "text": [
      "过滤一字涨停项或停牌（最高价=最低价）： 5419\ny<-0.5: 0\n-0.50<=y<-0.40: 0\n-0.40<=y<-0.30: 0\n-0.30<=y<-0.20: 0\n-0.20<=y<-0.10: 45\n-0.10<=y<0.00: 6597\n0.00<=y<0.10: 57047\n0.10<=y<0.20: 23369\n0.20<=y<0.30: 7658\n0.30<=y<0.40: 2634\n0.40<=y<0.50: 1056\ny>0.5 1049\nmean: 0.09570111489335008 median: 0.06781914893617014 std: 0.10904230603291086\n"
     ]
    },
    {
     "name": "stdout",
     "output_type": "stream",
     "text": [
      "y<-0.5: 259\n-0.50<=y<-0.40: 449\n-0.40<=y<-0.30: 1373\n-0.30<=y<-0.20: 4783\n-0.20<=y<-0.10: 22634\n-0.10<=y<0.00: 64668\n0.00<=y<0.10: 5291\n0.10<=y<0.20: 0\n0.20<=y<0.30: 0\n0.30<=y<0.40: 0\n0.40<=y<0.50: 0\ny>0.5 0\nmean: -0.07962968169207518 median: -0.05887850467289735 std: 0.07853517210984692\n过滤一字涨停项或停牌（最高价=最低价）： 5419\ny<-0.5: 187\n-0.50<=y<-0.40: 373\n"
     ]
    },
    {
     "name": "stdout",
     "output_type": "stream",
     "text": [
      "-0.40<=y<-0.30: 1281\n-0.30<=y<-0.20: 4618\n-0.20<=y<-0.10: 22173\n-0.10<=y<0.00: 63930\n0.00<=y<0.10: 6895\n0.10<=y<0.20: 0\n0.20<=y<0.30: 0\n0.30<=y<0.40: 0\n0.40<=y<0.50: 0\ny>0.5 0\nmean: -0.077057592399663 median: -0.05685798976017242 std: 0.07575406010308508\n"
     ]
    },
    {
     "name": "stdout",
     "output_type": "stream",
     "text": [
      "(100617, 545) (100617, 3) Index(['y_l_rise', 'y_l_decline', 'y_l'], dtype='object')\n"
     ]
    },
    {
     "data": {
      "image/png": "[encoded data removed]",
      "text/plain": [
       "<matplotlib.figure.Figure at 0xbc8eba8>"
      ]
     },
     "metadata": {},
     "output_type": "display_data"
    },
    {
     "data": {
      "image/png": "[encoded data removed]",
      "text/plain": [
       "<matplotlib.figure.Figure at 0xd944b70>"
      ]
     },
     "metadata": {},
     "output_type": "display_data"
    },
    {
     "data": {
      "image/png": "[encoded data removed]",
      "text/plain": [
       "<matplotlib.figure.Figure at 0xc0ef550>"
      ]
     },
     "metadata": {},
     "output_type": "display_data"
    },
    {
     "data": {
      "image/png": "[encoded data removed]",
      "text/plain": [
       "<matplotlib.figure.Figure at 0xd6ff208>"
      ]
     },
     "metadata": {},
     "output_type": "display_data"
    }
   ],
   "source": [
    "targets = [{\"period\": 20, \"fun\": \"max\", \"col\": \"high\"},\n",
    "           {\"period\": 20, \"fun\": \"min\", \"col\": \"low\"},\n",
    "           # {\"period\": 5, \"fun\": \"max\", \"col\": \"high\"},\n",
    "           # {\"period\": 5, \"fun\": \"min\", \"col\": \"low\"},\n",
    "           # {\"period\": 20, \"fun\": \"mean\", \"col\": \"\"}\n",
    "           ]\n",
    "\n",
    "time_delta = datetime.timedelta(days=1)\n",
    "test_start = \"2018-01-01\"\n",
    "train_length = 2500\n",
    "max_feature_length = 750\n",
    "\n",
    "train_bound = datetime.datetime.strptime(test_start, const.DATE_FORMAT) - train_length * time_delta\n",
    "train_bound = datetime.datetime.strftime(train_bound, const.DATE_FORMAT)\n",
    "\n",
    "lower_bound = datetime.datetime.strptime(train_bound, const.DATE_FORMAT) - max_feature_length * time_delta\n",
    "lower_bound = datetime.datetime.strftime(lower_bound, const.DATE_FORMAT)\n",
    "print(test_start,train_bound,lower_bound)\n",
    "\n",
    "df_all, cols_future = ml_model.gen_data(targets=targets,\n",
    "                                        lower_bound=lower_bound,\n",
    "                                        start=train_bound,\n",
    "                                        stock_pool=None)\n",
    "\n",
    "print(\"df_all:\", df_all.shape)\n",
    "trading_date_idxes = df_all.index.unique().sort_values(ascending=True)\n",
    "\n",
    "X = ml_model.gen_X(df_all, cols_future)\n",
    "\n",
    "paras = [(\"y_l_rise\", {\"pred_period\": 20, \"is_high\": True, \"is_clf\": False,\"threshold\":0.2}, df_all),\n",
    "         (\"y_l_decline\", {\"pred_period\": 20, \"is_high\": False, \"is_clf\": False, \"threshold\":0.2}, df_all),\n",
    "         # (\"y_s_rise\", {\"pred_period\": 5, \"is_high\": True, \"is_clf\": False,\"threshold\":0.1}, df_all),\n",
    "         # (\"y_s_decline\", {\"pred_period\": 5, \"is_high\": False, \"is_clf\": False,\"threshold\":0.1}, df_all),\n",
    "         ]\n",
    "\n",
    "# paras = [(\"y_l\", {\"pred_period\": 20, \"is_high\": True, \"is_clf\": False,\n",
    "#                        \"threshold\":0.1}, df_all)]\n",
    "Y = pd.concat([ml_model.gen_y(v2, **v1) for k, v1, v2 in paras], axis=1)\n",
    "Y.columns = [k for k, _, _ in paras]\n",
    "Y.index = X.index\n",
    "Y[\"y_l\"] = Y.apply(\n",
    "    lambda r:r[\"y_l_rise\"] if r[\"y_l_rise\"]> -r[\"y_l_decline\"] else r[\"y_l_decline\"],\n",
    "    axis=1)\n",
    "print(X.shape, Y.shape, Y.columns)\n"
   ]
  },
  {
   "cell_type": "code",
   "execution_count": 3,
   "metadata": {},
   "outputs": [
    {
     "name": "stdout",
     "output_type": "stream",
     "text": [
      "(100617, 545)\nIndex(['code', 'f19max_f2mv_high', 'f1mv_close', 'f1mv_high', 'f1mv_low',\n       'f1mv_open', 'f1mv_qfq_close', 'f1mv_qfq_high', 'f1mv_qfq_low',\n       'f1mv_qfq_open', 'f20min_f1mv_low', 'qfq_close', 'qfq_high', 'qfq_low',\n       'qfq_open'],\n      dtype='object')\n"
     ]
    },
    {
     "data": {
      "text/plain": [
       "(array([    0.,     0.,     0.,    32.,   155.,   373.,  1273.,  4499.,\n        19971., 16972., 22326., 21625.,  7501.,  2623.,  1056.,   491.,\n          241.,   141.,    88.,    44.]),\n array([-1. , -0.9, -0.8, -0.7, -0.6, -0.5, -0.4, -0.3, -0.2, -0.1,  0. ,\n         0.1,  0.2,  0.3,  0.4,  0.5,  0.6,  0.7,  0.8,  0.9,  1. ]),\n <a list of 20 Patch objects>)"
      ]
     },
     "execution_count": 3,
     "metadata": {},
     "output_type": "execute_result"
    },
    {
     "data": {
      "image/png": "[encoded data removed]",
      "text/plain": [
       "<matplotlib.figure.Figure at 0xbee5fd0>"
      ]
     },
     "metadata": {},
     "output_type": "display_data"
    }
   ],
   "source": [
    "print(X.shape)\n",
    "print(df_all.columns.difference(X.columns))\n",
    "plt.hist(Y[\"y_l\"].dropna(),bins=np.arange(-10,11)*0.1)"
   ]
  },
  {
   "cell_type": "code",
   "execution_count": 4,
   "metadata": {},
   "outputs": [
    {
     "name": "stdout",
     "output_type": "stream",
     "text": [
      "y_l_rise 0.09570111489335008 0.06781914893617014 0.10904230603291086\ny_l_decline -0.077057592399663 -0.05685798976017242 0.07575406010308508\ny_l 0.02367785855504023 0.038174770361617316 0.17276577044836713\n"
     ]
    }
   ],
   "source": [
    "# Y is contiguous.\n",
    "for col in Y.columns:\n",
    "    print(col, Y[col].mean(),Y[col].median(),Y[col].std())"
   ]
  },
  {
   "cell_type": "code",
   "execution_count": 5,
   "metadata": {},
   "outputs": [
    {
     "name": "stdout",
     "output_type": "stream",
     "text": [
      "2011-02-28 2016-12-01\n2017-01-03 2018-11-20\n"
     ]
    },
    {
     "name": "stdout",
     "output_type": "stream",
     "text": [
      "(72349, 545) (72349,)\n"
     ]
    },
    {
     "name": "stdout",
     "output_type": "stream",
     "text": [
      "(25742, 545) (25742, 3)\n"
     ]
    }
   ],
   "source": [
    "train_date_idx = trading_date_idxes[trading_date_idxes<\"2017-01-01\"][:-21]\n",
    "print(train_date_idx[0],train_date_idx[-1])\n",
    "test_date_idx = trading_date_idxes[(trading_date_idxes>=\"2017-01-01\")][:-24]\n",
    "print(test_date_idx[0],test_date_idx[-1])\n",
    "\n",
    "ycol = \"y_l\"\n",
    "X_train = X.loc[train_date_idx]\n",
    "Y_train = Y.loc[train_date_idx]\n",
    "print(X_train.shape, Y_train[ycol].shape)\n",
    "X_test = X.loc[test_date_idx]\n",
    "Y_test = Y.loc[test_date_idx]\n",
    "print(X_test.shape, Y_test.shape)\n"
   ]
  },
  {
   "cell_type": "code",
   "execution_count": 6,
   "metadata": {},
   "outputs": [],
   "source": [
    "models={}"
   ]
  },
  {
   "cell_type": "code",
   "execution_count": 25,
   "metadata": {},
   "outputs": [
    {
     "name": "stdout",
     "output_type": "stream",
     "text": [
      "78.3270001411438\n"
     ]
    }
   ],
   "source": [
    "\n",
    "# models = {\"model_l_high\":\n",
    "#               xgb.XGBClassifier(n_estimators=150, \n",
    "#                                   scale_pos_weight=1,\n",
    "#                                 max_depth=5,\n",
    "#                                  random_state=0, \n",
    "#                                   )\n",
    "#           }\n",
    "\n",
    "models[\"model_l_high\"]=lgbm.LGBMClassifier(n_estimators=30, \n",
    "                                  scale_pos_weight=1,\n",
    "                                 num_leaves=64, \n",
    "                                max_depth=8,\n",
    "                                 random_state=0, \n",
    "                                min_child_samples=20,\n",
    "                                  )\n",
    "          \n",
    "\n",
    "y_train = ml_model.label(Y_train[ycol],threshold=0.15,is_high=True)\n",
    "scale_pos_weight = sum(y_train == 0) / sum(y_train == 1)\n",
    "\n",
    "t1 = time.time()\n",
    "models[\"model_l_high\"].fit(X_train, y_train)\n",
    "t2 = time.time()\n",
    "print(t2-t1)\n",
    "Y_test_pred ={ycol: models[\"model_l_high\"].predict_proba(X_test)[:,1]}\n"
   ]
  },
  {
   "cell_type": "code",
   "execution_count": 26,
   "metadata": {},
   "outputs": [
    {
     "name": "stdout",
     "output_type": "stream",
     "text": [
      "LGBMClassifier(boosting_type='gbdt', class_weight=None, colsample_bytree=1.0,\n        learning_rate=0.1, max_depth=8, min_child_samples=20,\n        min_child_weight=0.001, min_split_gain=0.0, n_estimators=30,\n        n_jobs=-1, num_leaves=64, objective=None, random_state=0,\n        reg_alpha=0.0, reg_lambda=0.0, scale_pos_weight=1, silent=True,\n        subsample=1.0, subsample_for_bin=200000, subsample_freq=0)\n"
     ]
    },
    {
     "name": "stdout",
     "output_type": "stream",
     "text": [
      "781 (0.0017869685491264144, 0.0, 0.0196784538425522, 0.40542133176193307, -0.0802784222737819)\n1710 (0.05386594665278017, 0.037338541666666614, 0.05928159829582074, 0.46347826086956534, -0.07043407043407057)\n4228 (0.07411173725992358, 0.056048587659362714, 0.07320788490381518, 0.8043636363636364, -0.12865267699548932)\n4905 (0.08498451283253235, 0.06495335328287277, 0.0844883485564575, 0.8832684824902723, -0.09234608985024961)\n4190 (0.08855994882126494, 0.06896776502608803, 0.08806563656192254, 0.8724528301886791, -0.19402173913043474)\n3305 (0.09120448303750107, 0.07098121085595, 0.08792687472357531, 0.6553672316384183, -0.11646136618141101)\n2281 (0.09833946597301156, 0.0726086956521741, 0.09894210821771089, 0.7660103626587744, -0.10780487804878058)\n1529 (0.09985295195556354, 0.07685799654449066, 0.09982384758165438, 0.6616257088846884, -0.0632380952380952)\n932 (0.09520443086642888, 0.07073569055827711, 0.0960636104784121, 0.597989949748744, -0.0708556149732621)\n549 (0.0997234051263998, 0.07921928817451196, 0.10362107697419559, 0.6894409937888195, -0.11037410453701235)\n335 (0.09758935933586761, 0.08083623693379782, 0.09489552654966091, 0.526374859708193, -0.058252427184466105)\n219 (0.11371787306876424, 0.09999999999999987, 0.10962825250066571, 0.6200119118522929, -0.046260268050151265)\n173 (0.14763022226488334, 0.13855072463768114, 0.09929483230562645, 0.5143859649122804, -0.04543681747269901)\n158 (0.1379053140378156, 0.13398010999399435, 0.10182816836204366, 0.49923664122137423, -0.10079184002147368)\n101 (0.1326433210593755, 0.11834319526627213, 0.10513507624395216, 0.4441176470588235, -0.0837500000000001)\n74 (0.14691307968809159, 0.1449578341041079, 0.09184898990152815, 0.3700854700854703, -0.0774077407740773)\n39 (0.12094252567676068, 0.133546581367453, 0.08026387121920947, 0.31241084165477906, -0.02530802530802534)\n1 (0.17439933719966882, 0.17439933719966882, nan, 0.17439933719966882, 0.17439933719966882)\n0 (nan, nan, nan, nan, nan)\n0 (nan, nan, nan, nan, nan)\n"
     ]
    },
    {
     "data": {
      "image/png": "[encoded data removed]",
      "text/plain": [
       "<matplotlib.figure.Figure at 0xed636d8>"
      ]
     },
     "metadata": {},
     "output_type": "display_data"
    }
   ],
   "source": [
    "print(models[\"model_l_high\"])\n",
    "\n",
    "interval = 0.05\n",
    "n = int(1/interval)\n",
    "x0 = np.arange(n+1)*interval\n",
    "y0 = np.ones(x0.shape)* Y_test[ycol].mean()\n",
    "\n",
    "y1 = []\n",
    "cnt1 = []\n",
    "for i in range(n):\n",
    "    p0 = i*interval\n",
    "    p1 = (i+1)*interval\n",
    "    cond=(p0 < Y_test_pred[ycol]) & (Y_test_pred[ycol] <=p1)\n",
    "    cnt1.append(sum(cond))\n",
    "    y1.append((Y_test[ycol][cond].mean(), Y_test[ycol][cond].median(),Y_test[ycol][cond].std(),Y_test[ycol][cond].max(),Y_test[ycol][cond].min()))\n",
    "for c,p in zip(cnt1,y1):\n",
    "    print(c,p)\n",
    "\n",
    "plt.bar(np.arange(len(y1))*interval+interval/2,[mean for mean,_, _,_,_ in y1],width=interval*0.8)\n",
    "plt.plot(x0,y0,color='r')\n",
    "# plt.plot(x,y1,color='r')\n",
    "plt.xlim(0,1)\n",
    "plt.ylim(0,0.5)\n",
    "plt.show()\n"
   ]
  },
  {
   "cell_type": "code",
   "execution_count": 12,
   "metadata": {},
   "outputs": [
    {
     "name": "stdout",
     "output_type": "stream",
     "text": [
      "0.19150086981583767\n6 0.19150086981583767 0.1749581416624233 0.14266972179444173 0.3796449704142011 0.04947916666666674\n\n                  code  open0       open   f1mv_open     rise     pred\n2017-06-14  000002.SZ   21.9  2907.9258  2822.94532  0.25588  0.73034\n\n                  code  open0     open  f1mv_open      rise      pred\n2018-02-06  002446.SZ    7.2  35.6184   34.67847  0.312411  0.744096\n\n                  code  open0      open  f1mv_open      rise      pred\n2017-06-02  600401.SH   1.39  26.22652   26.22652  0.057554  0.718362\n\n                  code  open0     open  f1mv_open      rise      pred\n2017-05-24  600536.SH   19.3  101.518    100.992  0.049479  0.705735\n\n                  code  open0     open  f1mv_open      rise      pred\n2017-05-09  603799.SH   44.0  44.2640    43.8616  0.094037  0.731686\n2017-05-23  603799.SH   42.7  42.9562    42.5035  0.379645  0.730326\n"
     ]
    }
   ],
   "source": [
    "cond = Y_test_pred[ycol]>0.7\n",
    "print(Y_test[ycol][cond].mean())\n",
    "print(sum(cond),Y_test[ycol][cond].mean(), Y_test[ycol][cond].median(),Y_test[ycol][cond].std(),Y_test[ycol][cond].max(),Y_test[ycol][cond].min())\n",
    "\n",
    "df_combined = df_all.loc[test_date_idx][[\"code\",\"open0\",\"open\",\"f1mv_open\"]]\n",
    "df_combined[\"rise\"] = Y_test[ycol].copy()\n",
    "df_combined[\"pred\"] = Y_test_pred[ycol].copy()\n",
    "for code, df in df_combined[cond].groupby(\"code\"):\n",
    "    print(\"\\n\",df)"
   ]
  },
  {
   "cell_type": "code",
   "execution_count": 38,
   "metadata": {},
   "outputs": [],
   "source": [
    "\n",
    "k = 100\n",
    "models[\"model_l_high_reg\"] = lgbm.LGBMRegressor(\n",
    "    n_estimators=30, num_leaves=32,\n",
    "    max_depth=12,\n",
    "    random_state=0,\n",
    "    min_child_samples=20,\n",
    "    min_split_gain=0,\n",
    "    learning_rate=0.1,\n",
    "    # min_child_weight=0,\n",
    "    objective = \"huber\",\n",
    "    alpha = 0.5\n",
    "    # reg_lambda=1e-5\n",
    ")\n"
   ]
  },
  {
   "cell_type": "code",
   "execution_count": 39,
   "metadata": {},
   "outputs": [
    {
     "name": "stdout",
     "output_type": "stream",
     "text": [
      "47.69000005722046\n"
     ]
    }
   ],
   "source": [
    "\n",
    "# models[\"model_l_high_reg\"] = xgb.XGBRegressor(\n",
    "#     n_estimators=30,\n",
    "#     max_depth=5,\n",
    "#     random_state=0,\n",
    "#     gamma= 0.5,\n",
    "#     learning_rate=0.05,\n",
    "#     min_child_weight=20,\n",
    "#     objective = cus_obj.smooth_l1_obj_generator(k),\n",
    "#     # reg_lambda=1e-5\n",
    "# )\n",
    "\n",
    "sample_weight = np.abs(Y_train[ycol])\n",
    "sample_weight = sample_weight/np.mean(sample_weight)\n",
    "\n",
    "t1 = time.time()\n",
    "models[\"model_l_high_reg\"].fit(X_train, Y_train[ycol],sample_weight=sample_weight)\n",
    "# models[\"model_l_high_reg\"].fit(X_train, Y_train[ycol])\n",
    "t2 = time.time()\n",
    "print(t2-t1)\n"
   ]
  },
  {
   "cell_type": "code",
   "execution_count": 20,
   "metadata": {},
   "outputs": [
    {
     "name": "stdout",
     "output_type": "stream",
     "text": [
      "53.545000076293945\n"
     ]
    }
   ],
   "source": [
    "\n",
    "Y_test_pred_reg ={ycol: models[\"model_l_high_reg\"].predict(X_test)}\n",
    "print(models[\"model_l_high_reg\"].score(X_test,Y_test[ycol]))\n"
   ]
  },
  {
   "cell_type": "code",
   "execution_count": 52,
   "metadata": {},
   "outputs": [],
   "source": [
    "stacker = lgbm.LGBMClassifier(\n",
    "    n_estimators=30, num_leaves=64,\n",
    "    scale_pos_weight=1,\n",
    "    max_depth=16,\n",
    "    random_state=0,\n",
    "    min_child_samples=20,\n",
    "    min_split_gain=0.5,\n",
    ")\n"
   ]
  },
  {
   "cell_type": "code",
   "execution_count": 174,
   "metadata": {},
   "outputs": [
    {
     "name": "stderr",
     "output_type": "stream",
     "text": [
      "C:\\Users\\dell-pc\\Anaconda3.6\\lib\\site-packages\\lightgbm\\basic.py:450: UserWarning: Converting data to scipy sparse matrix.\n  warnings.warn('Converting data to scipy sparse matrix.')\n"
     ]
    },
    {
     "name": "stdout",
     "output_type": "stream",
     "text": [
      "(16568,)\n"
     ]
    },
    {
     "name": "stdout",
     "output_type": "stream",
     "text": [
      "1292 (0.0564942141165419, 0.025359140081381515, 0.07957201925528411, 0.49437299035369775, -0.014883061658398145)\n3497 (0.09504616791963497, 0.0726246105919004, 0.09024243654398367, 0.741324921135647, -0.09234608985024961)\n3106 (0.09408139306308058, 0.07244620752160258, 0.08945663814447036, 0.7047560222359481, -0.09142053445850917)\n2325 (0.08616052449963223, 0.06269592476489039, 0.08869867514290783, 0.6974169741697416, -0.058252427184466105)\n2245 (0.08677626347111263, 0.06336206896551722, 0.08857897064228236, 0.7660103626587744, -0.04995196926032652)\n2344 (0.09731225216002441, 0.07690981432360733, 0.0895432363424026, 0.597989949748744, -0.0632380952380952)\n1277 (0.09841958194967271, 0.07598944591029033, 0.0909535346164598, 0.5143859649122804, -0.06426056338028152)\n450 (0.0868233603157824, 0.06349306651094266, 0.08943101591540087, 0.476747587013747, -0.10578478964401283)\n20 (0.10391456215211621, 0.07400945030202, 0.09942987060625445, 0.31241084165477906, -0.0139113555483662)\n12 (0.060183483249202585, 0.03594701038310055, 0.12049318951641502, 0.3700854700854703, -0.10079184002147368)\n"
     ]
    },
    {
     "data": {
      "image/png": "[encoded data removed]",
      "text/plain": [
       "<Figure size 432x288 with 1 Axes>"
      ]
     },
     "metadata": {},
     "output_type": "display_data"
    }
   ],
   "source": [
    "\n",
    "import sklearn as sk\n",
    "enc = sk.preprocessing.OneHotEncoder()\n",
    "pred_leaves_train = models[\"model_l_high_reg\"].predict(X_train, pred_leaf=True)\n",
    "pred_reg_train = models[\"model_l_high_reg\"].predict(X_train).reshape(-1, 1)\n",
    "pred_leaves_train = enc.fit_transform(pred_leaves_train)\n",
    "print(pred_leaves_train.shape,X_train.shape, type(pred_leaves_train),\n",
    "      type(X_train))\n",
    "import scipy.sparse\n",
    "features_train = scipy.sparse.hstack([X_train,pred_leaves_train])\n",
    "print(features_train.shape, type(features_train))\n",
    "features_train = scipy.sparse.hstack([features_train, pred_reg_train])\n",
    "print(features_train.shape, type(features_train))\n"
   ]
  },
  {
   "cell_type": "code",
   "execution_count": 180,
   "metadata": {},
   "outputs": [
    {
     "name": "stderr",
     "output_type": "stream",
     "text": [
      "C:\\Users\\dell-pc\\Anaconda3.6\\lib\\site-packages\\lightgbm\\basic.py:450: UserWarning: Converting data to scipy sparse matrix.\n  warnings.warn('Converting data to scipy sparse matrix.')\n"
     ]
    },
    {
     "name": "stdout",
     "output_type": "stream",
     "text": [
      "(16568,)\n"
     ]
    },
    {
     "name": "stdout",
     "output_type": "stream",
     "text": [
      "1292 (0.0564942141165419, 0.025359140081381515, 0.07957201925528411, 0.49437299035369775, -0.014883061658398145)\n3497 (0.09504616791963497, 0.0726246105919004, 0.09024243654398367, 0.741324921135647, -0.09234608985024961)\n3106 (0.09408139306308058, 0.07244620752160258, 0.08945663814447036, 0.7047560222359481, -0.09142053445850917)\n2325 (0.08616052449963223, 0.06269592476489039, 0.08869867514290783, 0.6974169741697416, -0.058252427184466105)\n2245 (0.08677626347111263, 0.06336206896551722, 0.08857897064228236, 0.7660103626587744, -0.04995196926032652)\n2344 (0.09731225216002441, 0.07690981432360733, 0.0895432363424026, 0.597989949748744, -0.0632380952380952)\n1277 (0.09841958194967271, 0.07598944591029033, 0.0909535346164598, 0.5143859649122804, -0.06426056338028152)\n450 (0.0868233603157824, 0.06349306651094266, 0.08943101591540087, 0.476747587013747, -0.10578478964401283)\n20 (0.10391456215211621, 0.07400945030202, 0.09942987060625445, 0.31241084165477906, -0.0139113555483662)\n12 (0.060183483249202585, 0.03594701038310055, 0.12049318951641502, 0.3700854700854703, -0.10079184002147368)\n"
     ]
    },
    {
     "data": {
      "image/png": "[encoded data removed]",
      "text/plain": [
       "<Figure size 432x288 with 1 Axes>"
      ]
     },
     "metadata": {},
     "output_type": "display_data"
    }
   ],
   "source": [
    "t1 = time.time()\n",
    "stacker.fit(features_train,ml_model.label(Y_train[ycol],threshold=0.15))\n",
    "# stacker.fit(features_train,Y_train[ycol])\n",
    "t2 = time.time()\n",
    "print(t2-t1)"
   ]
  },
  {
   "cell_type": "code",
   "execution_count": 176,
   "metadata": {},
   "outputs": [
    {
     "name": "stderr",
     "output_type": "stream",
     "text": [
      "C:\\Users\\dell-pc\\Anaconda3.6\\lib\\site-packages\\lightgbm\\basic.py:450: UserWarning: Converting data to scipy sparse matrix.\n  warnings.warn('Converting data to scipy sparse matrix.')\n"
     ]
    },
    {
     "name": "stdout",
     "output_type": "stream",
     "text": [
      "(16568,)\n"
     ]
    },
    {
     "name": "stdout",
     "output_type": "stream",
     "text": [
      "1292 (0.0564942141165419, 0.025359140081381515, 0.07957201925528411, 0.49437299035369775, -0.014883061658398145)\n3497 (0.09504616791963497, 0.0726246105919004, 0.09024243654398367, 0.741324921135647, -0.09234608985024961)\n3106 (0.09408139306308058, 0.07244620752160258, 0.08945663814447036, 0.7047560222359481, -0.09142053445850917)\n2325 (0.08616052449963223, 0.06269592476489039, 0.08869867514290783, 0.6974169741697416, -0.058252427184466105)\n2245 (0.08677626347111263, 0.06336206896551722, 0.08857897064228236, 0.7660103626587744, -0.04995196926032652)\n2344 (0.09731225216002441, 0.07690981432360733, 0.0895432363424026, 0.597989949748744, -0.0632380952380952)\n1277 (0.09841958194967271, 0.07598944591029033, 0.0909535346164598, 0.5143859649122804, -0.06426056338028152)\n450 (0.0868233603157824, 0.06349306651094266, 0.08943101591540087, 0.476747587013747, -0.10578478964401283)\n20 (0.10391456215211621, 0.07400945030202, 0.09942987060625445, 0.31241084165477906, -0.0139113555483662)\n12 (0.060183483249202585, 0.03594701038310055, 0.12049318951641502, 0.3700854700854703, -0.10079184002147368)\n"
     ]
    },
    {
     "data": {
      "image/png": "[encoded data removed]",
      "text/plain": [
       "<Figure size 432x288 with 1 Axes>"
      ]
     },
     "metadata": {},
     "output_type": "display_data"
    }
   ],
   "source": [
    "pred_leaves_test = models[\"model_l_high_reg\"].predict(X_test, pred_leaf=True)\n",
    "pred_reg_test = models[\"model_l_high_reg\"].predict(X_test).reshape(-1, 1)\n",
    "pred_leaves_test = enc.transform(pred_leaves_test)\n",
    "print(pred_leaves_test.shape,X_test.shape, type(pred_leaves_test),\n",
    "      type(X_test))\n",
    "features_test = scipy.sparse.hstack([X_test, pred_leaves_test])\n",
    "print(features_test.shape, type(features_test))\n",
    "features_test = scipy.sparse.hstack([features_test, pred_reg_test])\n",
    "print(features_test.shape, type(features_test))\n"
   ]
  },
  {
   "cell_type": "code",
   "execution_count": 182,
   "metadata": {},
   "outputs": [
    {
     "name": "stderr",
     "output_type": "stream",
     "text": [
      "C:\\Users\\dell-pc\\Anaconda3.6\\lib\\site-packages\\lightgbm\\basic.py:450: UserWarning: Converting data to scipy sparse matrix.\n  warnings.warn('Converting data to scipy sparse matrix.')\n"
     ]
    },
    {
     "name": "stdout",
     "output_type": "stream",
     "text": [
      "(16568,)\n"
     ]
    },
    {
     "name": "stdout",
     "output_type": "stream",
     "text": [
      "1292 (0.0564942141165419, 0.025359140081381515, 0.07957201925528411, 0.49437299035369775, -0.014883061658398145)\n3497 (0.09504616791963497, 0.0726246105919004, 0.09024243654398367, 0.741324921135647, -0.09234608985024961)\n3106 (0.09408139306308058, 0.07244620752160258, 0.08945663814447036, 0.7047560222359481, -0.09142053445850917)\n2325 (0.08616052449963223, 0.06269592476489039, 0.08869867514290783, 0.6974169741697416, -0.058252427184466105)\n2245 (0.08677626347111263, 0.06336206896551722, 0.08857897064228236, 0.7660103626587744, -0.04995196926032652)\n2344 (0.09731225216002441, 0.07690981432360733, 0.0895432363424026, 0.597989949748744, -0.0632380952380952)\n1277 (0.09841958194967271, 0.07598944591029033, 0.0909535346164598, 0.5143859649122804, -0.06426056338028152)\n450 (0.0868233603157824, 0.06349306651094266, 0.08943101591540087, 0.476747587013747, -0.10578478964401283)\n20 (0.10391456215211621, 0.07400945030202, 0.09942987060625445, 0.31241084165477906, -0.0139113555483662)\n12 (0.060183483249202585, 0.03594701038310055, 0.12049318951641502, 0.3700854700854703, -0.10079184002147368)\n"
     ]
    },
    {
     "data": {
      "image/png": "[encoded data removed]",
      "text/plain": [
       "<Figure size 432x288 with 1 Axes>"
      ]
     },
     "metadata": {},
     "output_type": "display_data"
    }
   ],
   "source": [
    "y_stacker_test = stacker.predict_proba(features_test)[:,1]\n",
    "# y_stacker_test = stacker.predict(features_test)\n",
    "\n",
    "print(y_stacker_test.shape)\n",
    "y1 = []\n",
    "cnt1 = []\n",
    "for i in range(10):\n",
    "    p0 = i*0.1\n",
    "    p1 = (i+1)*0.1\n",
    "    cond=(p0 < y_stacker_test) & (y_stacker_test <=p1)\n",
    "    cnt1.append(sum(cond))\n",
    "    y1.append((Y_test[ycol][cond].mean(), Y_test[ycol][cond].median(),Y_test[ycol][cond].std(),Y_test[ycol][cond].max(),Y_test[ycol][cond].min()))\n",
    "for c,p in zip(cnt1,y1):\n",
    "    print(c,p)\n",
    "\n",
    "plt.bar(np.arange(len(y1))*0.1+0.05,[mean for mean,_, _,_,_ in y1],width=0.08)\n",
    "plt.plot(x0,y0,color='r')\n",
    "# plt.plot(x,y1,color='r')\n",
    "plt.xlim(0,1)\n",
    "plt.ylim(0,0.5)\n",
    "plt.show()"
   ]
  },
  {
   "cell_type": "code",
   "execution_count": 42,
   "metadata": {},
   "outputs": [
    {
     "name": "stdout",
     "output_type": "stream",
     "text": [
      "-0.5609022493171583\nLGBMRegressor(alpha=0.5, boosting_type='gbdt', class_weight=None,\n       colsample_bytree=1.0, learning_rate=0.1, max_depth=12,\n       min_child_samples=20, min_child_weight=0.001, min_split_gain=0,\n       n_estimators=30, n_jobs=-1, num_leaves=32, objective='huber',\n       random_state=0, reg_alpha=0.0, reg_lambda=0.0, silent=True,\n       subsample=1.0, subsample_for_bin=200000, subsample_freq=0)\n"
     ]
    },
    {
     "name": "stdout",
     "output_type": "stream",
     "text": [
      "0 (nan, nan, nan, nan, nan)\n0 (nan, nan, nan, nan, nan)\n0 (nan, nan, nan, nan, nan)\n0 (nan, nan, nan, nan, nan)\n0 (nan, nan, nan, nan, nan)\n0 (nan, nan, nan, nan, nan)\n0 (nan, nan, nan, nan, nan)\n0 (nan, nan, nan, nan, nan)\n0 (nan, nan, nan, nan, nan)\n0 (nan, nan, nan, nan, nan)\n0 (nan, nan, nan, nan, nan)\n0 (nan, nan, nan, nan, nan)\n0 (nan, nan, nan, nan, nan)\n0 (nan, nan, nan, nan, nan)\n0 (nan, nan, nan, nan, nan)\n0 (nan, nan, nan, nan, nan)\n0 (nan, nan, nan, nan, nan)\n0 (nan, nan, nan, nan, nan)\n1 (0.2069031456162156, 0.2069031456162156, nan, 0.2069031456162156, 0.2069031456162156)\n670 (0.06819520263300374, 0.04833874562241325, 0.07727691588866492, 0.421214543280231, -0.11646136618141101)\n2953 (0.07402503025821416, 0.0533826638477799, 0.08721802905480762, 0.8043636363636364, -0.18314559866499802)\n5827 (0.0766329282981158, 0.05977584059775842, 0.0808204842939266, 0.8832684824902723, -0.19402173913043474)\n9219 (0.08850883929659462, 0.06587436332767416, 0.09047603208281134, 0.6894409937888195, -0.10578478964401283)\n5977 (0.08649929992690802, 0.06568144499178974, 0.08571998838212956, 0.6253333333333333, -0.10079184002147368)\n728 (0.09701924924590771, 0.0711863080423264, 0.09797639937663097, 0.49695121951219523, -0.0837500000000001)\n192 (0.11550930618144939, 0.10170340412596046, 0.10852681012179798, 0.44268774703557323, -0.041010194624652385)\n64 (0.13896961275554592, 0.13886300093196646, 0.1208469509321285, 0.41914618369987067, -0.0774077407740773)\n70 (0.11197892901766404, 0.10424336741848295, 0.0866878141214754, 0.3485221674876846, -0.02530802530802534)\n34 (0.14624837497533766, 0.1649582197292515, 0.09500402577881495, 0.3600000000000001, -0.024699176694110148)\n6 (0.18772926790704733, 0.18752861596825543, 0.04825707364861054, 0.2577639751552798, 0.11377410468319571)\n1 (0.133546581367453, 0.133546581367453, nan, 0.133546581367453, 0.133546581367453)\n0 (nan, nan, nan, nan, nan)\n0 (nan, nan, nan, nan, nan)\n0 (nan, nan, nan, nan, nan)\n0 (nan, nan, nan, nan, nan)\n0 (nan, nan, nan, nan, nan)\n0 (nan, nan, nan, nan, nan)\n0 (nan, nan, nan, nan, nan)\n0 (nan, nan, nan, nan, nan)\n0 (nan, nan, nan, nan, nan)\n"
     ]
    },
    {
     "data": {
      "image/png": "[encoded data removed]",
      "text/plain": [
       "<matplotlib.figure.Figure at 0xd909198>"
      ]
     },
     "metadata": {},
     "output_type": "display_data"
    }
   ],
   "source": [
    "Y_test_pred_reg ={ycol: models[\"model_l_high_reg\"].predict(X_test)}\n",
    "print(models[\"model_l_high_reg\"].score(X_test,Y_test[ycol]))\n",
    "print(models[\"model_l_high_reg\"])\n",
    "\n",
    "interval = 0.05\n",
    "n = int(1/interval)\n",
    "x0 = np.arange(n+1)*interval\n",
    "y0 = np.ones(x0.shape)* Y_test[ycol].mean()\n",
    "\n",
    "\n",
    "ycol2 = \"y_l_rise\"\n",
    "\n",
    "\n",
    "y1 = []\n",
    "cnt1 = []\n",
    "for i in range(-n,n):\n",
    "    p0 = i*interval\n",
    "    p1 = (i+1)*interval\n",
    "    cond=(p0 < Y_test_pred_reg[ycol]) & (Y_test_pred_reg[ycol] <=p1)\n",
    "    cnt1.append(sum(cond))\n",
    "    y1.append((Y_test[ycol2][cond].mean(), Y_test[ycol2][cond].median(),\n",
    "               Y_test[ycol2][cond].std(),Y_test[ycol2][cond].max(),Y_test[\n",
    "                   ycol2][cond].min()))\n",
    "for c,p in zip(cnt1,y1):\n",
    "    print(c,p)\n",
    "\n",
    "plt.bar(np.arange(-n,n)*interval+interval/2,[mean for mean,_, _,_,_ in y1],\n",
    "        width=0.8*interval)\n",
    "\n",
    "x0 = np.arange(-n,n+1)*interval\n",
    "y0 = np.ones(x0.shape)* Y_test[ycol2].mean()\n",
    "plt.plot(x0,y0,color='r')\n",
    "# plt.plot(x,y1,color='r')\n",
    "plt.xlim(-1,1)\n",
    "plt.ylim(-0.5,0.5)\n",
    "plt.show()\n"
   ]
  },
  {
   "cell_type": "code",
   "execution_count": 27,
   "metadata": {
    "collapsed": true
   },
   "outputs": [
    {
     "name": "stdout",
     "output_type": "stream",
     "text": [
      "0.0815759349200122\n52 0.0815759349200122 0.12917428233523276 0.1497680854133822 0.5289189189189187 -0.2129162462159434\n\n                  code  open0        open   f1mv_open      rise      pred\n2017-04-27  000002.SZ  20.32  2698.13024  2573.31516  0.074819  0.212407\n2017-04-28  000002.SZ  19.38  2573.31516  2562.69260  0.118135  0.219926\n2017-05-03  000002.SZ  19.20  2549.41440  2509.57980  0.141799  0.222706\n2017-05-04  000002.SZ  18.90  2509.57980  2516.21890  0.138786  0.208485\n\n                  code  open0      open  f1mv_open      rise      pred\n2017-05-08  002335.SZ  32.00  95.16800   89.24974  0.205598  0.205736\n2017-05-11  002335.SZ  30.03  89.30922   88.98208  0.221341  0.205184\n\n                  code  open0       open  f1mv_open      rise      pred\n2017-03-28  002359.SZ  34.99  106.43958  108.69066  0.125105  0.214021\n2017-03-29  002359.SZ  35.73  108.69066  102.60666  0.191817  0.210836\n2017-04-05  002359.SZ  36.81  111.97602  107.96058  0.132713  0.223536\n2017-04-06  002359.SZ  35.49  107.96058  107.99100  0.132394  0.208810\n2017-04-12  002359.SZ  36.06  109.69452  112.55400  0.086486  0.208810\n2017-04-13  002359.SZ  37.00  112.55400  111.48930  0.096862  0.227712\n\n                  code  open0      open  f1mv_open      rise      pred\n2017-01-12  300292.SZ   8.26  76.06634   74.59290  0.085185  0.210893\n2017-01-13  300292.SZ   8.10  74.59290   72.29065  0.119745  0.230887\n2017-01-16  300292.SZ   7.85  72.29065   67.40988  0.200820  0.226685\n2017-01-17  300292.SZ   7.32  67.40988   69.80422  0.159631  0.223783\n2017-01-18  300292.SZ   7.58  69.80422   68.69914  0.178284  0.214532\n2017-01-19  300292.SZ   7.46  68.69914   68.14660  0.187838  0.218467\n2017-01-23  300292.SZ   7.71  71.00139   71.09348  0.138601  0.200495\n2017-02-20  300292.SZ   8.11  74.68499   75.69798  0.058394  0.224684\n2017-02-23  300292.SZ   8.25  75.97425   75.69798  0.058394  0.221985\n2017-05-11  300292.SZ   6.00  55.25400   58.66133  0.062794  0.201103\n2017-05-15  300292.SZ   6.60  60.77940   61.05567  0.018100  0.201524\n\n                  code  open0       open  f1mv_open      rise      pred\n2017-01-03  300383.SZ  24.30  244.36080  231.28800  0.154348  0.242343\n2017-01-04  300383.SZ  23.00  231.28800  237.12048  0.125954  0.220615\n2017-01-10  300383.SZ  24.23  243.65688  238.12608  0.121199  0.202929\n2017-01-12  300383.SZ  23.34  234.70704  231.28800  0.154348  0.200379\n2017-01-13  300383.SZ  23.00  231.28800  230.78520  0.158606  0.200379\n2017-01-16  300383.SZ  22.95  230.78520  223.64544  0.195594  0.229605\n\n                  code  open0     open  f1mv_open      rise      pred\n2017-01-20  600392.SH   10.2  76.9794   78.86615  0.303349  0.200235\n\n                  code  open0      open  f1mv_open      rise      pred\n2017-05-12  600401.SH   1.49  28.11332   28.30200  0.160000  0.204881\n2017-06-01  600401.SH   1.48  27.92464   26.22652  0.057554  0.217624\n2017-06-08  600401.SH   1.42  26.79256   26.98124  0.013986  0.203694\n2017-06-09  600401.SH   1.43  26.98124   26.79256  0.021127  0.208199"
     ]
    },
    {
     "name": "stdout",
     "output_type": "stream",
     "text": [
      "\n\n                  code  open0       open  f1mv_open      rise      pred\n2017-10-09  600779.SH  41.99  264.70496  261.61600  0.204819  0.243296\n2017-10-10  600779.SH  41.50  261.61600  261.30080  0.220748  0.201910\n2017-11-01  600779.SH  46.25  291.56000  295.53152  0.104949  0.250329\n2017-11-02  600779.SH  46.88  295.53152  294.39680  0.109208  0.248233\n2017-11-03  600779.SH  46.70  294.39680  302.59200  0.079167  0.248233\n2017-11-09  600779.SH  50.44  317.97376  312.36320  0.017154  0.228288\n2017-11-17  600779.SH  48.38  304.98752  296.09888  0.043219  0.202894\n2017-11-20  600779.SH  46.97  296.09888  293.32512  0.063830  0.257924\n2017-11-22  600779.SH  48.00  302.59200  289.98400  0.080435  0.203872\n2017-11-29  600779.SH  43.10  271.70240  265.58752  0.183005  0.207145\n2017-11-30  600779.SH  42.13  265.58752  262.81376  0.195491  0.228797\n2017-12-01  600779.SH  41.69  262.81376  263.69632  0.191489  0.200249\n2017-12-12  600779.SH  47.60  300.07040  295.53152  0.063140  0.273760\n2017-12-13  600779.SH  46.88  295.53152  300.38560  0.045960  0.208634\n2017-12-14  600779.SH  47.65  300.38560  296.41408  0.059974  0.267339\n2018-01-02  600779.SH  46.01  290.04704  293.00992  0.180293  0.257169\n2018-01-03  600779.SH  46.48  293.00992  291.68608  0.185649  0.276773\n\n                  code  open0      open  f1mv_open      rise      pred\n2017-01-19  603799.SH  38.88  39.11328     37.222  0.528919  0.201094\n"
     ]
    }
   ],
   "source": [
    "cond = Y_test_pred_reg[ycol]>0.2\n",
    "print(Y_test[ycol][cond].mean())\n",
    "print(sum(cond),Y_test[ycol][cond].mean(), Y_test[ycol][cond].median(),Y_test[ycol][cond].std(),Y_test[ycol][cond].max(),Y_test[ycol][cond].min())\n",
    "\n",
    "df_combined = df_all.loc[test_date_idx][[\"code\",\"open0\",\"open\",\"f1mv_open\"]]\n",
    "df_combined[\"rise\"] = Y_test[\"y_l_rise\"].copy()\n",
    "df_combined[\"pred\"] = Y_test_pred_reg[ycol].copy()\n",
    "for code, df in df_combined[cond].groupby(\"code\"):\n",
    "    print(\"\\n\",df)"
   ]
  },
  {
   "cell_type": "code",
   "execution_count": 22,
   "metadata": {},
   "outputs": [
    {
     "name": "stdout",
     "output_type": "stream",
     "text": [
      "68 545\nIndex(['adj_factor', 'amt', 'change_rate_amt', 'change_rate_amt',\n       'change_rate_amt', 'change_rate_amt', 'change_rate_amt',\n       'change_rate_amt', 'change_rate_amt', 'change_rate_amt',\n       ...\n       'sz_change_rate_vol', 'sz_change_rate_vol', 'sz_change_rate_vol',\n       'sz_close', 'sz_high', 'sz_low', 'sz_open', 'sz_vol', 'vol', 'vol0'],\n      dtype='object', length=545)\n{'hs300_change_rate_high', 'sz50_change_rate_high', 'sz50_open', 'cyb_change_rate_low', 'cyb_vol', 'sh_close', 'sz_change_rate_close', 'change_rate_close', 'low', 'hs300_close', 'close0', 'hs300_change_rate_close', 'cyb_change_rate_close', 'sz_open', 'vol0', 'sz_high', 'hs300_vol', 'sz50_change_rate_vol', 'close', 'hs300_change_rate_open', 'change_rate_high', 'change_rate_amt', 'hs300_open', 'sh_change_rate_vol', 'sz50_change_rate_low', 'hs300_high', 'sh_change_rate_open', 'hs300_low', 'open0', 'sh_change_rate_close', 'sh_change_rate_low', 'sz_change_rate_high', 'adj_factor', 'amt', 'high', 'sh_open', 'sz_change_rate_open', 'hs300_change_rate_low', 'cyb_change_rate_open', 'cyb_open', 'open', 'cyb_high', 'sh_vol', 'sz50_low', 'sz_vol', 'low0', 'sh_low', 'sz_change_rate_vol', 'sz_close', 'change_rate_open', 'vol', 'high0', 'sz_low', 'sz_change_rate_low', 'cyb_change_rate_vol', 'sh_change_rate_high', 'sz50_change_rate_close', 'sz50_vol', 'change_rate_low', 'hs300_change_rate_vol', 'sz50_close', 'cyb_low', 'change_rate_vol', 'cyb_close', 'sz50_high', 'sz50_change_rate_open', 'cyb_change_rate_high', 'sh_high'}\n"
     ]
    }
   ],
   "source": [
    "print(len(set(X_train.columns)),len(X_train.columns))\n",
    "print(X_train.columns)\n",
    "# print(X_train.iloc[:50,[2,3]])\n",
    "print(set(X_train.columns))"
   ]
  },
  {
   "cell_type": "code",
   "execution_count": null,
   "metadata": {},
   "outputs": [],
   "source": []
  }
 ],
 "metadata": {
  "kernelspec": {
   "display_name": "Python 2",
   "language": "python",
   "name": "python2"
  },
  "language_info": {
   "codemirror_mode": {
    "name": "ipython",
    "version": 2
   },
   "file_extension": ".py",
   "mimetype": "text/x-python",
   "name": "python",
   "nbconvert_exporter": "python",
   "pygments_lexer": "ipython2",
   "version": "2.7.6"
  }
 },
 "nbformat": 4,
 "nbformat_minor": 0
}
