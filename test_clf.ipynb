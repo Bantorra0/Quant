{
 "cells": [
  {
   "cell_type": "code",
   "execution_count": 1,
   "metadata": {
    "collapsed": true
   },
   "outputs": [],
   "source": [
    "import numpy as np\n",
    "import pandas as pd\n",
    "import matplotlib.pyplot as plt\n",
    "\n",
    "import constants as const\n",
    "import db_operations as dbop\n",
    "import data_prepare as dp\n",
    "import ml_model\n",
    "import customized_obj as cus_obj\n",
    "\n",
    "import xgboost.sklearn as xgb\n",
    "import lightgbm.sklearn as lgbm\n",
    "import sklearn.preprocessing as preproc\n",
    "import sklearn.metrics as metrics\n",
    "\n",
    "import datetime\n",
    "import time"
   ]
  },
  {
   "cell_type": "code",
   "execution_count": 2,
   "metadata": {},
   "outputs": [
    {
     "name": "stdout",
     "output_type": "stream",
     "text": [
      "2018-01-01 2011-02-27 2009-02-07\nstart: 2009-02-07\n"
     ]
    },
    {
     "name": "stdout",
     "output_type": "stream",
     "text": [
      "min_date: 2009-02-09\n"
     ]
    },
    {
     "name": "stdout",
     "output_type": "stream",
     "text": [
      "           code  symbol       name  area industry             fullname  \\\n0     000001.SZ  000001       平安银行    深圳       银行           平安银行股份有限公司   \n1     000002.SZ  000002        万科A    深圳     全国地产           万科企业股份有限公司   \n2     000004.SZ  000004       国农科技    深圳     生物制药       深圳中国农大科技股份有限公司   \n3     000005.SZ  000005       世纪星源    深圳     房产服务         深圳世纪星源股份有限公司   \n4     000006.SZ  000006       深振业A    深圳     区域地产      深圳市振业(集团)股份有限公司   \n5     000007.SZ  000007        全新好    深圳     酒店餐饮         深圳市全新好股份有限公司   \n6     000008.SZ  000008       神州高铁    北京     运输设备         神州高铁技术股份有限公司   \n7     000009.SZ  000009       中国宝安    深圳      综合类         中国宝安集团股份有限公司   \n8     000010.SZ  000010       美丽生态    深圳     建筑施工         深圳美丽生态股份有限公司   \n9     000011.SZ  000011       深物业A    深圳     区域地产    深圳市物业发展(集团)股份有限公司   \n10    000012.SZ  000012        南玻A    深圳       玻璃         中国南玻集团股份有限公司   \n11    000014.SZ  000014       沙河股份    深圳     全国地产           沙河实业股份有限公司   \n12    000016.SZ  000016       深康佳A    深圳     家用电器           康佳集团股份有限公司   \n13    000017.SZ  000017       深中华A    深圳     文教休闲    深圳中华自行车(集团)股份有限公司   \n14    000018.SZ  000018       神州长城    深圳     装修装饰           神州长城股份有限公司   \n15    000019.SZ  000019       深深宝A    深圳      软饮料        深圳市深宝实业股份有限公司   \n16    000020.SZ  000020       深华发A    深圳      元器件         深圳中恒华发股份有限公司   \n17    000021.SZ  000021        深科技    深圳     电脑设备       深圳长城开发科技股份有限公司   \n18    000023.SZ  000023       深天地A    深圳     其他建材      深圳市天地(集团)股份有限公司   \n19    000025.SZ  000025        特力A    深圳     汽车服务      深圳市特力(集团)股份有限公司   \n20    000026.SZ  000026       飞亚达A    深圳     其他商业        飞亚达(集团)股份有限公司   \n21    000027.SZ  000027       深圳能源    深圳     火力发电         深圳能源集团股份有限公司   \n22    000028.SZ  000028       国药一致    深圳     医药商业       国药集团一致药业股份有限公司   \n23    000029.SZ  000029       深深房A    深圳     区域地产  深圳经济特区房地产(集团)股份有限公司   \n24    000030.SZ  000030       富奥股份    吉林     汽车配件        富奥汽车零部件股份有限公司   \n25    000031.SZ  000031       中粮地产    深圳     全国地产       中粮地产(集团)股份有限公司   \n26    000032.SZ  000032       深桑达A    深圳      元器件        深圳市桑达实业股份有限公司   \n27    000034.SZ  000034       神州数码    深圳      综合类         神州数码集团股份有限公司   \n28    000035.SZ  000035       中国天楹    江苏     环境保护           中国天楹股份有限公司   \n29    000036.SZ  000036       华联控股    深圳     全国地产           华联控股股份有限公司   \n...         ...     ...        ...   ...      ...                  ...   \n3635  600625.SH  600625    PT水仙(退)  None     None         上海水仙电器股份有限公司   \n3636  600627.SH  600627    上电股份(退)  None     None          上海输配电股份有限公司   \n3637  600631.SH  600631    百联股份(退)  None     None      上海百联集团股份有限公司(原)   \n3638  600632.SH  600632    华联商厦(退)  None     None         上海华联商厦股份有限公司   \n3639  600646.SH  600646    ST国嘉(退)  None     None         上海国嘉实业股份有限公司   \n3640  600656.SH  600656     退博元(退)  None     None        珠海市博元投资股份有限公司   \n3641  600659.SH  600659   *ST花雕(退)  None     None         辽宁闽越花雕股份有限公司   \n3642  600669.SH  600669   *ST鞍成(退)  None     None       鞍山合成(集团)股份有限公司   \n3643  600670.SH  600670   *ST斯达(退)  None     None    长春高斯达生物科技集团股份有限公司   \n3644  600672.SH  600672   *ST华圣(退)  None     None       广东华圣科技投资股份有限公司   \n3645  600700.SH  600700   *ST数码(退)  None     None   陕西煤航数码测绘(集团)股份有限公司   \n3646  600709.SH  600709    ST生态(退)  None     None       湖北洪湖生态农业股份有限公司   \n3647  600752.SH  600752   *ST哈慈(退)  None     None             哈慈股份有限公司   \n3648  600762.SH  600762  S*ST金荔(退)  None     None      衡阳市金荔科技农业股份有限公司   \n3649  600772.SH  600772  S*ST龙昌(退)  None     None           中油龙昌股份有限公司   \n3650  600786.SH  600786    东方锅炉(退)  None     None     东方电气集团东方锅炉股份有限公司   \n3651  600788.SH  600788   *ST达曼(退)  None     None        西安达尔曼实业股份有限公司   \n3652  600799.SH  600799   *ST龙科(退)  None     None      黑龙江省科利华网络股份有限公司   \n3653  600806.SH  600806     退昆机(退)  None     None       沈机集团昆明机床股份有限公司   \n3654  600813.SH  600813   ST鞍一工(退)  None     None     辽宁华夏大地生态技术股份有限公司   \n3655  600832.SH  600832    东方明珠(退)  None     None     上海东方明珠(集团)股份有限公司   \n3656  600840.SH  600840    新湖创业(退)  None     None       浙江新湖创业投资股份有限公司   \n3657  600842.SH  600842    中西药业(退)  None     None         上海中西药业股份有限公司   \n3658  600852.SH  600852   *ST中川(退)  None     None       中国四川国际合作股份有限公司   \n3659  600878.SH  600878   *ST北科(退)  None     None     大连北大科技(集团)股份有限公司   \n3660  600899.SH  600899   *ST信联(退)  None     None           浙江信联股份有限公司   \n3661  600991.SH  600991    广汽长丰(退)  None     None         广汽长丰汽车股份有限公司   \n3662  601268.SH  601268   *ST二重(退)  None     None       国机重型装备集团股份有限公司   \n3663  601299.SH  601299    中国北车(退)  None     None           中国北车股份有限公司   \n3664  T00018.SH  T00018    上港集箱(退)  None     None         上海港集装箱股份有限公司   \n\n                                                 enname market exchange  \\\n0                                Ping An Bank Co., Ltd.     主板     SZSE   \n1                                  China Vanke Co.,Ltd.     主板     SZSE   \n2                      Shenzhen Cau Technology Co.,Ltd.     主板     SZSE   \n3                         Shenzhen Fountain Corporation     主板     SZSE   \n4                       Shenzhen Zhenye(Group) Co.,Ltd.     主板     SZSE   \n5                           Shenzhen Quanxinhao Co.,Ltd     主板     SZSE   \n6         China High Speed Railway Technology Co., Ltd.     主板     SZSE   \n7                            China Baoan Group Co.,Ltd.     主板     SZSE   \n8                           Shenzhen Ecobeauty Co.,Ltd.     主板     SZSE   \n9     Shenzhen Properties & Resources Development (G...     主板     SZSE   \n10                                 CSG Holding Co.,Ltd.     主板     SZSE   \n11                            Shahe Industrial Co.,Ltd.     主板     SZSE   \n12                                  Konka Group Co.,Ltd     主板     SZSE   \n13    Shenzhen China Bicycle Company (Holdings) Limited     主板     SZSE   \n14                            Sino Great Wall Co., Ltd.     主板     SZSE   \n15                  Shenzhen Shenbao Industrial Co.,Ltd     主板     SZSE   \n16                    Shenzhen Zhongheng Huafa Co.,Ltd.     主板     SZSE   \n17                  Shenzhen Kaifa Technology Co., Ltd.     主板     SZSE   \n18                    Shenzhen Universe (Group) Co.,Ltd     主板     SZSE   \n19                      Shenzhen Tellus Holding Co.,Ltd     主板     SZSE   \n20                                  Fiyta Holdings Ltd.     主板     SZSE   \n21                      Shenzhen Energy Group Co., Ltd.     主板     SZSE   \n22     China National Accord Medicines Corporation Ltd.     主板     SZSE   \n23    Shenzhen Special Economic Zone Real Estate&Pro...     主板     SZSE   \n24               FAWER Automotive Parts Limited Company     主板     SZSE   \n25                      COFCO Property (Group) Co.,Ltd.     主板     SZSE   \n26                       Shenzhen Sed Industry Co.,Ltd.     主板     SZSE   \n27                         Digital China Group Co.,Ltd.     主板     SZSE   \n28                                  China Tianying Inc.     主板     SZSE   \n29                            China Union Holdings Ltd.     主板     SZSE   \n...                                                 ...    ...      ...   \n3635    Shanghai Narcissus Electric Appliances Co.,Ltd.     主板      SSE   \n3636  Shanghai Power Transmission ＆ Distribution Co....     主板      SSE   \n3637                    Shanghai Bailian Group Co.,Ltd.     主板      SSE   \n3638                         Shanghai Hua Lian Co.,Ltd.     主板      SSE   \n3639         Shanghai Citic-Jiading Industrial Co.,Ltd.     主板      SSE   \n3640                 Zhuhai Boyuan Investment Co., Ltd.     主板      SSE   \n3641               Liaoning Minyue Huadiao Wine Co.,Ltd     主板      SSE   \n3642                Anshan Co—Operation (Group) Co.,Ltd     主板      SSE   \n3643        Changchun Goldenstar Biotech Group Co.,Ltd.     主板      SSE   \n3644  Guangdong Huasheng Scienc-Technology Investmen...     主板      SSE   \n3645  Shaanxi Meihang Digital Surveying (Group) Co.,Ltd     主板      SSE   \n3646       Hubei Honghu Ecological Agriculture Co.,Ltd.     主板      SSE   \n3647                               Haci Company Limited     主板      SSE   \n3648  Hunan Hengyang Jinli Technology (Agricultural)...     主板      SSE   \n3649                                 Long Champ Co.,Ltd     主板      SSE   \n3650                    Dongfang Boiler Group Co., Ltd.     主板      SSE   \n3651                             Xi'An Diamond Co.,Ltd.     主板      SSE   \n3652                 Heilongjiang Clever Net Corp.,Ltd.     主板      SSE   \n3653  Shenji Group Kunming Machine Tool Company Limited     主板      SSE   \n3654  Liaoning Sino-Ground Ecological Technology Co....     主板      SSE   \n3655           Shanghai Oriental Pearl (Group) Co.,Ltd.     主板      SSE   \n3656         Zhejiang Xinhu Venture Investment Co.,Ltd.     主板      SSE   \n3657          Shanghai Zhong Xi Pharmaceutical Co.,Ltd.     主板      SSE   \n3658  China Sichuan International Cooperation Co., Ltd.     主板      SSE   \n3659           Dalian Beeda Technology (Group) Co.,Ltd.     主板      SSE   \n3660                          Zhejiang Xinlian Co.,Ltd.     主板      SSE   \n3661                       GAC Changfeng Motor Co.,Ltd.     主板      SSE   \n3662             Sinomach Heavy Equipment Group Co.,Ltd     主板      SSE   \n3663                      China CNR Corporation Limited     主板      SSE   \n3664                  Shanghai Port Container Co., Ltd.             SSE   \n\n     curr_type list_status list_date delist_date is_hs  \n0          CNY           L  19910403        None     S  \n1          CNY           L  19910129        None     S  \n2          CNY           L  19910114        None     N  \n3          CNY           L  19901210        None     N  \n4          CNY           L  19920427        None     S  \n5          CNY           L  19920413        None     N  \n6          CNY           L  19920507        None     S  \n7          CNY           L  19910625        None     S  \n8          CNY           L  19951027        None     N  \n9          CNY           L  19920330        None     S  \n10         CNY           L  19920228        None     S  \n11         CNY           L  19920602        None     N  \n12         CNY           L  19920327        None     S  \n13         CNY           L  19920331        None     N  \n14         CNY           L  19920616        None     N  \n15         CNY           L  19921012        None     N  \n16         CNY           L  19920428        None     N  \n17         CNY           L  19940202        None     S  \n18         CNY           L  19930429        None     N  \n19         CNY           L  19930621        None     S  \n20         CNY           L  19930603        None     N  \n21         CNY           L  19930903        None     S  \n22         CNY           L  19930809        None     S  \n23         CNY           L  19930915        None     S  \n24         CNY           L  19930929        None     S  \n25         CNY           L  19931008        None     S  \n26         CNY           L  19931028        None     N  \n27         CNY           L  19940509        None     S  \n28         CNY           L  19940408        None     S  \n29         CNY           L  19940617        None     S  \n...        ...         ...       ...         ...   ...  \n3635       CNY           D  19930106    20010423     N  \n3636       CNY           D  19930118    20081126     N  \n3637       CNY           D  19930219    20110823     N  \n3638       CNY           D  19930219    20041118     N  \n3639       CNY           D  19930504    20030922     N  \n3640       CNY           D  19901219    20160513     N  \n3641       CNY           D  19930528    20060323     N  \n3642       CNY           D  19930806    20040915     N  \n3643       CNY           D  19930809    20040924     N  \n3644       CNY           D  19930917    20050805     N  \n3645       CNY           D  19960430    20050920     N  \n3646       CNY           D  19960618    20030523     N  \n3647       CNY           D  19960925    20050922     N  \n3648       CNY           D  19961025    20071120     N  \n3649       CNY           D  19961104    20061130     N  \n3650       CNY           D  19961227    20080318     N  \n3651       CNY           D  19961230    20050325     N  \n3652       CNY           D  19970416    20060104     N  \n3653       CNY           D  19940103    20180713     N  \n3654       CNY           D  19940114    20020916     N  \n3655       CNY           D  19940224    20150520     N  \n3656       CNY           D  19940311    20090827     N  \n3657       CNY           D  19940311    20100212     N  \n3658       CNY           D  19940404    20050916     N  \n3659       CNY           D  19951013    20040915     N  \n3660       CNY           D  19960426    20050921     N  \n3661       CNY           D  20040614    20120320     N  \n3662       CNY           D  20100202    20150521     N  \n3663       CNY           D  20091229    20150520     N  \n3664       CNY           D  20000719    20061020     N  \n\n[3665 rows x 14 columns]\n"
     ]
    },
    {
     "name": "stdout",
     "output_type": "stream",
     "text": [
      "count stck 58\n(121078, 537)\n(121078, 537)\n"
     ]
    },
    {
     "name": "stdout",
     "output_type": "stream",
     "text": [
      "(2411, 395) 2411\n"
     ]
    },
    {
     "name": "stdout",
     "output_type": "stream",
     "text": [
      "date\ndate\n"
     ]
    },
    {
     "name": "stdout",
     "output_type": "stream",
     "text": [
      "['date', 'code', 'open', 'high', 'low', 'close', 'vol', 'amt', 'adj_factor', 'open0', 'high0', 'low0', 'close0', 'vol0', '(open/p1mv_open-1)', '(high/p1mv_high-1)', '(low/p1mv_low-1)', '(close/p1mv_close-1)', '(vol/p1mv_vol-1)', '(amt/p1mv_amt-1)', '(open/p2mv_open-1)', '(high/p2mv_high-1)', '(low/p2mv_low-1)', '(close/p2mv_close-1)', '(vol/p2mv_vol-1)', '(amt/p2mv_amt-1)', '(open/p3mv_open-1)', '(high/p3mv_high-1)', '(low/p3mv_low-1)', '(close/p3mv_close-1)', '(vol/p3mv_vol-1)', '(amt/p3mv_amt-1)', '(open/p4mv_open-1)', '(high/p4mv_high-1)', '(low/p4mv_low-1)', '(close/p4mv_close-1)', '(vol/p4mv_vol-1)', '(amt/p4mv_amt-1)', '(open/p5mv_open-1)', '(high/p5mv_high-1)', '(low/p5mv_low-1)', '(close/p5mv_close-1)', '(vol/p5mv_vol-1)', '(amt/p5mv_amt-1)', '(high-low)/avg', '(close-open)/avg', '(high-open)/avg', '(low-open)/avg', '(high-close)/avg', '(low-close)/avg', 'upper_shadow/avg', 'lower_shadow/avg', 'p1mv_(high-low)/avg', 'p1mv_(close-open)/avg', 'p1mv_(high-open)/avg', 'p1mv_(low-open)/avg', 'p1mv_(high-close)/avg', 'p1mv_(low-close)/avg', 'p1mv_upper_shadow/avg', 'p1mv_lower_shadow/avg', 'p2mv_(high-low)/avg', 'p2mv_(close-open)/avg', 'p2mv_(high-open)/avg', 'p2mv_(low-open)/avg', 'p2mv_(high-close)/avg', 'p2mv_(low-close)/avg', 'p2mv_upper_shadow/avg', 'p2mv_lower_shadow/avg', 'p3mv_(high-low)/avg', 'p3mv_(close-open)/avg', 'p3mv_(high-open)/avg', 'p3mv_(low-open)/avg', 'p3mv_(high-close)/avg', 'p3mv_(low-close)/avg', 'p3mv_upper_shadow/avg', 'p3mv_lower_shadow/avg', 'p4mv_(high-low)/avg', 'p4mv_(close-open)/avg', 'p4mv_(high-open)/avg', 'p4mv_(low-open)/avg', 'p4mv_(high-close)/avg', 'p4mv_(low-close)/avg', 'p4mv_upper_shadow/avg', 'p4mv_lower_shadow/avg', 'p5mv_(high-low)/avg', 'p5mv_(close-open)/avg', 'p5mv_(high-open)/avg', 'p5mv_(low-open)/avg', 'p5mv_(high-close)/avg', 'p5mv_(low-close)/avg', 'p5mv_upper_shadow/avg', 'p5mv_lower_shadow/avg', '(1MA_vol/5MA_vol-1)', '(1MA_amt/5MA_amt-1)', '(1MA/5MA-1)', 'p1mv_(1MA_vol/5MA_vol-1)', 'p1mv_(1MA_amt/5MA_amt-1)', 'p1mv_(1MA/5MA-1)', 'p2mv_(1MA_vol/5MA_vol-1)', 'p2mv_(1MA_amt/5MA_amt-1)', 'p2mv_(1MA/5MA-1)', 'p3mv_(1MA_vol/5MA_vol-1)', 'p3mv_(1MA_amt/5MA_amt-1)', 'p3mv_(1MA/5MA-1)', 'p4mv_(1MA_vol/5MA_vol-1)', 'p4mv_(1MA_amt/5MA_amt-1)', 'p4mv_(1MA/5MA-1)', 'p5mv_(1MA_vol/5MA_vol-1)', 'p5mv_(1MA_amt/5MA_amt-1)', 'p5mv_(1MA/5MA-1)', '(1MA_vol/10MA_vol-1)', '(1MA_amt/10MA_amt-1)', '(1MA/10MA-1)', 'p1mv_(1MA_vol/10MA_vol-1)', 'p1mv_(1MA_amt/10MA_amt-1)', 'p1mv_(1MA/10MA-1)', 'p2mv_(1MA_vol/10MA_vol-1)', 'p2mv_(1MA_amt/10MA_amt-1)', 'p2mv_(1MA/10MA-1)', 'p3mv_(1MA_vol/10MA_vol-1)', 'p3mv_(1MA_amt/10MA_amt-1)', 'p3mv_(1MA/10MA-1)', 'p4mv_(1MA_vol/10MA_vol-1)', 'p4mv_(1MA_amt/10MA_amt-1)', 'p4mv_(1MA/10MA-1)', 'p5mv_(1MA_vol/10MA_vol-1)', 'p5mv_(1MA_amt/10MA_amt-1)', 'p5mv_(1MA/10MA-1)', '(1MA_vol/20MA_vol-1)', '(1MA_amt/20MA_amt-1)', '(1MA/20MA-1)', 'p1mv_(1MA_vol/20MA_vol-1)', 'p1mv_(1MA_amt/20MA_amt-1)', 'p1mv_(1MA/20MA-1)', 'p2mv_(1MA_vol/20MA_vol-1)', 'p2mv_(1MA_amt/20MA_amt-1)', 'p2mv_(1MA/20MA-1)', 'p3mv_(1MA_vol/20MA_vol-1)', 'p3mv_(1MA_amt/20MA_amt-1)', 'p3mv_(1MA/20MA-1)', 'p4mv_(1MA_vol/20MA_vol-1)', 'p4mv_(1MA_amt/20MA_amt-1)', 'p4mv_(1MA/20MA-1)', 'p5mv_(1MA_vol/20MA_vol-1)', 'p5mv_(1MA_amt/20MA_amt-1)', 'p5mv_(1MA/20MA-1)', '(1MA_vol/60MA_vol-1)', '(1MA_amt/60MA_amt-1)', '(1MA/60MA-1)', 'p1mv_(1MA_vol/60MA_vol-1)', 'p1mv_(1MA_amt/60MA_amt-1)', 'p1mv_(1MA/60MA-1)', 'p2mv_(1MA_vol/60MA_vol-1)', 'p2mv_(1MA_amt/60MA_amt-1)', 'p2mv_(1MA/60MA-1)', 'p3mv_(1MA_vol/60MA_vol-1)', 'p3mv_(1MA_amt/60MA_amt-1)', 'p3mv_(1MA/60MA-1)', 'p4mv_(1MA_vol/60MA_vol-1)', 'p4mv_(1MA_amt/60MA_amt-1)', 'p4mv_(1MA/60MA-1)', 'p5mv_(1MA_vol/60MA_vol-1)', 'p5mv_(1MA_amt/60MA_amt-1)', 'p5mv_(1MA/60MA-1)', '(1MA_vol/120MA_vol-1)', '(1MA_amt/120MA_amt-1)', '(1MA/120MA-1)', 'p1mv_(1MA_vol/120MA_vol-1)', 'p1mv_(1MA_amt/120MA_amt-1)', 'p1mv_(1MA/120MA-1)', 'p2mv_(1MA_vol/120MA_vol-1)', 'p2mv_(1MA_amt/120MA_amt-1)', 'p2mv_(1MA/120MA-1)', 'p3mv_(1MA_vol/120MA_vol-1)', 'p3mv_(1MA_amt/120MA_amt-1)', 'p3mv_(1MA/120MA-1)', 'p4mv_(1MA_vol/120MA_vol-1)', 'p4mv_(1MA_amt/120MA_amt-1)', 'p4mv_(1MA/120MA-1)', 'p5mv_(1MA_vol/120MA_vol-1)', 'p5mv_(1MA_amt/120MA_amt-1)', 'p5mv_(1MA/120MA-1)', '(1MA_vol/250MA_vol-1)', '(1MA_amt/250MA_amt-1)', '(1MA/250MA-1)', 'p1mv_(1MA_vol/250MA_vol-1)', 'p1mv_(1MA_amt/250MA_amt-1)', 'p1mv_(1MA/250MA-1)', 'p2mv_(1MA_vol/250MA_vol-1)', 'p2mv_(1MA_amt/250MA_amt-1)', 'p2mv_(1MA/250MA-1)', 'p3mv_(1MA_vol/250MA_vol-1)', 'p3mv_(1MA_amt/250MA_amt-1)', 'p3mv_(1MA/250MA-1)', 'p4mv_(1MA_vol/250MA_vol-1)', 'p4mv_(1MA_amt/250MA_amt-1)', 'p4mv_(1MA/250MA-1)', 'p5mv_(1MA_vol/250MA_vol-1)', 'p5mv_(1MA_amt/250MA_amt-1)', 'p5mv_(1MA/250MA-1)', '(open/p5max_open-1)', '(high/p5max_high-1)', '(low/p5max_low-1)', '(close/p5max_close-1)', '(vol/p5max_vol-1)', '(amt/p5max_amt-1)', '(open/p5min_open-1)', '(high/p5min_high-1)', '(low/p5min_low-1)', '(close/p5min_close-1)', '(vol/p5min_vol-1)', '(amt/p5min_amt-1)', '(open/p5mean_open-1)', '(high/p5mean_high-1)', '(low/p5mean_low-1)', '(close/p5mean_close-1)', '(vol/p5mean_vol-1)', '(amt/p5mean_amt-1)', '(open/p10max_open-1)', '(high/p10max_high-1)', '(low/p10max_low-1)', '(close/p10max_close-1)', '(vol/p10max_vol-1)', '(amt/p10max_amt-1)', '(open/p10min_open-1)', '(high/p10min_high-1)', '(low/p10min_low-1)', '(close/p10min_close-1)', '(vol/p10min_vol-1)', '(amt/p10min_amt-1)', '(open/p10mean_open-1)', '(high/p10mean_high-1)', '(low/p10mean_low-1)', '(close/p10mean_close-1)', '(vol/p10mean_vol-1)', '(amt/p10mean_amt-1)', '(open/p20max_open-1)', '(high/p20max_high-1)', '(low/p20max_low-1)', '(close/p20max_close-1)', '(vol/p20max_vol-1)', '(amt/p20max_amt-1)', '(open/p20min_open-1)', '(high/p20min_high-1)', '(low/p20min_low-1)', '(close/p20min_close-1)', '(vol/p20min_vol-1)', '(amt/p20min_amt-1)', '(open/p20mean_open-1)', '(high/p20mean_high-1)', '(low/p20mean_low-1)', '(close/p20mean_close-1)', '(vol/p20mean_vol-1)', '(amt/p20mean_amt-1)', '(open/p60max_open-1)', '(high/p60max_high-1)', '(low/p60max_low-1)', '(close/p60max_close-1)', '(vol/p60max_vol-1)', '(amt/p60max_amt-1)', '(open/p60min_open-1)', '(high/p60min_high-1)', '(low/p60min_low-1)', '(close/p60min_close-1)', '(vol/p60min_vol-1)', '(amt/p60min_amt-1)', '(open/p60mean_open-1)', '(high/p60mean_high-1)', '(low/p60mean_low-1)', '(close/p60mean_close-1)', '(vol/p60mean_vol-1)', '(amt/p60mean_amt-1)', '(open/p120max_open-1)', '(high/p120max_high-1)', '(low/p120max_low-1)', '(close/p120max_close-1)', '(vol/p120max_vol-1)', '(amt/p120max_amt-1)', '(open/p120min_open-1)', '(high/p120min_high-1)', '(low/p120min_low-1)', '(close/p120min_close-1)', '(vol/p120min_vol-1)', '(amt/p120min_amt-1)', '(open/p120mean_open-1)', '(high/p120mean_high-1)', '(low/p120mean_low-1)', '(close/p120mean_close-1)', '(vol/p120mean_vol-1)', '(amt/p120mean_amt-1)', '(open/p250max_open-1)', '(high/p250max_high-1)', '(low/p250max_low-1)', '(close/p250max_close-1)', '(vol/p250max_vol-1)', '(amt/p250max_amt-1)', '(open/p250min_open-1)', '(high/p250min_high-1)', '(low/p250min_low-1)', '(close/p250min_close-1)', '(vol/p250min_vol-1)', '(amt/p250min_amt-1)', '(open/p250mean_open-1)', '(high/p250mean_high-1)', '(low/p250mean_low-1)', '(close/p250mean_close-1)', '(vol/p250mean_vol-1)', '(amt/p250mean_amt-1)', '(open/5k_open-1)', '(high/5k_high-1)', '(low/5k_low-1)', '(close/5k_close-1)', '(vol/5k_vol-1)', '(amt/5k_amt-1)', '(open/p5mv_5k_open-1)', '(high/p5mv_5k_high-1)', '(low/p5mv_5k_low-1)', '(close/p5mv_5k_close-1)', '(vol/p5mv_5k_vol-1)', '(amt/p5mv_5k_amt-1)', '(open/p10mv_5k_open-1)', '(high/p10mv_5k_high-1)', '(low/p10mv_5k_low-1)', '(close/p10mv_5k_close-1)', '(vol/p10mv_5k_vol-1)', '(amt/p10mv_5k_amt-1)', '(open/p15mv_5k_open-1)', '(high/p15mv_5k_high-1)', '(low/p15mv_5k_low-1)', '(close/p15mv_5k_close-1)', '(vol/p15mv_5k_vol-1)', '(amt/p15mv_5k_amt-1)', '(open/p20mv_5k_open-1)', '(high/p20mv_5k_high-1)', '(low/p20mv_5k_low-1)', '(close/p20mv_5k_close-1)', '(vol/p20mv_5k_vol-1)', '(amt/p20mv_5k_amt-1)', '(open/p25mv_5k_open-1)', '(high/p25mv_5k_high-1)', '(low/p25mv_5k_low-1)', '(close/p25mv_5k_close-1)', '(vol/p25mv_5k_vol-1)', '(amt/p25mv_5k_amt-1)', '(open/10k_open-1)', '(high/10k_high-1)', '(low/10k_low-1)', '(close/10k_close-1)', '(vol/10k_vol-1)', '(amt/10k_amt-1)', '(open/p10mv_10k_open-1)', '(high/p10mv_10k_high-1)', '(low/p10mv_10k_low-1)', '(close/p10mv_10k_close-1)', '(vol/p10mv_10k_vol-1)', '(amt/p10mv_10k_amt-1)', '(open/p20mv_10k_open-1)', '(high/p20mv_10k_high-1)', '(low/p20mv_10k_low-1)', '(close/p20mv_10k_close-1)', '(vol/p20mv_10k_vol-1)', '(amt/p20mv_10k_amt-1)', '(open/p30mv_10k_open-1)', '(high/p30mv_10k_high-1)', '(low/p30mv_10k_low-1)', '(close/p30mv_10k_close-1)', '(vol/p30mv_10k_vol-1)', '(amt/p30mv_10k_amt-1)', '(open/p40mv_10k_open-1)', '(high/p40mv_10k_high-1)', '(low/p40mv_10k_low-1)', '(close/p40mv_10k_close-1)', '(vol/p40mv_10k_vol-1)', '(amt/p40mv_10k_amt-1)', '(open/p50mv_10k_open-1)', '(high/p50mv_10k_high-1)', '(low/p50mv_10k_low-1)', '(close/p50mv_10k_close-1)', '(vol/p50mv_10k_vol-1)', '(amt/p50mv_10k_amt-1)', '(open/20k_open-1)', '(high/20k_high-1)', '(low/20k_low-1)', '(close/20k_close-1)', '(vol/20k_vol-1)', '(amt/20k_amt-1)', '(open/p20mv_20k_open-1)', '(high/p20mv_20k_high-1)', '(low/p20mv_20k_low-1)', '(close/p20mv_20k_close-1)', '(vol/p20mv_20k_vol-1)', '(amt/p20mv_20k_amt-1)', '(open/p40mv_20k_open-1)', '(high/p40mv_20k_high-1)', '(low/p40mv_20k_low-1)', '(close/p40mv_20k_close-1)', '(vol/p40mv_20k_vol-1)', '(amt/p40mv_20k_amt-1)', '(open/p60mv_20k_open-1)', '(high/p60mv_20k_high-1)', '(low/p60mv_20k_low-1)', '(close/p60mv_20k_close-1)', '(vol/p60mv_20k_vol-1)', '(amt/p60mv_20k_amt-1)', '(open/p80mv_20k_open-1)', '(high/p80mv_20k_high-1)', '(low/p80mv_20k_low-1)', '(close/p80mv_20k_close-1)', '(vol/p80mv_20k_vol-1)', '(amt/p80mv_20k_amt-1)', '(open/p100mv_20k_open-1)', '(high/p100mv_20k_high-1)', '(low/p100mv_20k_low-1)', '(close/p100mv_20k_close-1)', '(vol/p100mv_20k_vol-1)', '(amt/p100mv_20k_amt-1)', '(open/60k_open-1)', '(high/60k_high-1)', '(low/60k_low-1)', '(close/60k_close-1)', '(vol/60k_vol-1)', '(amt/60k_amt-1)', '(open/p60mv_60k_open-1)', '(high/p60mv_60k_high-1)', '(low/p60mv_60k_low-1)', '(close/p60mv_60k_close-1)', '(vol/p60mv_60k_vol-1)', '(amt/p60mv_60k_amt-1)', '(open/p120mv_60k_open-1)', '(high/p120mv_60k_high-1)', '(low/p120mv_60k_low-1)', '(close/p120mv_60k_close-1)', '(vol/p120mv_60k_vol-1)', '(amt/p120mv_60k_amt-1)', '(open/p180mv_60k_open-1)', '(high/p180mv_60k_high-1)', '(low/p180mv_60k_low-1)', '(close/p180mv_60k_close-1)', '(vol/p180mv_60k_vol-1)', '(amt/p180mv_60k_amt-1)', '(open/p240mv_60k_open-1)', '(high/p240mv_60k_high-1)', '(low/p240mv_60k_low-1)', '(close/p240mv_60k_close-1)', '(vol/p240mv_60k_vol-1)', '(amt/p240mv_60k_amt-1)', '(open/p300mv_60k_open-1)', '(high/p300mv_60k_high-1)', '(low/p300mv_60k_low-1)', '(close/p300mv_60k_close-1)', '(vol/p300mv_60k_vol-1)', '(amt/p300mv_60k_amt-1)', '(open/120k_open-1)', '(high/120k_high-1)', '(low/120k_low-1)', '(close/120k_close-1)', '(vol/120k_vol-1)', '(amt/120k_amt-1)', '(open/p120mv_120k_open-1)', '(high/p120mv_120k_high-1)', '(low/p120mv_120k_low-1)', '(close/p120mv_120k_close-1)', '(vol/p120mv_120k_vol-1)', '(amt/p120mv_120k_amt-1)', '(open/p240mv_120k_open-1)', '(high/p240mv_120k_high-1)', '(low/p240mv_120k_low-1)', '(close/p240mv_120k_close-1)', '(vol/p240mv_120k_vol-1)', '(amt/p240mv_120k_amt-1)', '(open/p360mv_120k_open-1)', '(high/p360mv_120k_high-1)', '(low/p360mv_120k_low-1)', '(close/p360mv_120k_close-1)', '(vol/p360mv_120k_vol-1)', '(amt/p360mv_120k_amt-1)', '(open/p480mv_120k_open-1)', '(high/p480mv_120k_high-1)', '(low/p480mv_120k_low-1)', '(close/p480mv_120k_close-1)', '(vol/p480mv_120k_vol-1)', '(amt/p480mv_120k_amt-1)', '(open/p600mv_120k_open-1)', '(high/p600mv_120k_high-1)', '(low/p600mv_120k_low-1)', '(close/p600mv_120k_close-1)', '(vol/p600mv_120k_vol-1)', '(amt/p600mv_120k_amt-1)', '(open/250k_open-1)', '(high/250k_high-1)', '(low/250k_low-1)', '(close/250k_close-1)', '(vol/250k_vol-1)', '(amt/250k_amt-1)', '(open/p250mv_250k_open-1)', '(high/p250mv_250k_high-1)', '(low/p250mv_250k_low-1)', '(close/p250mv_250k_close-1)', '(vol/p250mv_250k_vol-1)', '(amt/p250mv_250k_amt-1)', '(open/p500mv_250k_open-1)', '(high/p500mv_250k_high-1)', '(low/p500mv_250k_low-1)', '(close/p500mv_250k_close-1)', '(vol/p500mv_250k_vol-1)', '(amt/p500mv_250k_amt-1)', '(open/p750mv_250k_open-1)', '(high/p750mv_250k_high-1)', '(low/p750mv_250k_low-1)', '(close/p750mv_250k_close-1)', '(vol/p750mv_250k_vol-1)', '(amt/p750mv_250k_amt-1)', '(open/p1000mv_250k_open-1)', '(high/p1000mv_250k_high-1)', '(low/p1000mv_250k_low-1)', '(close/p1000mv_250k_close-1)', '(vol/p1000mv_250k_vol-1)', '(amt/p1000mv_250k_amt-1)', '(open/p1250mv_250k_open-1)', '(high/p1250mv_250k_high-1)', '(low/p1250mv_250k_low-1)', '(close/p1250mv_250k_close-1)', '(vol/p1250mv_250k_vol-1)', '(amt/p1250mv_250k_amt-1)', 'qfq_open', 'qfq_high', 'qfq_low', 'qfq_close', 'f1mv_open', 'f1mv_high', 'f1mv_low', 'f1mv_close', 'f1mv_qfq_open', 'f1mv_qfq_high', 'f1mv_qfq_low', 'f1mv_qfq_close', 'f20max_f1mv_high', 'f20min_f1mv_low', 'cyb_open', 'cyb_high', 'cyb_low', 'cyb_close', 'cyb_vol', 'cyb_(open/p1mv_open-1)', 'cyb_(high/p1mv_high-1)', 'cyb_(low/p1mv_low-1)', 'cyb_(close/p1mv_close-1)', 'cyb_(vol/p1mv_vol-1)', 'cyb_(open/p2mv_open-1)', 'cyb_(high/p2mv_high-1)', 'cyb_(low/p2mv_low-1)', 'cyb_(close/p2mv_close-1)', 'cyb_(vol/p2mv_vol-1)', 'cyb_(open/p3mv_open-1)', 'cyb_(high/p3mv_high-1)', 'cyb_(low/p3mv_low-1)', 'cyb_(close/p3mv_close-1)', 'cyb_(vol/p3mv_vol-1)', 'cyb_(open/p4mv_open-1)', 'cyb_(high/p4mv_high-1)', 'cyb_(low/p4mv_low-1)', 'cyb_(close/p4mv_close-1)', 'cyb_(vol/p4mv_vol-1)', 'cyb_(open/p5mv_open-1)', 'cyb_(high/p5mv_high-1)', 'cyb_(low/p5mv_low-1)', 'cyb_(close/p5mv_close-1)', 'cyb_(vol/p5mv_vol-1)', 'cyb_(high/p5max_high-1)', 'cyb_(vol/p5max_vol-1)', 'cyb_(low/p5min_low-1)', 'cyb_(vol/p5min_vol-1)', 'cyb_(open/p5mean_open-1)', 'cyb_(close/p5mean_close-1)', 'cyb_(vol/p5mean_vol-1)', 'cyb_(high/p10max_high-1)', 'cyb_(vol/p10max_vol-1)', 'cyb_(low/p10min_low-1)', 'cyb_(vol/p10min_vol-1)', 'cyb_(open/p10mean_open-1)', 'cyb_(close/p10mean_close-1)', 'cyb_(vol/p10mean_vol-1)', 'cyb_(high/p20max_high-1)', 'cyb_(vol/p20max_vol-1)', 'cyb_(low/p20min_low-1)', 'cyb_(vol/p20min_vol-1)', 'cyb_(open/p20mean_open-1)', 'cyb_(close/p20mean_close-1)', 'cyb_(vol/p20mean_vol-1)', 'cyb_(high/p60max_high-1)', 'cyb_(vol/p60max_vol-1)', 'cyb_(low/p60min_low-1)', 'cyb_(vol/p60min_vol-1)', 'cyb_(open/p60mean_open-1)', 'cyb_(close/p60mean_close-1)', 'cyb_(vol/p60mean_vol-1)', 'cyb_(high/p120max_high-1)', 'cyb_(vol/p120max_vol-1)', 'cyb_(low/p120min_low-1)', 'cyb_(vol/p120min_vol-1)', 'cyb_(open/p120mean_open-1)', 'cyb_(close/p120mean_close-1)', 'cyb_(vol/p120mean_vol-1)', 'cyb_(high/p250max_high-1)', 'cyb_(vol/p250max_vol-1)', 'cyb_(low/p250min_low-1)', 'cyb_(vol/p250min_vol-1)', 'cyb_(open/p250mean_open-1)', 'cyb_(close/p250mean_close-1)', 'cyb_(vol/p250mean_vol-1)', 'cyb_(high/p500max_high-1)', 'cyb_(vol/p500max_vol-1)', 'cyb_(low/p500min_low-1)', 'cyb_(vol/p500min_vol-1)', 'cyb_(open/p500mean_open-1)', 'cyb_(close/p500mean_close-1)', 'cyb_(vol/p500mean_vol-1)', 'hs300_open', 'hs300_high', 'hs300_low', 'hs300_close', 'hs300_vol', 'hs300_(open/p1mv_open-1)', 'hs300_(high/p1mv_high-1)', 'hs300_(low/p1mv_low-1)', 'hs300_(close/p1mv_close-1)', 'hs300_(vol/p1mv_vol-1)', 'hs300_(open/p2mv_open-1)', 'hs300_(high/p2mv_high-1)', 'hs300_(low/p2mv_low-1)', 'hs300_(close/p2mv_close-1)', 'hs300_(vol/p2mv_vol-1)', 'hs300_(open/p3mv_open-1)', 'hs300_(high/p3mv_high-1)', 'hs300_(low/p3mv_low-1)', 'hs300_(close/p3mv_close-1)', 'hs300_(vol/p3mv_vol-1)', 'hs300_(open/p4mv_open-1)', 'hs300_(high/p4mv_high-1)', 'hs300_(low/p4mv_low-1)', 'hs300_(close/p4mv_close-1)', 'hs300_(vol/p4mv_vol-1)', 'hs300_(open/p5mv_open-1)', 'hs300_(high/p5mv_high-1)', 'hs300_(low/p5mv_low-1)', 'hs300_(close/p5mv_close-1)', 'hs300_(vol/p5mv_vol-1)', 'hs300_(high/p5max_high-1)', 'hs300_(vol/p5max_vol-1)', 'hs300_(low/p5min_low-1)', 'hs300_(vol/p5min_vol-1)', 'hs300_(open/p5mean_open-1)', 'hs300_(close/p5mean_close-1)', 'hs300_(vol/p5mean_vol-1)', 'hs300_(high/p10max_high-1)', 'hs300_(vol/p10max_vol-1)', 'hs300_(low/p10min_low-1)', 'hs300_(vol/p10min_vol-1)', 'hs300_(open/p10mean_open-1)', 'hs300_(close/p10mean_close-1)', 'hs300_(vol/p10mean_vol-1)', 'hs300_(high/p20max_high-1)', 'hs300_(vol/p20max_vol-1)', 'hs300_(low/p20min_low-1)', 'hs300_(vol/p20min_vol-1)', 'hs300_(open/p20mean_open-1)', 'hs300_(close/p20mean_close-1)', 'hs300_(vol/p20mean_vol-1)', 'hs300_(high/p60max_high-1)', 'hs300_(vol/p60max_vol-1)', 'hs300_(low/p60min_low-1)', 'hs300_(vol/p60min_vol-1)', 'hs300_(open/p60mean_open-1)', 'hs300_(close/p60mean_close-1)', 'hs300_(vol/p60mean_vol-1)', 'hs300_(high/p120max_high-1)', 'hs300_(vol/p120max_vol-1)', 'hs300_(low/p120min_low-1)', 'hs300_(vol/p120min_vol-1)', 'hs300_(open/p120mean_open-1)', 'hs300_(close/p120mean_close-1)', 'hs300_(vol/p120mean_vol-1)', 'hs300_(high/p250max_high-1)', 'hs300_(vol/p250max_vol-1)', 'hs300_(low/p250min_low-1)', 'hs300_(vol/p250min_vol-1)', 'hs300_(open/p250mean_open-1)', 'hs300_(close/p250mean_close-1)', 'hs300_(vol/p250mean_vol-1)', 'hs300_(high/p500max_high-1)', 'hs300_(vol/p500max_vol-1)', 'hs300_(low/p500min_low-1)', 'hs300_(vol/p500min_vol-1)', 'hs300_(open/p500mean_open-1)', 'hs300_(close/p500mean_close-1)', 'hs300_(vol/p500mean_vol-1)', 'sh_open', 'sh_high', 'sh_low', 'sh_close', 'sh_vol', 'sh_(open/p1mv_open-1)', 'sh_(high/p1mv_high-1)', 'sh_(low/p1mv_low-1)', 'sh_(close/p1mv_close-1)', 'sh_(vol/p1mv_vol-1)', 'sh_(open/p2mv_open-1)', 'sh_(high/p2mv_high-1)', 'sh_(low/p2mv_low-1)', 'sh_(close/p2mv_close-1)', 'sh_(vol/p2mv_vol-1)', 'sh_(open/p3mv_open-1)', 'sh_(high/p3mv_high-1)', 'sh_(low/p3mv_low-1)', 'sh_(close/p3mv_close-1)', 'sh_(vol/p3mv_vol-1)', 'sh_(open/p4mv_open-1)', 'sh_(high/p4mv_high-1)', 'sh_(low/p4mv_low-1)', 'sh_(close/p4mv_close-1)', 'sh_(vol/p4mv_vol-1)', 'sh_(open/p5mv_open-1)', 'sh_(high/p5mv_high-1)', 'sh_(low/p5mv_low-1)', 'sh_(close/p5mv_close-1)', 'sh_(vol/p5mv_vol-1)', 'sh_(high/p5max_high-1)', 'sh_(vol/p5max_vol-1)', 'sh_(low/p5min_low-1)', 'sh_(vol/p5min_vol-1)', 'sh_(open/p5mean_open-1)', 'sh_(close/p5mean_close-1)', 'sh_(vol/p5mean_vol-1)', 'sh_(high/p10max_high-1)', 'sh_(vol/p10max_vol-1)', 'sh_(low/p10min_low-1)', 'sh_(vol/p10min_vol-1)', 'sh_(open/p10mean_open-1)', 'sh_(close/p10mean_close-1)', 'sh_(vol/p10mean_vol-1)', 'sh_(high/p20max_high-1)', 'sh_(vol/p20max_vol-1)', 'sh_(low/p20min_low-1)', 'sh_(vol/p20min_vol-1)', 'sh_(open/p20mean_open-1)', 'sh_(close/p20mean_close-1)', 'sh_(vol/p20mean_vol-1)', 'sh_(high/p60max_high-1)', 'sh_(vol/p60max_vol-1)', 'sh_(low/p60min_low-1)', 'sh_(vol/p60min_vol-1)', 'sh_(open/p60mean_open-1)', 'sh_(close/p60mean_close-1)', 'sh_(vol/p60mean_vol-1)', 'sh_(high/p120max_high-1)', 'sh_(vol/p120max_vol-1)', 'sh_(low/p120min_low-1)', 'sh_(vol/p120min_vol-1)', 'sh_(open/p120mean_open-1)', 'sh_(close/p120mean_close-1)', 'sh_(vol/p120mean_vol-1)', 'sh_(high/p250max_high-1)', 'sh_(vol/p250max_vol-1)', 'sh_(low/p250min_low-1)', 'sh_(vol/p250min_vol-1)', 'sh_(open/p250mean_open-1)', 'sh_(close/p250mean_close-1)', 'sh_(vol/p250mean_vol-1)', 'sh_(high/p500max_high-1)', 'sh_(vol/p500max_vol-1)', 'sh_(low/p500min_low-1)', 'sh_(vol/p500min_vol-1)', 'sh_(open/p500mean_open-1)', 'sh_(close/p500mean_close-1)', 'sh_(vol/p500mean_vol-1)', 'sz_open', 'sz_high', 'sz_low', 'sz_close', 'sz_vol', 'sz_(open/p1mv_open-1)', 'sz_(high/p1mv_high-1)', 'sz_(low/p1mv_low-1)', 'sz_(close/p1mv_close-1)', 'sz_(vol/p1mv_vol-1)', 'sz_(open/p2mv_open-1)', 'sz_(high/p2mv_high-1)', 'sz_(low/p2mv_low-1)', 'sz_(close/p2mv_close-1)', 'sz_(vol/p2mv_vol-1)', 'sz_(open/p3mv_open-1)', 'sz_(high/p3mv_high-1)', 'sz_(low/p3mv_low-1)', 'sz_(close/p3mv_close-1)', 'sz_(vol/p3mv_vol-1)', 'sz_(open/p4mv_open-1)', 'sz_(high/p4mv_high-1)', 'sz_(low/p4mv_low-1)', 'sz_(close/p4mv_close-1)', 'sz_(vol/p4mv_vol-1)', 'sz_(open/p5mv_open-1)', 'sz_(high/p5mv_high-1)', 'sz_(low/p5mv_low-1)', 'sz_(close/p5mv_close-1)', 'sz_(vol/p5mv_vol-1)', 'sz_(high/p5max_high-1)', 'sz_(vol/p5max_vol-1)', 'sz_(low/p5min_low-1)', 'sz_(vol/p5min_vol-1)', 'sz_(open/p5mean_open-1)', 'sz_(close/p5mean_close-1)', 'sz_(vol/p5mean_vol-1)', 'sz_(high/p10max_high-1)', 'sz_(vol/p10max_vol-1)', 'sz_(low/p10min_low-1)', 'sz_(vol/p10min_vol-1)', 'sz_(open/p10mean_open-1)', 'sz_(close/p10mean_close-1)', 'sz_(vol/p10mean_vol-1)', 'sz_(high/p20max_high-1)', 'sz_(vol/p20max_vol-1)', 'sz_(low/p20min_low-1)', 'sz_(vol/p20min_vol-1)', 'sz_(open/p20mean_open-1)', 'sz_(close/p20mean_close-1)', 'sz_(vol/p20mean_vol-1)', 'sz_(high/p60max_high-1)', 'sz_(vol/p60max_vol-1)', 'sz_(low/p60min_low-1)', 'sz_(vol/p60min_vol-1)', 'sz_(open/p60mean_open-1)', 'sz_(close/p60mean_close-1)', 'sz_(vol/p60mean_vol-1)', 'sz_(high/p120max_high-1)', 'sz_(vol/p120max_vol-1)', 'sz_(low/p120min_low-1)', 'sz_(vol/p120min_vol-1)', 'sz_(open/p120mean_open-1)', 'sz_(close/p120mean_close-1)', 'sz_(vol/p120mean_vol-1)', 'sz_(high/p250max_high-1)', 'sz_(vol/p250max_vol-1)', 'sz_(low/p250min_low-1)', 'sz_(vol/p250min_vol-1)', 'sz_(open/p250mean_open-1)', 'sz_(close/p250mean_close-1)', 'sz_(vol/p250mean_vol-1)', 'sz_(high/p500max_high-1)', 'sz_(vol/p500max_vol-1)', 'sz_(low/p500min_low-1)', 'sz_(vol/p500min_vol-1)', 'sz_(open/p500mean_open-1)', 'sz_(close/p500mean_close-1)', 'sz_(vol/p500mean_vol-1)', 'sz50_open', 'sz50_high', 'sz50_low', 'sz50_close', 'sz50_vol', 'sz50_(open/p1mv_open-1)', 'sz50_(high/p1mv_high-1)', 'sz50_(low/p1mv_low-1)', 'sz50_(close/p1mv_close-1)', 'sz50_(vol/p1mv_vol-1)', 'sz50_(open/p2mv_open-1)', 'sz50_(high/p2mv_high-1)', 'sz50_(low/p2mv_low-1)', 'sz50_(close/p2mv_close-1)', 'sz50_(vol/p2mv_vol-1)', 'sz50_(open/p3mv_open-1)', 'sz50_(high/p3mv_high-1)', 'sz50_(low/p3mv_low-1)', 'sz50_(close/p3mv_close-1)', 'sz50_(vol/p3mv_vol-1)', 'sz50_(open/p4mv_open-1)', 'sz50_(high/p4mv_high-1)', 'sz50_(low/p4mv_low-1)', 'sz50_(close/p4mv_close-1)', 'sz50_(vol/p4mv_vol-1)', 'sz50_(open/p5mv_open-1)', 'sz50_(high/p5mv_high-1)', 'sz50_(low/p5mv_low-1)', 'sz50_(close/p5mv_close-1)', 'sz50_(vol/p5mv_vol-1)', 'sz50_(high/p5max_high-1)', 'sz50_(vol/p5max_vol-1)', 'sz50_(low/p5min_low-1)', 'sz50_(vol/p5min_vol-1)', 'sz50_(open/p5mean_open-1)', 'sz50_(close/p5mean_close-1)', 'sz50_(vol/p5mean_vol-1)', 'sz50_(high/p10max_high-1)', 'sz50_(vol/p10max_vol-1)', 'sz50_(low/p10min_low-1)', 'sz50_(vol/p10min_vol-1)', 'sz50_(open/p10mean_open-1)', 'sz50_(close/p10mean_close-1)', 'sz50_(vol/p10mean_vol-1)', 'sz50_(high/p20max_high-1)', 'sz50_(vol/p20max_vol-1)', 'sz50_(low/p20min_low-1)', 'sz50_(vol/p20min_vol-1)', 'sz50_(open/p20mean_open-1)', 'sz50_(close/p20mean_close-1)', 'sz50_(vol/p20mean_vol-1)', 'sz50_(high/p60max_high-1)', 'sz50_(vol/p60max_vol-1)', 'sz50_(low/p60min_low-1)', 'sz50_(vol/p60min_vol-1)', 'sz50_(open/p60mean_open-1)', 'sz50_(close/p60mean_close-1)', 'sz50_(vol/p60mean_vol-1)', 'sz50_(high/p120max_high-1)', 'sz50_(vol/p120max_vol-1)', 'sz50_(low/p120min_low-1)', 'sz50_(vol/p120min_vol-1)', 'sz50_(open/p120mean_open-1)', 'sz50_(close/p120mean_close-1)', 'sz50_(vol/p120mean_vol-1)', 'sz50_(high/p250max_high-1)', 'sz50_(vol/p250max_vol-1)', 'sz50_(low/p250min_low-1)', 'sz50_(vol/p250min_vol-1)', 'sz50_(open/p250mean_open-1)', 'sz50_(close/p250mean_close-1)', 'sz50_(vol/p250mean_vol-1)', 'sz50_(high/p500max_high-1)', 'sz50_(vol/p500max_vol-1)', 'sz50_(low/p500min_low-1)', 'sz50_(vol/p500min_vol-1)', 'sz50_(open/p500mean_open-1)', 'sz50_(close/p500mean_close-1)', 'sz50_(vol/p500mean_vol-1)']\n"
     ]
    },
    {
     "name": "stdout",
     "output_type": "stream",
     "text": [
      "(124685, 945)\n"
     ]
    },
    {
     "name": "stdout",
     "output_type": "stream",
     "text": [
      "df_all: (100849, 945)\n"
     ]
    },
    {
     "name": "stdout",
     "output_type": "stream",
     "text": [
      "y<-0.5: 0\n-0.50<=y<-0.40: 0\n-0.40<=y<-0.30: 0\n-0.30<=y<-0.20: 0\n-0.20<=y<-0.10: 0\n-0.10<=y<0.00: 0\n0.00<=y<0.10: 62248\n0.10<=y<0.20: 23955\n0.20<=y<0.30: 7955\n0.30<=y<0.40: 2857\n0.40<=y<0.50: 1189\ny>0.5 1483\nmean: 0.10696462612000973 median: 0.07186358099878198 std: 0.20736407305880303\n"
     ]
    },
    {
     "name": "stdout",
     "output_type": "stream",
     "text": [
      "过滤一字涨停项或停牌（最高价=最低价）： 5423\ny<-0.5: 0\n-0.50<=y<-0.40: 0\n-0.40<=y<-0.30: 0\n-0.30<=y<-0.20: 0\n-0.20<=y<-0.10: 0\n-0.10<=y<0.00: 0\n0.00<=y<0.10: 63795\n0.10<=y<0.20: 23486\n0.20<=y<0.30: 7667\n0.30<=y<0.40: 2634\n0.40<=y<0.50: 1056\ny>0.5 1049\nmean: 0.09791940650237696 median: 0.06829765545361877 std: 0.10694818690099214\n"
     ]
    },
    {
     "name": "stdout",
     "output_type": "stream",
     "text": [
      "y<-0.5: 259\n-0.50<=y<-0.40: 449\n-0.40<=y<-0.30: 1373\n-0.30<=y<-0.20: 4789\n-0.20<=y<-0.10: 22686\n-0.10<=y<0.00: 64837\n0.00<=y<0.10: 5296\n0.10<=y<0.20: 0\n0.20<=y<0.30: 0\n0.30<=y<0.40: 0\n0.40<=y<0.50: 0\ny>0.5 0\nmean: -0.0796096920371081 median: -0.05891980360065474 std: 0.07847995954033013\n"
     ]
    },
    {
     "name": "stdout",
     "output_type": "stream",
     "text": [
      "过滤一字涨停项或停牌（最高价=最低价）： 5423\ny<-0.5: 187\n-0.50<=y<-0.40: 373\n-0.40<=y<-0.30: 1281\n-0.30<=y<-0.20: 4624\n-0.20<=y<-0.10: 22225\n-0.10<=y<0.00: 64099\n0.00<=y<0.10: 6900\n0.10<=y<0.20: 0\n0.20<=y<0.30: 0\n"
     ]
    },
    {
     "name": "stdout",
     "output_type": "stream",
     "text": [
      "0.30<=y<0.40: 0\n0.40<=y<0.50: 0\ny>0.5 0\nmean: -0.0770435886078886 median: -0.05691056910569103 std: 0.07570283877911503\n"
     ]
    },
    {
     "name": "stdout",
     "output_type": "stream",
     "text": [
      "(100849, 922) (100849, 3) Index(['y_l_rise', 'y_l_decline', 'y_l'], dtype='object')\n"
     ]
    },
    {
     "data": {
      "image/png": "[encoded data removed]",
      "text/plain": [
       "<Figure size 432x288 with 1 Axes>"
      ]
     },
     "metadata": {},
     "output_type": "display_data"
    },
    {
     "data": {
      "image/png": "[encoded data removed]",
      "text/plain": [
       "<Figure size 432x288 with 1 Axes>"
      ]
     },
     "metadata": {},
     "output_type": "display_data"
    },
    {
     "data": {
      "image/png": "[encoded data removed]",
      "text/plain": [
       "<Figure size 432x288 with 1 Axes>"
      ]
     },
     "metadata": {},
     "output_type": "display_data"
    },
    {
     "data": {
      "image/png": "[encoded data removed]",
      "text/plain": [
       "<Figure size 432x288 with 1 Axes>"
      ]
     },
     "metadata": {},
     "output_type": "display_data"
    }
   ],
   "source": [
    "targets = [{\"period\": 20, \"fun\": \"max\", \"col\": \"high\"},\n",
    "           {\"period\": 20, \"fun\": \"min\", \"col\": \"low\"},\n",
    "           # {\"period\": 5, \"fun\": \"max\", \"col\": \"high\"},\n",
    "           # {\"period\": 5, \"fun\": \"min\", \"col\": \"low\"},\n",
    "           # {\"period\": 20, \"fun\": \"mean\", \"col\": \"\"}\n",
    "           ]\n",
    "\n",
    "time_delta = datetime.timedelta(days=1)\n",
    "test_start = \"2018-01-01\"\n",
    "train_length = 2500\n",
    "max_feature_length = 750\n",
    "\n",
    "train_bound = datetime.datetime.strptime(test_start, const.DATE_FORMAT) - train_length * time_delta\n",
    "train_bound = datetime.datetime.strftime(train_bound, const.DATE_FORMAT)\n",
    "\n",
    "lower_bound = datetime.datetime.strptime(train_bound, const.DATE_FORMAT) - max_feature_length * time_delta\n",
    "lower_bound = datetime.datetime.strftime(lower_bound, const.DATE_FORMAT)\n",
    "print(test_start,train_bound,lower_bound)\n",
    "\n",
    "df_all, cols_future, cols_category,cols_not_for_model = ml_model.gen_data(\n",
    "    targets=targets,\n",
    "                                        lower_bound=lower_bound,\n",
    "                                        start=train_bound,\n",
    "                                        stock_pool=None)\n",
    "\n",
    "print(\"df_all:\", df_all.shape)\n",
    "trading_date_idxes = df_all.index.unique().sort_values(ascending=True)\n",
    "\n",
    "X = ml_model.gen_X(df_all, cols_future+cols_not_for_model)\n",
    "\n",
    "paras = [(\"y_l_rise\", {\"pred_period\": 20, \"is_high\": True, \"is_clf\": False,\"threshold\":0.2}, df_all),\n",
    "         (\"y_l_decline\", {\"pred_period\": 20, \"is_high\": False, \"is_clf\": False, \"threshold\":0.2}, df_all),\n",
    "         # (\"y_s_rise\", {\"pred_period\": 5, \"is_high\": True, \"is_clf\": False,\"threshold\":0.1}, df_all),\n",
    "         # (\"y_s_decline\", {\"pred_period\": 5, \"is_high\": False, \"is_clf\": False,\"threshold\":0.1}, df_all),\n",
    "         ]\n",
    "\n",
    "# paras = [(\"y_l\", {\"pred_period\": 20, \"is_high\": True, \"is_clf\": False,\n",
    "#                        \"threshold\":0.1}, df_all)]\n",
    "Y = pd.concat([ml_model.gen_y(v2, **v1) for k, v1, v2 in paras], axis=1)\n",
    "Y.columns = [k for k, _, _ in paras]\n",
    "Y.index = X.index\n",
    "Y[\"y_l\"] = Y.apply(\n",
    "    lambda r:r[\"y_l_rise\"] if r[\"y_l_rise\"]> -r[\"y_l_decline\"] else r[\"y_l_decline\"],\n",
    "    axis=1)\n",
    "print(X.shape, Y.shape, Y.columns)\n"
   ]
  },
  {
   "cell_type": "code",
   "execution_count": 3,
   "metadata": {},
   "outputs": [
    {
     "name": "stdout",
     "output_type": "stream",
     "text": [
      "(100675, 917)\nIndex(['code', 'f19max_f2mv_high', 'f1mv_close', 'f1mv_high', 'f1mv_low',\n       'f1mv_open', 'f1mv_qfq_close', 'f1mv_qfq_high', 'f1mv_qfq_low',\n       'f1mv_qfq_open', 'f20min_f1mv_low', 'qfq_close', 'qfq_high', 'qfq_low',\n       'qfq_open'],\n      dtype='object')\n"
     ]
    },
    {
     "data": {
      "text/plain": [
       "(array([    0.,     0.,     0.,    32.,   155.,   373.,  1273.,  4500.,\n        19975., 16991., 22343., 21640.,  7503.,  2623.,  1056.,   491.,\n          241.,   141.,    88.,    44.]),\n array([-1. , -0.9, -0.8, -0.7, -0.6, -0.5, -0.4, -0.3, -0.2, -0.1,  0. ,\n         0.1,  0.2,  0.3,  0.4,  0.5,  0.6,  0.7,  0.8,  0.9,  1. ]),\n <a list of 20 Patch objects>)"
      ]
     },
     "execution_count": 3,
     "metadata": {},
     "output_type": "execute_result"
    },
    {
     "data": {
      "image/png": "[encoded data removed]",
      "text/plain": [
       "<Figure size 432x288 with 1 Axes>"
      ]
     },
     "metadata": {},
     "output_type": "display_data"
    }
   ],
   "source": [
    "print(X.shape)\n",
    "print(df_all.columns.difference(X.columns))\n",
    "plt.hist(Y[\"y_l\"].dropna(),bins=np.arange(-10,11)*0.1)"
   ]
  },
  {
   "cell_type": "code",
   "execution_count": 4,
   "metadata": {},
   "outputs": [
    {
     "name": "stdout",
     "output_type": "stream",
     "text": [
      "y_l_rise 0.09569256423767561 0.06781566129636563 0.10901812875705962\ny_l_decline -0.07704752555107086 -0.056862745098039236 0.07573926618428459\ny_l 0.02367916798882663 0.03822937625754519 0.17273475797069934\n"
     ]
    }
   ],
   "source": [
    "# Y is contiguous.\n",
    "for col in Y.columns:\n",
    "    print(col, Y[col].mean(),Y[col].median(),Y[col].std())"
   ]
  },
  {
   "cell_type": "code",
   "execution_count": 5,
   "metadata": {},
   "outputs": [
    {
     "name": "stdout",
     "output_type": "stream",
     "text": [
      "2011-02-28 2016-12-01\n2017-01-03 2018-11-21\n"
     ]
    },
    {
     "name": "stdout",
     "output_type": "stream",
     "text": [
      "(72349, 917) (72349,)\n(25800, 917) (25800, 3)\n"
     ]
    }
   ],
   "source": [
    "train_date_idx = trading_date_idxes[trading_date_idxes<\"2017-01-01\"][:-21]\n",
    "print(train_date_idx[0],train_date_idx[-1])\n",
    "test_date_idx = trading_date_idxes[(trading_date_idxes>=\"2017-01-01\")][:-24]\n",
    "print(test_date_idx[0],test_date_idx[-1])\n",
    "\n",
    "ycol = \"y_l\"\n",
    "X_train = X.loc[train_date_idx]\n",
    "Y_train = Y.loc[train_date_idx]\n",
    "print(X_train.shape, Y_train[ycol].shape)\n",
    "X_test = X.loc[test_date_idx]\n",
    "Y_test = Y.loc[test_date_idx]\n",
    "print(X_test.shape, Y_test.shape)\n"
   ]
  },
  {
   "cell_type": "code",
   "execution_count": 6,
   "metadata": {},
   "outputs": [],
   "source": [
    "models={}"
   ]
  },
  {
   "cell_type": "code",
   "execution_count": 25,
   "metadata": {},
   "outputs": [
    {
     "name": "stdout",
     "output_type": "stream",
     "text": [
      "78.3270001411438\n"
     ]
    }
   ],
   "source": [
    "\n",
    "# models = {\"model_l_high\":\n",
    "#               xgb.XGBClassifier(n_estimators=150, \n",
    "#                                   scale_pos_weight=1,\n",
    "#                                 max_depth=5,\n",
    "#                                  random_state=0, \n",
    "#                                   )\n",
    "#           }\n",
    "\n",
    "models[\"model_l_high\"]=lgbm.LGBMClassifier(n_estimators=30, \n",
    "                                  scale_pos_weight=1,\n",
    "                                 num_leaves=64, \n",
    "                                max_depth=8,\n",
    "                                 random_state=0, \n",
    "                                min_child_samples=20,\n",
    "                                  )\n",
    "          \n",
    "\n",
    "y_train = ml_model.label(Y_train[ycol],threshold=0.15,is_high=True)\n",
    "scale_pos_weight = sum(y_train == 0) / sum(y_train == 1)\n",
    "\n",
    "t1 = time.time()\n",
    "models[\"model_l_high\"].fit(X_train, y_train)\n",
    "t2 = time.time()\n",
    "print(t2-t1)\n",
    "Y_test_pred ={ycol: models[\"model_l_high\"].predict_proba(X_test)[:,1]}\n"
   ]
  },
  {
   "cell_type": "code",
   "execution_count": 26,
   "metadata": {},
   "outputs": [
    {
     "name": "stdout",
     "output_type": "stream",
     "text": [
      "LGBMClassifier(boosting_type='gbdt', class_weight=None, colsample_bytree=1.0,\n        learning_rate=0.1, max_depth=8, min_child_samples=20,\n        min_child_weight=0.001, min_split_gain=0.0, n_estimators=30,\n        n_jobs=-1, num_leaves=64, objective=None, random_state=0,\n        reg_alpha=0.0, reg_lambda=0.0, scale_pos_weight=1, silent=True,\n        subsample=1.0, subsample_for_bin=200000, subsample_freq=0)\n"
     ]
    },
    {
     "name": "stdout",
     "output_type": "stream",
     "text": [
      "781 (0.0017869685491264144, 0.0, 0.0196784538425522, 0.40542133176193307, -0.0802784222737819)\n1710 (0.05386594665278017, 0.037338541666666614, 0.05928159829582074, 0.46347826086956534, -0.07043407043407057)\n4228 (0.07411173725992358, 0.056048587659362714, 0.07320788490381518, 0.8043636363636364, -0.12865267699548932)\n4905 (0.08498451283253235, 0.06495335328287277, 0.0844883485564575, 0.8832684824902723, -0.09234608985024961)\n4190 (0.08855994882126494, 0.06896776502608803, 0.08806563656192254, 0.8724528301886791, -0.19402173913043474)\n3305 (0.09120448303750107, 0.07098121085595, 0.08792687472357531, 0.6553672316384183, -0.11646136618141101)\n2281 (0.09833946597301156, 0.0726086956521741, 0.09894210821771089, 0.7660103626587744, -0.10780487804878058)\n1529 (0.09985295195556354, 0.07685799654449066, 0.09982384758165438, 0.6616257088846884, -0.0632380952380952)\n932 (0.09520443086642888, 0.07073569055827711, 0.0960636104784121, 0.597989949748744, -0.0708556149732621)\n549 (0.0997234051263998, 0.07921928817451196, 0.10362107697419559, 0.6894409937888195, -0.11037410453701235)\n335 (0.09758935933586761, 0.08083623693379782, 0.09489552654966091, 0.526374859708193, -0.058252427184466105)\n219 (0.11371787306876424, 0.09999999999999987, 0.10962825250066571, 0.6200119118522929, -0.046260268050151265)\n173 (0.14763022226488334, 0.13855072463768114, 0.09929483230562645, 0.5143859649122804, -0.04543681747269901)\n158 (0.1379053140378156, 0.13398010999399435, 0.10182816836204366, 0.49923664122137423, -0.10079184002147368)\n101 (0.1326433210593755, 0.11834319526627213, 0.10513507624395216, 0.4441176470588235, -0.0837500000000001)\n74 (0.14691307968809159, 0.1449578341041079, 0.09184898990152815, 0.3700854700854703, -0.0774077407740773)\n39 (0.12094252567676068, 0.133546581367453, 0.08026387121920947, 0.31241084165477906, -0.02530802530802534)\n1 (0.17439933719966882, 0.17439933719966882, nan, 0.17439933719966882, 0.17439933719966882)\n0 (nan, nan, nan, nan, nan)\n0 (nan, nan, nan, nan, nan)\n"
     ]
    },
    {
     "data": {
      "image/png": "[encoded data removed]",
      "text/plain": [
       "<matplotlib.figure.Figure at 0xed636d8>"
      ]
     },
     "metadata": {},
     "output_type": "display_data"
    }
   ],
   "source": [
    "print(models[\"model_l_high\"])\n",
    "\n",
    "interval = 0.05\n",
    "n = int(1/interval)\n",
    "x0 = np.arange(n+1)*interval\n",
    "y0 = np.ones(x0.shape)* Y_test[ycol].mean()\n",
    "\n",
    "y1 = []\n",
    "cnt1 = []\n",
    "for i in range(n):\n",
    "    p0 = i*interval\n",
    "    p1 = (i+1)*interval\n",
    "    cond=(p0 < Y_test_pred[ycol]) & (Y_test_pred[ycol] <=p1)\n",
    "    cnt1.append(sum(cond))\n",
    "    y1.append((Y_test[ycol][cond].mean(), Y_test[ycol][cond].median(),Y_test[ycol][cond].std(),Y_test[ycol][cond].max(),Y_test[ycol][cond].min()))\n",
    "for c,p in zip(cnt1,y1):\n",
    "    print(c,p)\n",
    "\n",
    "plt.bar(np.arange(len(y1))*interval+interval/2,[mean for mean,_, _,_,_ in y1],width=interval*0.8)\n",
    "plt.plot(x0,y0,color='r')\n",
    "# plt.plot(x,y1,color='r')\n",
    "plt.xlim(0,1)\n",
    "plt.ylim(0,0.5)\n",
    "plt.show()\n"
   ]
  },
  {
   "cell_type": "code",
   "execution_count": 12,
   "metadata": {},
   "outputs": [
    {
     "name": "stdout",
     "output_type": "stream",
     "text": [
      "0.19150086981583767\n6 0.19150086981583767 0.1749581416624233 0.14266972179444173 0.3796449704142011 0.04947916666666674\n\n                  code  open0       open   f1mv_open     rise     pred\n2017-06-14  000002.SZ   21.9  2907.9258  2822.94532  0.25588  0.73034\n\n                  code  open0     open  f1mv_open      rise      pred\n2018-02-06  002446.SZ    7.2  35.6184   34.67847  0.312411  0.744096\n\n                  code  open0      open  f1mv_open      rise      pred\n2017-06-02  600401.SH   1.39  26.22652   26.22652  0.057554  0.718362\n\n                  code  open0     open  f1mv_open      rise      pred\n2017-05-24  600536.SH   19.3  101.518    100.992  0.049479  0.705735\n\n                  code  open0     open  f1mv_open      rise      pred\n2017-05-09  603799.SH   44.0  44.2640    43.8616  0.094037  0.731686\n2017-05-23  603799.SH   42.7  42.9562    42.5035  0.379645  0.730326\n"
     ]
    }
   ],
   "source": [
    "cond = Y_test_pred[ycol]>0.7\n",
    "print(Y_test[ycol][cond].mean())\n",
    "print(sum(cond),Y_test[ycol][cond].mean(), Y_test[ycol][cond].median(),Y_test[ycol][cond].std(),Y_test[ycol][cond].max(),Y_test[ycol][cond].min())\n",
    "\n",
    "df_combined = df_all.loc[test_date_idx][[\"code\",\"open0\",\"open\",\"f1mv_open\"]]\n",
    "df_combined[\"rise\"] = Y_test[ycol].copy()\n",
    "df_combined[\"pred\"] = Y_test_pred[ycol].copy()\n",
    "for code, df in df_combined[cond].groupby(\"code\"):\n",
    "    print(\"\\n\",df)"
   ]
  },
  {
   "cell_type": "code",
   "execution_count": 104,
   "metadata": {},
   "outputs": [],
   "source": [
    "\n",
    "k = 15\n",
    "models[\"model_l_high_reg\"] = lgbm.LGBMRegressor(\n",
    "    n_estimators=60, num_leaves=32,\n",
    "    max_depth=8,\n",
    "    random_state=0,\n",
    "    min_child_samples=20,\n",
    "    min_split_gain=0,\n",
    "    learning_rate=0.1,\n",
    "    # min_child_weight=0,\n",
    "    objective = \"huber\",\n",
    "    ca\n",
    "    # alpha = 0.5\n",
    "    # reg_lambda=1e-5\n",
    ")\n"
   ]
  },
  {
   "cell_type": "code",
   "execution_count": 105,
   "metadata": {},
   "outputs": [],
   "source": [
    "\n",
    "# models[\"model_l_high_reg\"] = xgb.XGBRegressor(\n",
    "#     n_estimators=30,\n",
    "#     max_depth=5,\n",
    "#     random_state=0,\n",
    "#     gamma= 0.5,\n",
    "#     learning_rate=0.05,\n",
    "#     min_child_weight=20,\n",
    "#     objective = cus_obj.smooth_l1_obj_generator(k),\n",
    "#     # reg_lambda=1e-5\n",
    "# )\n",
    "\n",
    "sample_weight = np.abs(Y_train[ycol])\n",
    "sample_weight = sample_weight/np.mean(sample_weight)+1\n",
    "# print(sample_weight)\n"
   ]
  },
  {
   "cell_type": "code",
   "execution_count": 106,
   "metadata": {},
   "outputs": [
    {
     "name": "stdout",
     "output_type": "stream",
     "text": [
      "60.235501527786255\n"
     ]
    }
   ],
   "source": [
    "\n",
    "t1 = time.time()\n",
    "models[\"model_l_high_reg\"].fit(X_train, k*Y_train[ycol],\\\n",
    "                                         sample_weight=sample_weight)\n",
    "# models[\"model_l_high_reg\"].fit(X_train, Y_train[ycol])\n",
    "t2 = time.time()\n",
    "print(t2-t1)\n"
   ]
  },
  {
   "cell_type": "code",
   "execution_count": 20,
   "metadata": {},
   "outputs": [
    {
     "name": "stdout",
     "output_type": "stream",
     "text": [
      "53.545000076293945\n"
     ]
    }
   ],
   "source": [
    "\n",
    "Y_test_pred_reg ={ycol: models[\"model_l_high_reg\"].predict(X_test)}\n",
    "print(models[\"model_l_high_reg\"].score(X_test,Y_test[ycol]))\n"
   ]
  },
  {
   "cell_type": "code",
   "execution_count": 24,
   "metadata": {},
   "outputs": [],
   "source": [
    "stacker = lgbm.LGBMClassifier(\n",
    "    n_estimators=60, num_leaves=32,\n",
    "    scale_pos_weight=1,\n",
    "    max_depth=8,\n",
    "    random_state=0,\n",
    "    min_child_samples=20,\n",
    "    min_split_gain=0.5,\n",
    ")\n"
   ]
  },
  {
   "cell_type": "code",
   "execution_count": 174,
   "metadata": {},
   "outputs": [
    {
     "name": "stderr",
     "output_type": "stream",
     "text": [
      "C:\\Users\\dell-pc\\Anaconda3.6\\lib\\site-packages\\lightgbm\\basic.py:450: UserWarning: Converting data to scipy sparse matrix.\n  warnings.warn('Converting data to scipy sparse matrix.')\n"
     ]
    },
    {
     "name": "stdout",
     "output_type": "stream",
     "text": [
      "(16568,)\n"
     ]
    },
    {
     "name": "stdout",
     "output_type": "stream",
     "text": [
      "1292 (0.0564942141165419, 0.025359140081381515, 0.07957201925528411, 0.49437299035369775, -0.014883061658398145)\n3497 (0.09504616791963497, 0.0726246105919004, 0.09024243654398367, 0.741324921135647, -0.09234608985024961)\n3106 (0.09408139306308058, 0.07244620752160258, 0.08945663814447036, 0.7047560222359481, -0.09142053445850917)\n2325 (0.08616052449963223, 0.06269592476489039, 0.08869867514290783, 0.6974169741697416, -0.058252427184466105)\n2245 (0.08677626347111263, 0.06336206896551722, 0.08857897064228236, 0.7660103626587744, -0.04995196926032652)\n2344 (0.09731225216002441, 0.07690981432360733, 0.0895432363424026, 0.597989949748744, -0.0632380952380952)\n1277 (0.09841958194967271, 0.07598944591029033, 0.0909535346164598, 0.5143859649122804, -0.06426056338028152)\n450 (0.0868233603157824, 0.06349306651094266, 0.08943101591540087, 0.476747587013747, -0.10578478964401283)\n20 (0.10391456215211621, 0.07400945030202, 0.09942987060625445, 0.31241084165477906, -0.0139113555483662)\n12 (0.060183483249202585, 0.03594701038310055, 0.12049318951641502, 0.3700854700854703, -0.10079184002147368)\n"
     ]
    },
    {
     "data": {
      "image/png": "[encoded data removed]",
      "text/plain": [
       "<Figure size 432x288 with 1 Axes>"
      ]
     },
     "metadata": {},
     "output_type": "display_data"
    }
   ],
   "source": [
    "\n",
    "import sklearn as sk\n",
    "enc = sk.preprocessing.OneHotEncoder()\n",
    "pred_leaves_train = models[\"model_l_high_reg\"].predict(X_train, pred_leaf=True)\n",
    "pred_reg_train = models[\"model_l_high_reg\"].predict(X_train).reshape(-1, 1)\n",
    "pred_leaves_train = enc.fit_transform(pred_leaves_train)\n",
    "print(pred_leaves_train.shape,X_train.shape, type(pred_leaves_train),\n",
    "      type(X_train))\n",
    "import scipy.sparse\n",
    "features_train = scipy.sparse.hstack([X_train,pred_leaves_train])\n",
    "print(features_train.shape, type(features_train))\n",
    "features_train = scipy.sparse.hstack([features_train, pred_reg_train])\n",
    "print(features_train.shape, type(features_train))\n"
   ]
  },
  {
   "cell_type": "code",
   "execution_count": 180,
   "metadata": {},
   "outputs": [
    {
     "name": "stderr",
     "output_type": "stream",
     "text": [
      "C:\\Users\\dell-pc\\Anaconda3.6\\lib\\site-packages\\lightgbm\\basic.py:450: UserWarning: Converting data to scipy sparse matrix.\n  warnings.warn('Converting data to scipy sparse matrix.')\n"
     ]
    },
    {
     "name": "stdout",
     "output_type": "stream",
     "text": [
      "(16568,)\n"
     ]
    },
    {
     "name": "stdout",
     "output_type": "stream",
     "text": [
      "1292 (0.0564942141165419, 0.025359140081381515, 0.07957201925528411, 0.49437299035369775, -0.014883061658398145)\n3497 (0.09504616791963497, 0.0726246105919004, 0.09024243654398367, 0.741324921135647, -0.09234608985024961)\n3106 (0.09408139306308058, 0.07244620752160258, 0.08945663814447036, 0.7047560222359481, -0.09142053445850917)\n2325 (0.08616052449963223, 0.06269592476489039, 0.08869867514290783, 0.6974169741697416, -0.058252427184466105)\n2245 (0.08677626347111263, 0.06336206896551722, 0.08857897064228236, 0.7660103626587744, -0.04995196926032652)\n2344 (0.09731225216002441, 0.07690981432360733, 0.0895432363424026, 0.597989949748744, -0.0632380952380952)\n1277 (0.09841958194967271, 0.07598944591029033, 0.0909535346164598, 0.5143859649122804, -0.06426056338028152)\n450 (0.0868233603157824, 0.06349306651094266, 0.08943101591540087, 0.476747587013747, -0.10578478964401283)\n20 (0.10391456215211621, 0.07400945030202, 0.09942987060625445, 0.31241084165477906, -0.0139113555483662)\n12 (0.060183483249202585, 0.03594701038310055, 0.12049318951641502, 0.3700854700854703, -0.10079184002147368)\n"
     ]
    },
    {
     "data": {
      "image/png": "[encoded data removed]",
      "text/plain": [
       "<Figure size 432x288 with 1 Axes>"
      ]
     },
     "metadata": {},
     "output_type": "display_data"
    }
   ],
   "source": [
    "t1 = time.time()\n",
    "stacker.fit(features_train,ml_model.label(Y_train[ycol],threshold=0.15))\n",
    "# stacker.fit(features_train,Y_train[ycol])\n",
    "t2 = time.time()\n",
    "print(t2-t1)"
   ]
  },
  {
   "cell_type": "code",
   "execution_count": 176,
   "metadata": {},
   "outputs": [
    {
     "name": "stderr",
     "output_type": "stream",
     "text": [
      "C:\\Users\\dell-pc\\Anaconda3.6\\lib\\site-packages\\lightgbm\\basic.py:450: UserWarning: Converting data to scipy sparse matrix.\n  warnings.warn('Converting data to scipy sparse matrix.')\n"
     ]
    },
    {
     "name": "stdout",
     "output_type": "stream",
     "text": [
      "(16568,)\n"
     ]
    },
    {
     "name": "stdout",
     "output_type": "stream",
     "text": [
      "1292 (0.0564942141165419, 0.025359140081381515, 0.07957201925528411, 0.49437299035369775, -0.014883061658398145)\n3497 (0.09504616791963497, 0.0726246105919004, 0.09024243654398367, 0.741324921135647, -0.09234608985024961)\n3106 (0.09408139306308058, 0.07244620752160258, 0.08945663814447036, 0.7047560222359481, -0.09142053445850917)\n2325 (0.08616052449963223, 0.06269592476489039, 0.08869867514290783, 0.6974169741697416, -0.058252427184466105)\n2245 (0.08677626347111263, 0.06336206896551722, 0.08857897064228236, 0.7660103626587744, -0.04995196926032652)\n2344 (0.09731225216002441, 0.07690981432360733, 0.0895432363424026, 0.597989949748744, -0.0632380952380952)\n1277 (0.09841958194967271, 0.07598944591029033, 0.0909535346164598, 0.5143859649122804, -0.06426056338028152)\n450 (0.0868233603157824, 0.06349306651094266, 0.08943101591540087, 0.476747587013747, -0.10578478964401283)\n20 (0.10391456215211621, 0.07400945030202, 0.09942987060625445, 0.31241084165477906, -0.0139113555483662)\n12 (0.060183483249202585, 0.03594701038310055, 0.12049318951641502, 0.3700854700854703, -0.10079184002147368)\n"
     ]
    },
    {
     "data": {
      "image/png": "[encoded data removed]",
      "text/plain": [
       "<Figure size 432x288 with 1 Axes>"
      ]
     },
     "metadata": {},
     "output_type": "display_data"
    }
   ],
   "source": [
    "pred_leaves_test = models[\"model_l_high_reg\"].predict(X_test, pred_leaf=True)\n",
    "pred_reg_test = models[\"model_l_high_reg\"].predict(X_test).reshape(-1, 1)\n",
    "pred_leaves_test = enc.transform(pred_leaves_test)\n",
    "print(pred_leaves_test.shape,X_test.shape, type(pred_leaves_test),\n",
    "      type(X_test))\n",
    "features_test = scipy.sparse.hstack([X_test, pred_leaves_test])\n",
    "print(features_test.shape, type(features_test))\n",
    "features_test = scipy.sparse.hstack([features_test, pred_reg_test])\n",
    "print(features_test.shape, type(features_test))\n"
   ]
  },
  {
   "cell_type": "code",
   "execution_count": 182,
   "metadata": {},
   "outputs": [
    {
     "name": "stderr",
     "output_type": "stream",
     "text": [
      "C:\\Users\\dell-pc\\Anaconda3.6\\lib\\site-packages\\lightgbm\\basic.py:450: UserWarning: Converting data to scipy sparse matrix.\n  warnings.warn('Converting data to scipy sparse matrix.')\n"
     ]
    },
    {
     "name": "stdout",
     "output_type": "stream",
     "text": [
      "(16568,)\n"
     ]
    },
    {
     "name": "stdout",
     "output_type": "stream",
     "text": [
      "1292 (0.0564942141165419, 0.025359140081381515, 0.07957201925528411, 0.49437299035369775, -0.014883061658398145)\n3497 (0.09504616791963497, 0.0726246105919004, 0.09024243654398367, 0.741324921135647, -0.09234608985024961)\n3106 (0.09408139306308058, 0.07244620752160258, 0.08945663814447036, 0.7047560222359481, -0.09142053445850917)\n2325 (0.08616052449963223, 0.06269592476489039, 0.08869867514290783, 0.6974169741697416, -0.058252427184466105)\n2245 (0.08677626347111263, 0.06336206896551722, 0.08857897064228236, 0.7660103626587744, -0.04995196926032652)\n2344 (0.09731225216002441, 0.07690981432360733, 0.0895432363424026, 0.597989949748744, -0.0632380952380952)\n1277 (0.09841958194967271, 0.07598944591029033, 0.0909535346164598, 0.5143859649122804, -0.06426056338028152)\n450 (0.0868233603157824, 0.06349306651094266, 0.08943101591540087, 0.476747587013747, -0.10578478964401283)\n20 (0.10391456215211621, 0.07400945030202, 0.09942987060625445, 0.31241084165477906, -0.0139113555483662)\n12 (0.060183483249202585, 0.03594701038310055, 0.12049318951641502, 0.3700854700854703, -0.10079184002147368)\n"
     ]
    },
    {
     "data": {
      "image/png": "[encoded data removed]",
      "text/plain": [
       "<Figure size 432x288 with 1 Axes>"
      ]
     },
     "metadata": {},
     "output_type": "display_data"
    }
   ],
   "source": [
    "y_stacker_test = stacker.predict_proba(features_test)[:,1]\n",
    "# y_stacker_test = stacker.predict(features_test)\n",
    "\n",
    "print(y_stacker_test.shape)\n",
    "y1 = []\n",
    "cnt1 = []\n",
    "for i in range(10):\n",
    "    p0 = i*0.1\n",
    "    p1 = (i+1)*0.1\n",
    "    cond=(p0 < y_stacker_test) & (y_stacker_test <=p1)\n",
    "    cnt1.append(sum(cond))\n",
    "    y1.append((Y_test[ycol][cond].mean(), Y_test[ycol][cond].median(),Y_test[ycol][cond].std(),Y_test[ycol][cond].max(),Y_test[ycol][cond].min()))\n",
    "for c,p in zip(cnt1,y1):\n",
    "    print(c,p)\n",
    "\n",
    "plt.bar(np.arange(len(y1))*0.1+0.05,[mean for mean,_, _,_,_ in y1],width=0.08)\n",
    "plt.plot(x0,y0,color='r')\n",
    "# plt.plot(x,y1,color='r')\n",
    "plt.xlim(0,1)\n",
    "plt.ylim(0,0.5)\n",
    "plt.show()"
   ]
  },
  {
   "cell_type": "code",
   "execution_count": 107,
   "metadata": {},
   "outputs": [
    {
     "name": "stdout",
     "output_type": "stream",
     "text": [
      "-83.62003637251831\nLGBMRegressor(boosting_type='gbdt', class_weight=None, colsample_bytree=1.0,\n       learning_rate=0.1, max_depth=8, min_child_samples=20,\n       min_child_weight=0.001, min_split_gain=0, n_estimators=60,\n       n_jobs=-1, num_leaves=32, objective='huber', random_state=0,\n       reg_alpha=0.0, reg_lambda=0.0, silent=True, subsample=1.0,\n       subsample_for_bin=200000, subsample_freq=0)\n"
     ]
    },
    {
     "name": "stdout",
     "output_type": "stream",
     "text": [
      "0 (nan, nan, nan, nan, nan)\n0 (nan, nan, nan, nan, nan)\n0 (nan, nan, nan, nan, nan)\n0 (nan, nan, nan, nan, nan)\n0 (nan, nan, nan, nan, nan)\n0 (nan, nan, nan, nan, nan)\n0 (nan, nan, nan, nan, nan)\n0 (nan, nan, nan, nan, nan)\n0 (nan, nan, nan, nan, nan)\n0 (nan, nan, nan, nan, nan)\n0 (nan, nan, nan, nan, nan)\n0 (nan, nan, nan, nan, nan)\n0 (nan, nan, nan, nan, nan)\n0 (nan, nan, nan, nan, nan)\n0 (nan, nan, nan, nan, nan)\n0 (nan, nan, nan, nan, nan)\n0 (nan, nan, nan, nan, nan)\n0 (nan, nan, nan, nan, nan)\n8 (0.0, 0.0, 0.0, 0.0, 0.0)\n1968 (0.057473772157953705, 0.03354987696960221, 0.08092014902350077, 0.7545388525780681, -0.18314559866499802)\n4738 (0.08044926096555922, 0.060468546340124996, 0.09161749176193139, 0.8724528301886791, -0.09142053445850917)\n10176 (0.08317435662870724, 0.06336994468176771, 0.08186046289900709, 0.8832684824902723, -0.19402173913043474)\n7444 (0.09007473550895564, 0.0667629917071818, 0.09037443613499713, 0.6253333333333333, -0.11037410453701235)\n1248 (0.09570755862615736, 0.08174614031659189, 0.08764712168700695, 0.6666666666666665, -0.0774077407740773)\n217 (0.14410178554775713, 0.1442006269592475, 0.11648581322177418, 0.49923664122137423, -0.0837500000000001)\n1 (0.07679671457905535, 0.07679671457905535, nan, 0.07679671457905535, 0.07679671457905535)\n0 (nan, nan, nan, nan, nan)\n0 (nan, nan, nan, nan, nan)\n0 (nan, nan, nan, nan, nan)\n0 (nan, nan, nan, nan, nan)\n0 (nan, nan, nan, nan, nan)\n0 (nan, nan, nan, nan, nan)\n0 (nan, nan, nan, nan, nan)\n0 (nan, nan, nan, nan, nan)\n0 (nan, nan, nan, nan, nan)\n0 (nan, nan, nan, nan, nan)\n0 (nan, nan, nan, nan, nan)\n0 (nan, nan, nan, nan, nan)\n0 (nan, nan, nan, nan, nan)\n0 (nan, nan, nan, nan, nan)\n"
     ]
    },
    {
     "data": {
      "image/png": "[encoded data removed]",
      "text/plain": [
       "<Figure size 432x288 with 1 Axes>"
      ]
     },
     "metadata": {},
     "output_type": "display_data"
    }
   ],
   "source": [
    "Y_test_pred_reg ={ycol: models[\"model_l_high_reg\"].predict(X_test)/k}\n",
    "print(models[\"model_l_high_reg\"].score(X_test,Y_test[ycol]*k))\n",
    "print(models[\"model_l_high_reg\"])\n",
    "\n",
    "interval = 0.05\n",
    "n = int(1/interval)\n",
    "x0 = np.arange(n+1)*interval\n",
    "y0 = np.ones(x0.shape)* Y_test[ycol].mean()\n",
    "\n",
    "\n",
    "ycol2 = \"y_l_rise\"\n",
    "\n",
    "\n",
    "y1 = []\n",
    "cnt1 = []\n",
    "for i in range(-n,n):\n",
    "    p0 = i*interval\n",
    "    p1 = (i+1)*interval\n",
    "    cond=(p0 < Y_test_pred_reg[ycol]) & (Y_test_pred_reg[ycol] <=p1)\n",
    "    cnt1.append(sum(cond))\n",
    "    y1.append((Y_test[ycol2][cond].mean(), Y_test[ycol2][cond].median(),\n",
    "               Y_test[ycol2][cond].std(),Y_test[ycol2][cond].max(),Y_test[\n",
    "                   ycol2][cond].min()))\n",
    "for c,p in zip(cnt1,y1):\n",
    "    print(c,p)\n",
    "\n",
    "plt.bar(np.arange(-n,n)*interval+interval/2,[mean for mean,_, _,_,_ in y1],\n",
    "        width=0.8*interval)\n",
    "\n",
    "x0 = np.arange(-n,n+1)*interval\n",
    "y0 = np.ones(x0.shape)* Y_test[ycol2].mean()\n",
    "plt.plot(x0,y0,color='r')\n",
    "# plt.plot(x,y1,color='r')\n",
    "plt.xlim(-1,1)\n",
    "plt.ylim(-0.5,0.5)\n",
    "plt.show()\n"
   ]
  },
  {
   "cell_type": "code",
   "execution_count": 84,
   "metadata": {
    "collapsed": true
   },
   "outputs": [
    {
     "name": "stdout",
     "output_type": "stream",
     "text": [
      "0.18145129031875576\n88 0.1258170520740194 0.182016398485488 0.1868335832882338 0.44268774703557323 -0.27145581691036236\n"
     ]
    },
    {
     "name": "stdout",
     "output_type": "stream",
     "text": [
      "\n                  code  open0       open  f1mv_open     rise      pred\n2018-06-25  000063.SZ  13.48  212.80876   203.6523  0.36124  0.259249\n\n                  code  open0     open  f1mv_open      rise      pred\n2018-10-15  000636.SZ   13.0  220.194  228.83238  0.107328  0.250321\n2018-10-29  000636.SZ   13.5  228.663  223.75098  0.101438  0.258331\n\n                  code  open0      open  f1mv_open      rise      pred\n2018-10-11  002217.SZ   5.42  30.63384   28.31652  0.061876  0.259973\n2018-10-12  002217.SZ   5.01  28.31652   27.41220  0.096907  0.255455\n2018-10-15  002217.SZ   4.85  27.41220   25.66008  0.171806  0.263490\n2018-10-16  002217.SZ   4.54  25.66008   24.86880  0.209091  0.267828\n2018-10-17  002217.SZ   4.40  24.86880   24.36012  0.234339  0.263989\n2018-10-19  002217.SZ   4.31  24.36012   27.07308  0.110647  0.270725\n2018-10-22  002217.SZ   4.79  27.07308   29.16432 -0.011628  0.285540\n2018-10-23  002217.SZ   5.16  29.16432   28.31652 -0.009980  0.272794\n2018-10-24  002217.SZ   5.01  28.31652   28.03392  0.000000  0.260755\n\n                  code  open0       open  f1mv_open      rise      pred\n2018-10-23  002236.SZ  12.85  540.36820  492.00840  0.272650  0.258414\n2018-10-24  002236.SZ  11.70  492.00840  462.57200  0.353636  0.277721\n2018-10-26  002236.SZ  11.55  485.70060  482.33644  0.298169  0.250077\n2018-10-31  002236.SZ  11.24  472.66448  500.41880  0.251261  0.267725\n\n                  code  open0       open  f1mv_open      rise      pred\n2018-01-25  002359.SZ  24.48  126.58608  122.13902  0.206605  0.256355\n2018-09-13  002359.SZ   7.89   40.79919   40.69577  0.393901  0.299942\n2018-09-14  002359.SZ   7.87   40.69577   39.97183  0.419146  0.306511\n2018-09-17  002359.SZ   7.73   39.97183   41.36800  0.371250  0.284569\n2018-09-18  002359.SZ   8.00   41.36800   44.16034  0.284543  0.289663\n2018-09-19  002359.SZ   8.54   44.16034   44.62573  0.271147  0.309149\n2018-09-20  002359.SZ   8.63   44.62573   44.88428  0.263825  0.308856\n2018-09-21  002359.SZ   8.68   44.88428   50.93435  0.113706  0.317688\n2018-09-25  002359.SZ   9.85   50.93435   51.24461  0.104945  0.283138\n2018-09-28  002359.SZ  10.12   52.33052   50.10699  0.031992  0.305876\n2018-10-08  002359.SZ   9.69   50.10699   48.40056  0.068376  0.322325\n2018-10-09  002359.SZ   9.36   48.40056   48.09030  0.075269  0.273726\n2018-10-10  002359.SZ   9.30   48.09030   43.69495  0.183432  0.265188\n2018-10-11  002359.SZ   8.45   43.69495   38.78250  0.360000  0.296397\n2018-10-12  002359.SZ   7.50   38.78250   41.88510  0.338272  0.287431\n2018-10-15  002359.SZ   8.10   41.88510   45.50480  0.244318  0.292287\n2018-10-16  002359.SZ   8.80   45.50480   45.50480  0.244318  0.296754\n2018-10-17  002359.SZ   8.80   45.50480   46.95268  0.205947  0.301041\n2018-10-18  002359.SZ   9.08   46.95268   39.24789  0.442688  0.285514\n2018-10-19  002359.SZ   7.59   39.24789   41.98852  0.348522  0.313714\n2018-10-22  002359.SZ   8.12   41.98852   46.74584  0.211283  0.307056\n2018-10-23  002359.SZ   9.04   46.74584   44.78086  0.264434  0.304127\n2018-10-24  002359.SZ   8.66   44.78086   45.03941  0.257176  0.303730\n2018-10-25  002359.SZ   8.71   45.03941   45.76335  0.237288  0.296673\n2018-10-26  002359.SZ   8.85   45.76335   46.48729  0.218020  0.307626\n2018-10-29  002359.SZ   8.99   46.48729   48.91766  0.157505  0.273572\n2018-10-30  002359.SZ   9.46   48.91766   49.12450  0.152632  0.287552\n2018-10-31  002359.SZ   9.50   49.12450   48.96937  0.156283  0.263750\n2018-11-01  002359.SZ   9.47   48.96937   48.19372  0.174893  0.282154\n2018-11-02  002359.SZ   9.32   48.19372   47.15952  0.200658  0.305456\n2018-11-05  002359.SZ   9.12   47.15952   49.48647  0.144201  0.311307\n2018-11-06  002359.SZ   9.57   49.48647   48.86595  0.158730  0.263271\n2018-11-07  002359.SZ   9.45   48.86595   48.24543  0.173633  0.287921\n2018-11-20  002359.SZ   8.95   46.28045   46.64242  0.129712  0.276458\n\n                  code  open0      open  f1mv_open      rise      pred\n2018-10-11  300679.SZ  23.50  42.67600   38.95320  0.136597  0.260983\n2018-10-22  300679.SZ  21.75  39.49800   41.11424  0.174470  0.254100\n2018-10-24  300679.SZ  22.11  40.15176   39.22560  0.231019  0.256078\n\n                  code  open0      open  f1mv_open      rise      pred\n2018-09-10  300700.SZ  31.87  32.02935   30.55200  0.065789  0.274632\n2018-09-12  300700.SZ  30.59  30.74295   31.61730  0.009536  0.259837\n2018-09-19  300700.SZ  30.03  30.18015   29.15505 -0.015512  0.261256\n2018-09-20  300700.SZ  29.01  29.15505   28.14000  0.020000  0.250693\n2018-09-21  300700.SZ  28.00  28.14000   28.60230  0.001054  0.257084\n2018-10-08  300700.SZ  26.28  26.41140   25.55715  0.086905  0.273315\n2018-10-11  300700.SZ  26.21  26.34105   25.33605  0.040063  0.266899\n2018-10-12  300700.SZ  25.21  25.33605   23.81850  0.106329  0.258332\n2018-10-16  300700.SZ  24.33  24.45165   24.22050  0.087967  0.250137\n2018-10-19  300700.SZ  23.05  23.16525   24.23055  0.175861  0.251287\n2018-10-23  300700.SZ  25.01  25.13505   24.26070  0.174399  0.256352\n2018-10-24  300700.SZ  24.14  24.26070   22.65270  0.257764  0.264206\n2018-10-25  300700.SZ  22.54  22.65270   22.86375  0.246154  0.260588\n2018-10-26  300700.SZ  22.75  22.86375   23.11500  0.232609  0.262065\n2018-10-29  300700.SZ  23.00  23.11500   22.71300  0.254425  0.270554\n2018-10-31  300700.SZ  23.52  23.63760   24.17025  0.178794  0.256262\n2018-11-05  300700.SZ  25.35  25.47675   24.90390  0.144068  0.253880\n2018-11-07  300700.SZ  23.82  23.93910   24.08985  0.182728  0.257846\n2018-11-08  300700.SZ  23.97  24.08985   23.48685  0.213094  0.257679\n\n                  code  open0      open  f1mv_open      rise      pred\n2018-10-23  600345.SH  19.18  37.26674   36.06208  0.137931  0.250590\n2018-10-24  600345.SH  18.56  36.06208   33.92478  0.209622  0.262643\n2018-10-26  600345.SH  17.80  34.58540   34.72141  0.181869  0.258158\n2018-10-29  600345.SH  17.87  34.72141   34.81856  0.201451  0.253707\n\n                  code  open0       open  f1mv_open      rise      pred\n2018-10-29  600779.SH  27.99  178.49223  162.54973  0.206355  0.258189\n\n                  code  open0      open  f1mv_open      rise      pred\n2018-10-17  603799.SH  39.60  56.11320   48.46140  0.182164  0.279348\n2018-10-22  603799.SH  35.20  49.87840   51.43710  0.113774  0.261490\n2018-10-23  603799.SH  36.30  51.43710   48.27719  0.186674  0.278052\n2018-10-24  603799.SH  34.07  48.27719   48.23468  0.187720  0.268323\n2018-10-25  603799.SH  34.04  48.23468   49.94925  0.146950  0.250644\n2018-10-26  603799.SH  35.25  49.94925   48.17800  0.189118  0.268515\n2018-10-29  603799.SH  34.00  48.17800   44.67801  0.282271  0.287208\n2018-10-31  603799.SH  33.29  47.17193   48.03630  0.192625  0.258202\n2018-11-01  603799.SH  33.90  48.03630   49.02820  0.168497  0.255078\n2018-11-02  603799.SH  34.60  49.02820   53.13750  0.078133  0.266405\n2018-11-05  603799.SH  37.50  53.13750   52.99580  0.081016  0.256127\n"
     ]
    }
   ],
   "source": [
    "cond = Y_test_pred_reg[ycol]>0.25\n",
    "print(Y_test[ycol2][cond].mean())\n",
    "print(sum(cond),Y_test[ycol][cond].mean(), Y_test[ycol][cond].median(),Y_test[ycol][cond].std(),Y_test[ycol][cond].max(),Y_test[ycol][cond].min())\n",
    "\n",
    "df_combined = df_all.loc[test_date_idx][[\"code\",\"open0\",\"open\",\"f1mv_open\"]]\n",
    "df_combined[\"rise\"] = Y_test[\"y_l_rise\"].copy()\n",
    "df_combined[\"pred\"] = Y_test_pred_reg[ycol].copy()\n",
    "for code, df in df_combined[cond].groupby(\"code\"):\n",
    "    print(\"\\n\",df)"
   ]
  },
  {
   "cell_type": "code",
   "execution_count": 22,
   "metadata": {},
   "outputs": [
    {
     "name": "stdout",
     "output_type": "stream",
     "text": [
      "68 545\nIndex(['adj_factor', 'amt', 'change_rate_amt', 'change_rate_amt',\n       'change_rate_amt', 'change_rate_amt', 'change_rate_amt',\n       'change_rate_amt', 'change_rate_amt', 'change_rate_amt',\n       ...\n       'sz_change_rate_vol', 'sz_change_rate_vol', 'sz_change_rate_vol',\n       'sz_close', 'sz_high', 'sz_low', 'sz_open', 'sz_vol', 'vol', 'vol0'],\n      dtype='object', length=545)\n{'hs300_change_rate_high', 'sz50_change_rate_high', 'sz50_open', 'cyb_change_rate_low', 'cyb_vol', 'sh_close', 'sz_change_rate_close', 'change_rate_close', 'low', 'hs300_close', 'close0', 'hs300_change_rate_close', 'cyb_change_rate_close', 'sz_open', 'vol0', 'sz_high', 'hs300_vol', 'sz50_change_rate_vol', 'close', 'hs300_change_rate_open', 'change_rate_high', 'change_rate_amt', 'hs300_open', 'sh_change_rate_vol', 'sz50_change_rate_low', 'hs300_high', 'sh_change_rate_open', 'hs300_low', 'open0', 'sh_change_rate_close', 'sh_change_rate_low', 'sz_change_rate_high', 'adj_factor', 'amt', 'high', 'sh_open', 'sz_change_rate_open', 'hs300_change_rate_low', 'cyb_change_rate_open', 'cyb_open', 'open', 'cyb_high', 'sh_vol', 'sz50_low', 'sz_vol', 'low0', 'sh_low', 'sz_change_rate_vol', 'sz_close', 'change_rate_open', 'vol', 'high0', 'sz_low', 'sz_change_rate_low', 'cyb_change_rate_vol', 'sh_change_rate_high', 'sz50_change_rate_close', 'sz50_vol', 'change_rate_low', 'hs300_change_rate_vol', 'sz50_close', 'cyb_low', 'change_rate_vol', 'cyb_close', 'sz50_high', 'sz50_change_rate_open', 'cyb_change_rate_high', 'sh_high'}\n"
     ]
    }
   ],
   "source": [
    "print(len(set(X_train.columns)),len(X_train.columns))\n",
    "print(X_train.columns)\n",
    "# print(X_train.iloc[:50,[2,3]])\n",
    "print(set(X_train.columns))"
   ]
  },
  {
   "cell_type": "code",
   "execution_count": null,
   "metadata": {},
   "outputs": [],
   "source": []
  }
 ],
 "metadata": {
  "kernelspec": {
   "display_name": "Python 2",
   "language": "python",
   "name": "python2"
  },
  "language_info": {
   "codemirror_mode": {
    "name": "ipython",
    "version": 2
   },
   "file_extension": ".py",
   "mimetype": "text/x-python",
   "name": "python",
   "nbconvert_exporter": "python",
   "pygments_lexer": "ipython2",
   "version": "2.7.6"
  }
 },
 "nbformat": 4,
 "nbformat_minor": 0
}
