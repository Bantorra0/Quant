{
 "cells": [
  {
   "cell_type": "code",
   "execution_count": 1,
   "metadata": {
    "collapsed": true
   },
   "outputs": [],
   "source": [
    "import numpy as np\n",
    "import pandas as pd\n",
    "import matplotlib.pyplot as plt\n",
    "import customized_obj as cus_obj\n",
    "import lightgbm as lgbm\n",
    "import xgboost as xgb\n"
   ]
  },
  {
   "cell_type": "code",
   "execution_count": 169,
   "metadata": {
    "collapsed": true
   },
   "outputs": [
    {
     "name": "stdout",
     "output_type": "stream",
     "text": [
      "(1500, 20) (1500,)\n[0.54811774 0.55454269 0.56978055 0.57408932 0.60213203 0.63699211\n 0.69773507 0.70205588 0.71293162 0.7834396 ]\n1490    0.011379\n1491   -0.042094\n1492    0.154812\n1493    0.213089\n1494   -0.068200\n1495   -0.044512\n1496    0.147399\n1497   -0.125589\n1498   -0.158236\n1499    0.063883\ndtype: float64\n(1000, 20) (500,)\n"
     ]
    }
   ],
   "source": [
    "k = 1500\n",
    "X = np.random.uniform(-1, 1, [k, 20])\n",
    "y_true = (np.random.normal(0,0.3,k)+1)*\\\n",
    "         (np.random.normal(0,0.3,k)+np.random.uniform(-0.25,0.27,k)\n",
    "          +(1+np.random.normal(0,0.5,k)+np.random.uniform(-0.2,0.2,k))*X[:, 0] \n",
    "          + 2 * (1+np.random.normal(0,0.3,k)+np.random.uniform(-0.3,0.3,k)) * np.power(X[:, 1]+np.random.normal(0,0.21,k), 2)\n",
    "          - (1+np.random.normal(0,0.4,k)+np.random.uniform(-0.2,0.2,k)) * np.power(X[:, 2]+np.random.normal(0,0.22,k), 3))\n",
    "y_true = pd.Series((y_true - np.mean(y_true))/(max(y_true)-min(y_true))*1.5)\n",
    "print(X.shape, y_true.shape)\n",
    "print(np.sort(y_true)[-10:])\n",
    "print(y_true[-10:])\n",
    "\n",
    "split_point = int(k/3*2)\n",
    "X_train,X_test = X[:split_point],X[split_point:]\n",
    "y_train,y_test = y_true[:split_point],y_true[split_point:]\n",
    "print(X_train.shape,y_test.shape)"
   ]
  },
  {
   "cell_type": "code",
   "execution_count": 173,
   "metadata": {
    "collapsed": true
   },
   "outputs": [
    {
     "data": {
      "text/plain": [
       "LGBMRegressor(alpha=0.05, boosting_type='gbdt', class_weight=None,\n       colsample_bytree=1.0, learning_rate=0.1, max_depth=-1,\n       min_child_samples=20, min_child_weight=0.001, min_split_gain=0,\n       n_estimators=50, n_jobs=-1, num_leaves=31, objective='regression',\n       random_state=0, reg_alpha=0.0, reg_lambda=0.0, silent=True,\n       subsample=1.0, subsample_for_bin=200000, subsample_freq=0,\n       verbosity=-2)"
      ]
     },
     "execution_count": 173,
     "metadata": {},
     "output_type": "execute_result"
    }
   ],
   "source": [
    "# dtrain = lgbm.Dataset(data=x[:1000],label=y_true[:1000])\n",
    "# dtest = lgbm.Dataset(data=x[1000:],label=y_true[1000:])\n",
    "\n",
    "params={\"verbosity\":-2, \"alpha\":0.05}\n",
    "# reg = lgbm.train(params=params,train_set=dtrain,num_boost_round=30,fobj=\"regression_l1\")\n",
    "reg = lgbm.LGBMRegressor(n_estimators=50,objective=\"regression\", random_state=0, min_split_gain=0)\n",
    "reg.set_params(**params)\n",
    "# reg.fit()\n"
   ]
  },
  {
   "cell_type": "code",
   "execution_count": 174,
   "metadata": {
    "collapsed": true
   },
   "outputs": [
    {
     "data": {
      "text/plain": [
       "LGBMRegressor(alpha=0.05, boosting_type='gbdt', class_weight=None,\n       colsample_bytree=1.0, learning_rate=0.1, max_depth=-1,\n       min_child_samples=20, min_child_weight=0.001, min_split_gain=0,\n       n_estimators=50, n_jobs=-1, num_leaves=31, objective='regression',\n       random_state=0, reg_alpha=0.0, reg_lambda=0.0, silent=True,\n       subsample=1.0, subsample_for_bin=200000, subsample_freq=0,\n       verbosity=-2)"
      ]
     },
     "execution_count": 174,
     "metadata": {},
     "output_type": "execute_result"
    }
   ],
   "source": [
    "reg.fit(X_train, y_train)\n"
   ]
  },
  {
   "cell_type": "code",
   "execution_count": 175,
   "metadata": {},
   "outputs": [
    {
     "name": "stdout",
     "output_type": "stream",
     "text": [
      "0.41418792759216366\nLGBMRegressor(alpha=0.05, boosting_type='gbdt', class_weight=None,\n       colsample_bytree=1.0, learning_rate=0.1, max_depth=-1,\n       min_child_samples=20, min_child_weight=0.001, min_split_gain=0,\n       n_estimators=50, n_jobs=-1, num_leaves=31, objective='regression',\n       random_state=0, reg_alpha=0.0, reg_lambda=0.0, silent=True,\n       subsample=1.0, subsample_for_bin=200000, subsample_freq=0,\n       verbosity=-2)\n"
     ]
    },
    {
     "name": "stdout",
     "output_type": "stream",
     "text": [
      "0 (nan, nan, nan, nan, nan)\n0 (nan, nan, nan, nan, nan)\n0 (nan, nan, nan, nan, nan)\n0 (nan, nan, nan, nan, nan)\n0 (nan, nan, nan, nan, nan)\n0 (nan, nan, nan, nan, nan)\n0 (nan, nan, nan, nan, nan)\n0 (nan, nan, nan, nan, nan)\n0 (nan, nan, nan, nan, nan)\n0 (nan, nan, nan, nan, nan)\n0 (nan, nan, nan, nan, nan)\n0 (nan, nan, nan, nan, nan)\n0 (nan, nan, nan, nan, nan)\n2 (-0.09943006996729217, -0.09943006996729217, 0.036994529908321735, -0.07327098700230933, -0.12558915293227502)\n2 (-0.16884360049862454, -0.16884360049862454, 0.03491251951587506, -0.1441567212006416, -0.19353047979660748)\n9 (-0.1518558311304662, -0.1658412917454101, 0.10666580969898191, 0.06388287245779914, -0.3034853344440881)\n32 (-0.164715727858418, -0.15887325423824844, 0.07914099901824476, 0.004807207755839987, -0.31652249711421654)\n55 (-0.1039679089459382, -0.1024039969590563, 0.07041061293494302, 0.044655527854652974, -0.28702218171278115)\n70 (-0.08301268116792393, -0.0745347972396712, 0.12135756434139452, 0.42888841234673963, -0.3616226902256833)\n90 (-0.028102983426113642, -0.04602608230075149, 0.10581099044146378, 0.3469112245864499, -0.30821758711398184)\n90 (0.04235798643632019, 0.021465559670720138, 0.1291763272787069, 0.697735072653385, -0.18788840974477988)\n61 (0.058667852765214815, 0.029477961807758454, 0.1106176044035036, 0.5141734452380047, -0.14363752869351257)\n36 (0.06265348990579875, 0.06137347410114265, 0.11013887588688012, 0.43227891781010586, -0.12536636916487687)\n22 (0.12443862693794218, 0.0978352433868555, 0.12843504738480935, 0.4972823272637733, -0.04057299737383296)\n16 (0.19380818825221582, 0.1466723995641536, 0.13429740967602033, 0.49228377579092786, 0.04728760498792879)\n10 (0.2880943883532068, 0.29571170625213694, 0.20467558715199943, 0.6369921129802127, 0.005454984676636646)\n4 (0.3230377016966366, 0.2117540337800387, 0.2615269022189067, 0.7129316195298486, 0.15571111969662033)\n1 (0.1497260949688766, 0.1497260949688766, nan, 0.1497260949688766, 0.1497260949688766)\n0 (nan, nan, nan, nan, nan)\n0 (nan, nan, nan, nan, nan)\n0 (nan, nan, nan, nan, nan)\n0 (nan, nan, nan, nan, nan)\n0 (nan, nan, nan, nan, nan)\n0 (nan, nan, nan, nan, nan)\n0 (nan, nan, nan, nan, nan)\n0 (nan, nan, nan, nan, nan)\n0 (nan, nan, nan, nan, nan)\n0 (nan, nan, nan, nan, nan)\n0 (nan, nan, nan, nan, nan)\n0 (nan, nan, nan, nan, nan)\n"
     ]
    },
    {
     "data": {
      "image/png": "[encoded data removed]",
      "text/plain": [
       "<matplotlib.figure.Figure at 0xcbe8320>"
      ]
     },
     "metadata": {},
     "output_type": "display_data"
    }
   ],
   "source": [
    "print(reg.score(X_test, y_test))\n",
    "print(reg)\n",
    "y_test_pred =reg.predict(X_test)\n",
    "\n",
    "interval = 0.05\n",
    "n = int(1/interval)\n",
    "x0 = np.arange(n+1)*interval\n",
    "y0 = np.ones(x0.shape)* y_test.mean()\n",
    "\n",
    "\n",
    "\n",
    "\n",
    "y1 = []\n",
    "cnt1 = []\n",
    "for i in range(-n,n):\n",
    "    p0 = i*interval\n",
    "    p1 = (i+1)*interval\n",
    "    cond=(p0 < y_test_pred) & (y_test_pred <=p1)\n",
    "    cnt1.append(sum(cond))\n",
    "    y1.append((y_test[cond].mean(), y_test[cond].median(),\n",
    "               y_test[cond].std(),y_test[cond].max(),y_test[cond].min()))\n",
    "for c,p in zip(cnt1,y1):\n",
    "    print(c,p)\n",
    "\n",
    "plt.bar(np.arange(-n,n)*interval+interval/2,[mean for mean,_, _,_,_ in y1],\n",
    "        width=0.8*interval)\n",
    "\n",
    "x0 = np.arange(-n,n+1)*interval\n",
    "y0 = np.ones(x0.shape)* y_test.mean()\n",
    "plt.plot(x0,y0,color='r')\n",
    "# plt.plot(x,y1,color='r')\n",
    "plt.xlim(-1,1)\n",
    "plt.ylim(-0.5,0.5)\n",
    "plt.show()\n"
   ]
  },
  {
   "cell_type": "code",
   "execution_count": 20,
   "metadata": {},
   "outputs": [
    {
     "data": {
      "text/plain": [
       "([<matplotlib.axis.XTick at 0x21425274fd0>,\n  <matplotlib.axis.XTick at 0x21425274048>,\n  <matplotlib.axis.XTick at 0x21425274390>,\n  <matplotlib.axis.XTick at 0x21424f32e10>,\n  <matplotlib.axis.XTick at 0x21424f24320>,\n  <matplotlib.axis.XTick at 0x21424f24828>,\n  <matplotlib.axis.XTick at 0x21424f24d30>,\n  <matplotlib.axis.XTick at 0x21424f53278>,\n  <matplotlib.axis.XTick at 0x21424f53780>,\n  <matplotlib.axis.XTick at 0x21424f24908>],\n <a list of 10 Text xticklabel objects>)"
      ]
     },
     "execution_count": 20,
     "metadata": {},
     "output_type": "execute_result"
    },
    {
     "data": {
      "image/png": "[encoded data removed]",
      "text/plain": [
       "<Figure size 432x288 with 1 Axes>"
      ]
     },
     "metadata": {},
     "output_type": "display_data"
    }
   ],
   "source": [
    "plt.figure()\n",
    "line1 = plt.plot(dates,df_asset_values[\"my_model\"],'r')\n",
    "line2 = plt.plot(dates,df_asset_values[\"hs300\"],'b')\n",
    "ticks = [dates[dates>=\"2018-{:02d}-01\".format(i)].min() for i in\n",
    "              range(1,12) if (dates>=\"2018-{:02d}-01\".format(i)).any()]\n",
    "import datetime\n",
    "labels = [datetime.datetime.strptime(t,\"%Y-%m-%d\").strftime(\"%#m/%#d\") for t\n",
    "          in \n",
    "          ticks]\n",
    "plt.xticks(ticks,labels)"
   ]
  },
  {
   "cell_type": "code",
   "execution_count": 15,
   "metadata": {},
   "outputs": [],
   "source": []
  },
  {
   "cell_type": "code",
   "execution_count": null,
   "metadata": {},
   "outputs": [],
   "source": []
  }
 ],
 "metadata": {
  "kernelspec": {
   "display_name": "Python 2",
   "language": "python",
   "name": "python2"
  },
  "language_info": {
   "codemirror_mode": {
    "name": "ipython",
    "version": 2
   },
   "file_extension": ".py",
   "mimetype": "text/x-python",
   "name": "python",
   "nbconvert_exporter": "python",
   "pygments_lexer": "ipython2",
   "version": "2.7.6"
  }
 },
 "nbformat": 4,
 "nbformat_minor": 0
}
