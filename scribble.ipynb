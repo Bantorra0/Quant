{
 "cells": [
  {
   "cell_type": "code",
   "execution_count": 1,
   "metadata": {
    "collapsed": true
   },
   "outputs": [
    {
     "name": "stdout",
     "output_type": "stream",
     "text": [
      "XGBRegressor_20high\nXGBRegressor_5low\nXGBRegressor_5high\nstart: 2015-12-13\nmin_date 2015-12-14\n"
     ]
    },
    {
     "name": "stdout",
     "output_type": "stream",
     "text": [
      "count stck 38\n(25306, 144)\n(25306, 144)\n"
     ]
    },
    {
     "name": "stdout",
     "output_type": "stream",
     "text": [
      "(705, 395) 705\n(25306, 539)\n"
     ]
    },
    {
     "name": "stdout",
     "output_type": "stream",
     "text": [
      "df_all: (7311, 539)\n"
     ]
    }
   ],
   "source": [
    "import trading\n",
    "import ml_model\n",
    "import pandas as pd\n",
    "import matplotlib.pyplot as plt\n",
    "\n",
    "model_type = \"XGBRegressor\"\n",
    "\n",
    "models = {}\n",
    "models[\"model_l_high\"] = ml_model.load_model(model_type,pred_period=20,is_high=True)\n",
    "models[\"model_s_low\"] = ml_model.load_model(model_type,pred_period=5,is_high=False)\n",
    "models[\"model_s_high\"] = ml_model.load_model(model_type,pred_period=5,is_high=True)\n",
    "# with open(os.path.join(os.getcwd(), f_name1), \"rb\") as f:\n",
    "#     models[\"model_l_high\"] = pickle.load(f)\n",
    "# with open(os.path.join(os.getcwd(), f_name2), \"rb\") as f:\n",
    "#     models[\"model_s_low\"] = pickle.load(f)\n",
    "# with open(os.path.join(os.getcwd(), f_name3), \"rb\") as f:\n",
    "#     models[\"model_s_high\"] = pickle.load(f)\n",
    "\n",
    "backtester = trading.BackTest(start=\"2018-01-01\")\n",
    "df_asset_values,orders,transactions = backtester.backtest(models)\n",
    "for row in df_asset_values.itertuples():\n",
    "    print(row)\n",
    "print(\"Transactions:\",len(transactions))\n",
    "for e in sorted(transactions,key=lambda x:(x[1],x[0])):\n",
    "    print(e)"
   ]
  }
 ],
 "metadata": {
  "kernelspec": {
   "display_name": "Python 2",
   "language": "python",
   "name": "python2"
  },
  "language_info": {
   "codemirror_mode": {
    "name": "ipython",
    "version": 2
   },
   "file_extension": ".py",
   "mimetype": "text/x-python",
   "name": "python",
   "nbconvert_exporter": "python",
   "pygments_lexer": "ipython2",
   "version": "2.7.6"
  }
 },
 "nbformat": 4,
 "nbformat_minor": 0
}
